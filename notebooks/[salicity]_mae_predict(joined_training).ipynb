{
  "cells": [
    {
      "cell_type": "code",
      "execution_count": null,
      "metadata": {
        "id": "JBPskR0TNpIn"
      },
      "outputs": [],
      "source": [
        "import pandas as pd\n",
        "import numpy as np\n",
        "import torch\n",
        "import torch.nn as nn\n",
        "from torch.utils.data import Dataset, DataLoader\n",
        "import os\n",
        "import matplotlib.pyplot as plt\n",
        "from sklearn.metrics import mean_absolute_error, mean_squared_error, r2_score\n",
        "import random\n"
      ]
    },
    {
      "cell_type": "markdown",
      "metadata": {
        "id": "3hac5eUTPth6"
      },
      "source": [
        "## Model loading"
      ]
    },
    {
      "cell_type": "code",
      "execution_count": null,
      "metadata": {
        "id": "-gqOAQ0OPP1w"
      },
      "outputs": [],
      "source": [
        "class MaskedAutoEncoder(nn.Module):\n",
        "    def __init__(self, in_dim=9, maskable_dim=4, embed_dim=64, depth=4):\n",
        "        super().__init__()\n",
        "        self.in_dim = in_dim\n",
        "        self.maskable_dim = maskable_dim\n",
        "\n",
        "        self.mask_token = nn.Parameter(torch.zeros(in_dim))\n",
        "\n",
        "        layers = []\n",
        "        for _ in range(depth):\n",
        "            layers += [\n",
        "                nn.Linear(embed_dim if layers else in_dim, embed_dim),\n",
        "                nn.GELU(),\n",
        "                nn.LayerNorm(embed_dim)\n",
        "            ]\n",
        "        self.encoder = nn.Sequential(*layers)\n",
        "\n",
        "        self.decoder = nn.Sequential(\n",
        "            nn.Linear(embed_dim, embed_dim),\n",
        "            nn.GELU(),\n",
        "            nn.Linear(embed_dim, in_dim)\n",
        "        )\n",
        "\n",
        "    def forward(self, x, mask):\n",
        "        x = torch.where(mask, x, self.mask_token)\n",
        "        z = self.encoder(x)\n",
        "        return self.decoder(z)"
      ]
    },
    {
      "cell_type": "code",
      "execution_count": null,
      "metadata": {
        "id": "bLNnAyPDNxH7"
      },
      "outputs": [],
      "source": [
        "MODEL_PATH = 'model.pt'"
      ]
    },
    {
      "cell_type": "code",
      "execution_count": null,
      "metadata": {
        "colab": {
          "base_uri": "https://localhost:8080/"
        },
        "id": "QY-h_ASzO5lr",
        "outputId": "86635105-0b2b-4728-a790-1c53733b39aa"
      },
      "outputs": [
        {
          "output_type": "stream",
          "name": "stdout",
          "text": [
            "Loading model from model.pt\n"
          ]
        }
      ],
      "source": [
        "if os.path.exists(MODEL_PATH):\n",
        "    print(f\"Loading model from {MODEL_PATH}\")\n",
        "    model = MaskedAutoEncoder(in_dim=9, embed_dim=128).cuda()\n",
        "    model.load_state_dict(torch.load(MODEL_PATH))\n",
        "    model.eval()\n",
        "else:\n",
        "    print(f\"MAE model not found!\")"
      ]
    },
    {
      "cell_type": "code",
      "source": [
        "for param in model.parameters():\n",
        "    param.requires_grad = True\n"
      ],
      "metadata": {
        "id": "4gN4jNlhVi4P"
      },
      "execution_count": null,
      "outputs": []
    },
    {
      "cell_type": "markdown",
      "metadata": {
        "id": "VIZ3-V12PwLd"
      },
      "source": [
        "## Data loading"
      ]
    },
    {
      "cell_type": "code",
      "execution_count": null,
      "metadata": {
        "id": "9h-CKam7gdWH"
      },
      "outputs": [],
      "source": [
        "def random_test_patches_mask(df: pd.DataFrame, grid_size=(20, 20), n_patches=10, seed=42) -> pd.Series:\n",
        "    \"\"\"\n",
        "    Losuje n_patches z globalnej siatki i tworzy maskę testową.\n",
        "\n",
        "    Args:\n",
        "        df: DataFrame z kolumnami 'lat' i 'lon'.\n",
        "        grid_size: (n_lat_bins, n_lon_bins) – ile kafli w pionie i poziomie.\n",
        "        n_patches: ile patchy ma trafić do testu.\n",
        "        seed: dla powtarzalności.\n",
        "\n",
        "    Returns:\n",
        "        test_mask: pd.Series[bool] z True dla testowych patchy.\n",
        "    \"\"\"\n",
        "    lat_bins = np.linspace(df[\"lat\"].min(), df[\"lat\"].max(), grid_size[0] + 1)\n",
        "    lon_bins = np.linspace(df[\"lon\"].min(), df[\"lon\"].max(), grid_size[1] + 1)\n",
        "\n",
        "    lat_inds = np.digitize(df[\"lat\"], bins=lat_bins) - 1\n",
        "    lon_inds = np.digitize(df[\"lon\"], bins=lon_bins) - 1\n",
        "\n",
        "    patch_ids = lat_inds * grid_size[1] + lon_inds\n",
        "    df = df.copy()\n",
        "    df[\"patch_id\"] = patch_ids\n",
        "\n",
        "    unique_patches = df[\"patch_id\"].unique()\n",
        "    rng = np.random.default_rng(seed)\n",
        "    test_patch_ids = rng.choice(unique_patches, size=n_patches, replace=False)\n",
        "\n",
        "    test_mask = df[\"patch_id\"].isin(test_patch_ids)\n",
        "    return test_mask"
      ]
    },
    {
      "cell_type": "code",
      "execution_count": null,
      "metadata": {
        "colab": {
          "base_uri": "https://localhost:8080/"
        },
        "id": "YUOyThUAPzJC",
        "outputId": "9cb2acee-3b3e-474b-fadf-c22a29b69bef"
      },
      "outputs": [
        {
          "output_type": "stream",
          "name": "stdout",
          "text": [
            "X_train_large shape: torch.Size([592390, 9])\n",
            "y_train_large  shape: (592390,)\n",
            "X_train shape: torch.Size([118478, 9])\n",
            "X_test  shape: torch.Size([17522, 9])\n",
            "y_train shape: torch.Size([118478])\n",
            "y_test  shape: (17522,)\n"
          ]
        }
      ],
      "source": [
        "df = pd.read_parquet(\"./data/processed/salinity_00_train_data.parquet\")\n",
        "cols = [\"temperature_00\", \"oxygen_00\", \"nitrate_00\", \"phosphate_00\"]\n",
        "\n",
        "def encode_geospatial_features(df: pd.DataFrame) -> np.ndarray:\n",
        "    lat_rad = np.radians(df[\"lat\"].to_numpy())\n",
        "    lon_rad = np.radians(df[\"lon\"].to_numpy())\n",
        "\n",
        "    sin_lat = np.sin(lat_rad)\n",
        "    cos_lat = np.cos(lat_rad)\n",
        "    sin_lon = np.sin(lon_rad)\n",
        "    cos_lon = np.cos(lon_rad)\n",
        "\n",
        "    depth = df[\"depth\"].to_numpy(dtype=np.float32)\n",
        "    norm_depth = (depth - depth.min()) / (depth.max() - depth.min())\n",
        "\n",
        "    geo_features = np.stack([sin_lat, cos_lat, sin_lon, cos_lon, norm_depth], axis=1)\n",
        "    return geo_features.astype(np.float32)\n",
        "\n",
        "class Scaler:\n",
        "    def __init__(self, mean: dict[str, float], std: dict[str, float]):\n",
        "        self.mean = mean\n",
        "        self.std = std\n",
        "        self.cols = list(mean.keys())\n",
        "\n",
        "    @classmethod\n",
        "    def from_dataframe(cls, df, cols):\n",
        "        mean = {col: df[col].mean() for col in cols}\n",
        "        std = {col: df[col].std() for col in cols}\n",
        "        return cls(mean, std)\n",
        "\n",
        "    def normalize(self, tensor: torch.Tensor, cols: list[str]) -> torch.Tensor:\n",
        "        for i, col in enumerate(cols):\n",
        "            tensor[:, i] = (tensor[:, i] - self.mean[col]) / self.std[col]\n",
        "        return tensor\n",
        "\n",
        "    def denormalize(self, tensor: torch.Tensor, cols: list[str]) -> torch.Tensor:\n",
        "        means = torch.tensor([self.mean[c] for c in cols], dtype=tensor.dtype, device=tensor.device)\n",
        "        stds  = torch.tensor([self.std[c]  for c in cols], dtype=tensor.dtype, device=tensor.device)\n",
        "        return tensor * stds + means\n",
        "\n",
        "    def mae(self, reconstructed: torch.Tensor, ground_truth: torch.Tensor, cols: list[str]) -> float:\n",
        "        rec_denorm = self.denormalize(reconstructed.clone(), cols)\n",
        "        gt_denorm = self.denormalize(ground_truth.clone(), cols)\n",
        "        return torch.abs(rec_denorm - gt_denorm).mean().item()\n",
        "\n",
        "    def masked_mae(self, reconstructed: torch.Tensor, ground_truth: torch.Tensor, mask: torch.Tensor, cols: list[str]) -> float:\n",
        "        rec_denorm = self.denormalize(reconstructed.clone(), cols)\n",
        "        gt_denorm = self.denormalize(ground_truth.clone(), cols)\n",
        "\n",
        "        abs_error = torch.abs(rec_denorm - gt_denorm)\n",
        "        masked_error = abs_error * mask\n",
        "\n",
        "        mae = masked_error.sum() / mask.sum().clamp(min=1.0)\n",
        "        return mae.item()\n",
        "\n",
        "df = df.dropna(subset=cols).reset_index(drop=True)\n",
        "scaler = Scaler.from_dataframe(df, cols)\n",
        "geo = encode_geospatial_features(df)\n",
        "x = df[cols].to_numpy(dtype=np.float32)\n",
        "\n",
        "x_full = np.concatenate([x, geo], axis=1)\n",
        "\n",
        "X = torch.tensor(x_full)\n",
        "X = scaler.normalize(X.clone(), cols)\n",
        "\n",
        "class PredictionDataset(Dataset):\n",
        "    def __init__(self, X: torch.Tensor, y: torch.Tensor):\n",
        "        self.X = X\n",
        "        self.y = y\n",
        "\n",
        "    def __len__(self):\n",
        "        return len(self.X)\n",
        "\n",
        "    def __getitem__(self, idx):\n",
        "        return self.X[idx], self.y[idx]\n",
        "\n",
        "TARGET         = \"salinity_00\"\n",
        "TEST_BBOX      = {                       # Morze Śródziemne\n",
        "    \"lat_min\": 30.0, \"lat_max\": 46.0,\n",
        "    \"lon_min\": -6.0, \"lon_max\": 36.0\n",
        "}\n",
        "SEED           = 42\n",
        "N_JOBS         = -1\n",
        "SUB_FRAC       = 0.20\n",
        "\n",
        "random.seed(SEED)\n",
        "np.random.seed(SEED)\n",
        "torch.manual_seed(SEED)\n",
        "torch.cuda.manual_seed_all(SEED)\n",
        "\n",
        "test_mask = random_test_patches_mask(df, grid_size=(20, 20), n_patches=10)\n",
        "\n",
        "X_train_large = X[~test_mask, :].clone()\n",
        "X_test = X[test_mask, :].clone()\n",
        "\n",
        "y_train_large = df[~test_mask][TARGET].to_numpy(dtype=np.float32)\n",
        "y_test = df[test_mask][TARGET].to_numpy(dtype=np.float32)\n",
        "\n",
        "print(f\"X_train_large shape: {X_train_large.shape}\")\n",
        "print(f\"y_train_large  shape: {y_train_large.shape}\")\n",
        "\n",
        "idx = np.random.choice(X_train_large.shape[0], int((X_train_large.shape[0])*SUB_FRAC), replace=False)\n",
        "\n",
        "X_train = torch.Tensor(X_train_large[idx])\n",
        "y_train = torch.Tensor(y_train_large[idx])\n",
        "\n",
        "print(f\"X_train shape: {X_train.shape}\")\n",
        "print(f\"X_test  shape: {X_test.shape}\")\n",
        "\n",
        "print(f\"y_train shape: {y_train.shape}\")\n",
        "print(f\"y_test  shape: {y_test.shape}\")\n",
        "\n",
        "train_ds = PredictionDataset(X_train, y_train)\n",
        "test_ds  = PredictionDataset(X_test, y_test)\n",
        "\n",
        "train_loader = DataLoader(train_ds, batch_size=256, shuffle=True)\n",
        "test_loader  = DataLoader(test_ds, batch_size=len(test_ds), shuffle=False)\n"
      ]
    },
    {
      "cell_type": "code",
      "source": [
        "from pathlib import Path\n",
        "import random\n",
        "import numpy as np\n",
        "import pandas as pd\n",
        "from sklearn.impute import SimpleImputer\n",
        "from sklearn.pipeline import make_pipeline\n",
        "from sklearn.ensemble import RandomForestRegressor\n",
        "from sklearn.metrics import mean_absolute_error, mean_squared_error, r2_score\n",
        "from sklearn.preprocessing import StandardScaler\n",
        "from xgboost import XGBRegressor\n",
        "from scipy.interpolate import griddata\n",
        "import matplotlib.pyplot as plt\n",
        "\n",
        "def evaluate(name, y_true, y_pred):\n",
        "    mse = mean_squared_error(y_true, y_pred)\n",
        "    rmse = np.sqrt(mse)\n",
        "    mae  = mean_absolute_error(y_true, y_pred)\n",
        "    r2   = r2_score(y_true, y_pred)\n",
        "    print(f\"{name:<18} MSE={mse:.4f} RMSE={rmse:.4f} MAE={mae:.4f}  R2={r2:.4f}\")\n",
        "rf_pipe = make_pipeline(\n",
        "    SimpleImputer(strategy=\"median\"),\n",
        "    RandomForestRegressor(n_estimators=400, n_jobs=-1, random_state=SEED)\n",
        ")\n",
        "\n",
        "rf_pipe.fit(X_train, y_train)\n",
        "pred_rf = rf_pipe.predict(X_test)\n",
        "evaluate(\"RandomForest\", y_test, pred_rf)"
      ],
      "metadata": {
        "colab": {
          "base_uri": "https://localhost:8080/"
        },
        "id": "lf_sKnJs657b",
        "outputId": "46a3f862-af9a-4191-9925-abfab1a28ca8"
      },
      "execution_count": null,
      "outputs": [
        {
          "output_type": "stream",
          "name": "stdout",
          "text": [
            "RandomForest       MSE=0.4377 RMSE=0.6616 MAE=0.1549  R2=0.8610\n"
          ]
        }
      ]
    },
    {
      "cell_type": "code",
      "source": [
        "xgb = XGBRegressor(\n",
        "    n_estimators=600,\n",
        "    learning_rate=0.05,\n",
        "    max_depth=8,\n",
        "    subsample=0.8,\n",
        "    colsample_bytree=0.8,\n",
        "    objective=\"reg:squarederror\",\n",
        "    reg_lambda=1.0,\n",
        "    device='cuda',\n",
        "    n_jobs=N_JOBS,\n",
        "    random_state=SEED,\n",
        ")\n",
        "\n",
        "\n",
        "def evaluate(name, y_true, y_pred):\n",
        "    mse = mean_squared_error(y_true, y_pred)\n",
        "    rmse = np.sqrt(mse)\n",
        "    mae  = mean_absolute_error(y_true, y_pred)\n",
        "    r2   = r2_score(y_true, y_pred)\n",
        "    print(f\"{name:<18} MSE={mse:.4f} RMSE={rmse:.4f} MAE={mae:.4f}  R2={r2:.4f}\")\n",
        "\n",
        "\n",
        "xgb.fit(X_train, y_train)\n",
        "pred_xgb = xgb.predict(X_test)\n",
        "evaluate(\"XGBoost\", y_test, pred_xgb)"
      ],
      "metadata": {
        "colab": {
          "base_uri": "https://localhost:8080/"
        },
        "id": "jwxj0-Z99OVj",
        "outputId": "f3702322-e492-4475-a74c-a02275deb763"
      },
      "execution_count": null,
      "outputs": [
        {
          "output_type": "stream",
          "name": "stdout",
          "text": [
            "XGBoost            MSE=0.5750 RMSE=0.7583 MAE=0.1426  R2=0.8174\n"
          ]
        }
      ]
    },
    {
      "cell_type": "code",
      "execution_count": null,
      "metadata": {
        "colab": {
          "base_uri": "https://localhost:8080/",
          "height": 487
        },
        "id": "vRk-6tGSgdWI",
        "outputId": "1e24b59b-6a03-4e77-c350-9ce9765c432a"
      },
      "outputs": [
        {
          "output_type": "display_data",
          "data": {
            "text/plain": [
              "<Figure size 640x480 with 1 Axes>"
            ],
            "image/png": "[encoded data removed]"
          },
          "metadata": {}
        }
      ],
      "source": [
        "plt.hist(y_train.numpy(), bins=50, alpha=0.6, label='Train', density=True)\n",
        "plt.hist(y_test, bins=50, alpha=0.6, label='Test', density=True)\n",
        "plt.legend()\n",
        "plt.title(\"Rozkład stężeń oxygen_00 – train vs test\")\n",
        "plt.xlabel(\"nitrate_00\")\n",
        "plt.ylabel(\"Gęstość\")\n",
        "plt.grid(True, linestyle=\"--\", alpha=0.4)\n",
        "plt.tight_layout()\n",
        "plt.show()"
      ]
    },
    {
      "cell_type": "code",
      "execution_count": null,
      "metadata": {
        "colab": {
          "base_uri": "https://localhost:8080/",
          "height": 594
        },
        "id": "wph05FC4gdWI",
        "outputId": "10a54b6b-844b-4dda-cdd3-e8b6770c37a4"
      },
      "outputs": [
        {
          "output_type": "stream",
          "name": "stderr",
          "text": [
            "<ipython-input-14-2115757900>:9: UserWarning: Creating legend with loc=\"best\" can be slow with large amounts of data.\n",
            "  plt.tight_layout()\n",
            "/usr/local/lib/python3.11/dist-packages/IPython/core/pylabtools.py:151: UserWarning: Creating legend with loc=\"best\" can be slow with large amounts of data.\n",
            "  fig.canvas.print_figure(bytes_io, **kw)\n"
          ]
        },
        {
          "output_type": "display_data",
          "data": {
            "text/plain": [
              "<Figure size 1000x500 with 1 Axes>"
            ],
            "image/png": "[encoded data removed]"
          },
          "metadata": {}
        }
      ],
      "source": [
        "plt.figure(figsize=(10,5))\n",
        "plt.scatter(df[~test_mask][\"lon\"], df[~test_mask][\"lat\"], s=1, label=\"Train\", alpha=0.4)\n",
        "plt.scatter(df[test_mask][\"lon\"], df[test_mask][\"lat\"], s=1, label=\"Test (Med)\", alpha=0.7, color=\"red\")\n",
        "plt.legend()\n",
        "plt.title(\"Rozkład geograficzny próbek – train vs test\")\n",
        "plt.xlabel(\"Longitude\")\n",
        "plt.ylabel(\"Latitude\")\n",
        "plt.grid(True, linestyle=\"--\", alpha=0.5)\n",
        "plt.tight_layout()\n",
        "plt.show()"
      ]
    },
    {
      "cell_type": "markdown",
      "metadata": {
        "id": "Vm_m0WcKQS3g"
      },
      "source": [
        "## Training loop"
      ]
    },
    {
      "cell_type": "code",
      "execution_count": null,
      "metadata": {
        "id": "MCn5PEaHPk5j"
      },
      "outputs": [],
      "source": [
        "def train(model_, loader_, n_epochs=20, lr=1e-3, weight_decay=1e-4, verbose=True, gradient_clipping=False):\n",
        "    opt = torch.optim.Adam(model_.parameters(), lr=lr, weight_decay=weight_decay)\n",
        "    scheduler = torch.optim.lr_scheduler.CosineAnnealingLR(opt, T_max=n_epochs)\n",
        "    loss_fn = nn.MSELoss()\n",
        "\n",
        "    for epoch in range(n_epochs):\n",
        "        model_.train()\n",
        "        total_loss = 0\n",
        "        all_y = []\n",
        "        all_pred = []\n",
        "\n",
        "        for x, y in loader_:\n",
        "            x, y = x.cuda(), y.cuda()\n",
        "            pred = model_(x).flatten()\n",
        "\n",
        "            loss = loss_fn(pred, y)\n",
        "            loss.backward()\n",
        "\n",
        "            if gradient_clipping:\n",
        "                torch.nn.utils.clip_grad_norm_(model_.parameters(), max_norm=1.0)\n",
        "\n",
        "            opt.step()\n",
        "            opt.zero_grad()\n",
        "\n",
        "            total_loss += loss.item()\n",
        "            all_y.append(y.detach().cpu())\n",
        "            all_pred.append(pred.detach().cpu())\n",
        "\n",
        "        scheduler.step()\n",
        "\n",
        "        # Concatenate all predictions and targets\n",
        "        all_y = torch.cat(all_y).numpy()\n",
        "        all_pred = torch.cat(all_pred).numpy()\n",
        "\n",
        "        r2 = r2_score(all_y, all_pred)\n",
        "        avg_loss = total_loss / len(loader_)\n",
        "\n",
        "        if verbose:\n",
        "            print(f\"Epoch {epoch+1}: loss = {avg_loss:.4f}  R2 = {r2:.4f}\")\n",
        "\n",
        "    return avg_loss, r2\n",
        "\n",
        "def metrics(name, y, pred, verbose=True):\n",
        "    mse = mean_squared_error(y, pred)\n",
        "    rmse = np.sqrt(mse)\n",
        "    mae  = mean_absolute_error(y, pred)\n",
        "    r2   = r2_score(y, pred)\n",
        "    if verbose:\n",
        "        print(f\"{name:<18} RMSE={rmse:.4f} MSE={mse:.4f} MAE={mae:.4f} R2={r2:.4f}\")\n",
        "    return mse, rmse, mae, r2\n",
        "\n",
        "\n",
        "\n",
        "def evaluate(name, model_, loader_):\n",
        "    model_.eval()\n",
        "    for x, y in loader_:\n",
        "        x, y = x.cuda(), y.cuda()\n",
        "        pred = model_(x).flatten()\n",
        "        y = y.detach().cpu().numpy()\n",
        "        pred = pred.detach().cpu().numpy()\n",
        "        return metrics(name, y, pred)\n",
        "\n",
        "\n",
        "def initialize_weights(m):\n",
        "    if isinstance(m, nn.Linear):\n",
        "        nn.init.xavier_uniform_(m.weight)\n",
        "        if m.bias is not None:\n",
        "            nn.init.zeros_(m.bias)\n",
        "    elif isinstance(m, nn.LayerNorm):\n",
        "        nn.init.ones_(m.weight)\n",
        "        nn.init.zeros_(m.bias)"
      ]
    },
    {
      "cell_type": "markdown",
      "metadata": {
        "id": "40sN9c2ifXB-"
      },
      "source": [
        "## Sanity check: linear prediction without embeddings"
      ]
    },
    {
      "cell_type": "code",
      "execution_count": null,
      "metadata": {
        "colab": {
          "base_uri": "https://localhost:8080/"
        },
        "id": "HU-o-18-fb5d",
        "outputId": "d51715a4-1c86-4c39-da03-7d96c44e8361"
      },
      "outputs": [
        {
          "output_type": "stream",
          "name": "stdout",
          "text": [
            "Epoch 1: loss = 25.0074  R2 = -12.3731\n",
            "Epoch 2: loss = 1.0227  R2 = 0.4534\n",
            "Epoch 3: loss = 0.8518  R2 = 0.5445\n",
            "Epoch 4: loss = 0.7481  R2 = 0.6000\n",
            "Epoch 5: loss = 0.6844  R2 = 0.6341\n",
            "Epoch 6: loss = 0.6275  R2 = 0.6646\n",
            "Epoch 7: loss = 0.5611  R2 = 0.7001\n",
            "Epoch 8: loss = 0.5325  R2 = 0.7153\n",
            "Epoch 9: loss = 0.4856  R2 = 0.7404\n",
            "Epoch 10: loss = 0.4612  R2 = 0.7534\n",
            "Epoch 11: loss = 0.4178  R2 = 0.7767\n",
            "Epoch 12: loss = 0.4060  R2 = 0.7829\n",
            "Epoch 13: loss = 0.3761  R2 = 0.7990\n",
            "Epoch 14: loss = 0.3516  R2 = 0.8120\n",
            "Epoch 15: loss = 0.3459  R2 = 0.8152\n",
            "Epoch 16: loss = 0.3347  R2 = 0.8211\n",
            "Epoch 17: loss = 0.3148  R2 = 0.8318\n",
            "Epoch 18: loss = 0.2988  R2 = 0.8403\n",
            "Epoch 19: loss = 0.2738  R2 = 0.8536\n",
            "Epoch 20: loss = 0.2656  R2 = 0.8580\n",
            "Epoch 21: loss = 0.2645  R2 = 0.8587\n",
            "Epoch 22: loss = 0.2435  R2 = 0.8698\n",
            "Epoch 23: loss = 0.2412  R2 = 0.8710\n",
            "Epoch 24: loss = 0.2342  R2 = 0.8752\n",
            "Epoch 25: loss = 0.2280  R2 = 0.8781\n",
            "Epoch 26: loss = 0.2251  R2 = 0.8797\n",
            "Epoch 27: loss = 0.2117  R2 = 0.8868\n",
            "Epoch 28: loss = 0.2029  R2 = 0.8915\n",
            "Epoch 29: loss = 0.1893  R2 = 0.8988\n",
            "Epoch 30: loss = 0.1726  R2 = 0.9077\n",
            "Epoch 31: loss = 0.1683  R2 = 0.9100\n",
            "Epoch 32: loss = 0.1551  R2 = 0.9171\n",
            "Epoch 33: loss = 0.1491  R2 = 0.9203\n",
            "Epoch 34: loss = 0.1467  R2 = 0.9215\n",
            "Epoch 35: loss = 0.1406  R2 = 0.9248\n",
            "Epoch 36: loss = 0.1319  R2 = 0.9295\n",
            "Epoch 37: loss = 0.1282  R2 = 0.9315\n",
            "Epoch 38: loss = 0.1238  R2 = 0.9339\n",
            "Epoch 39: loss = 0.1208  R2 = 0.9354\n",
            "Epoch 40: loss = 0.1161  R2 = 0.9379\n",
            "Epoch 41: loss = 0.1146  R2 = 0.9387\n",
            "Epoch 42: loss = 0.1091  R2 = 0.9417\n",
            "Epoch 43: loss = 0.1084  R2 = 0.9421\n",
            "Epoch 44: loss = 0.1055  R2 = 0.9436\n",
            "Epoch 45: loss = 0.1024  R2 = 0.9453\n",
            "Epoch 46: loss = 0.1012  R2 = 0.9459\n",
            "Epoch 47: loss = 0.0997  R2 = 0.9467\n",
            "Epoch 48: loss = 0.0984  R2 = 0.9474\n",
            "Epoch 49: loss = 0.0976  R2 = 0.9478\n",
            "Epoch 50: loss = 0.0972  R2 = 0.9480\n",
            "Baseline           RMSE=0.4861 MSE=0.2363 MAE=0.2194 R2=0.9250\n"
          ]
        }
      ],
      "source": [
        "class BaselineMLP(nn.Module):\n",
        "    def __init__(self, in_dim):\n",
        "        super().__init__()\n",
        "        self.predictor = nn.Sequential(\n",
        "            nn.Linear(in_dim, 128),\n",
        "            nn.ReLU(),\n",
        "            nn.Linear(128, 64),\n",
        "            nn.ReLU(),\n",
        "            nn.Linear(64, 1)\n",
        "        )\n",
        "\n",
        "    def forward(self, x):\n",
        "        return self.predictor(x).squeeze(-1)\n",
        "\n",
        "for _ in range(1):\n",
        "    torch.manual_seed(42); torch.cuda.manual_seed_all(42)\n",
        "    pred_model = BaselineMLP(in_dim=9).cuda()\n",
        "    _ = train(pred_model, train_loader, n_epochs=50, lr=1e-2)\n",
        "    _ = evaluate(\"Baseline\", pred_model, test_loader)"
      ]
    },
    {
      "cell_type": "markdown",
      "metadata": {
        "id": "I4Ms57Y4QdG5"
      },
      "source": [
        "## Simple linear prediction"
      ]
    },
    {
      "cell_type": "code",
      "execution_count": null,
      "metadata": {
        "colab": {
          "base_uri": "https://localhost:8080/"
        },
        "id": "f-NRDxt5QfFA",
        "outputId": "4f41828e-e4b4-4a1b-9eb0-f1ce631ddaf2"
      },
      "outputs": [
        {
          "output_type": "stream",
          "name": "stdout",
          "text": [
            "Epoch 1: loss = 46.1770  R2 = -23.6916\n",
            "Epoch 2: loss = 8.2754  R2 = -3.4243\n",
            "Epoch 3: loss = 3.7914  R2 = -1.0269\n",
            "Epoch 4: loss = 2.0837  R2 = -0.1140\n",
            "Epoch 5: loss = 1.3745  R2 = 0.2652\n",
            "Epoch 6: loss = 1.0343  R2 = 0.4470\n",
            "Epoch 7: loss = 0.8421  R2 = 0.5498\n",
            "Epoch 8: loss = 0.7285  R2 = 0.6107\n",
            "Epoch 9: loss = 0.6657  R2 = 0.6442\n",
            "Epoch 10: loss = 0.6290  R2 = 0.6641\n",
            "Epoch 11: loss = 0.6000  R2 = 0.6792\n",
            "Epoch 12: loss = 0.5973  R2 = 0.6807\n",
            "Epoch 13: loss = 0.5951  R2 = 0.6818\n",
            "Epoch 14: loss = 0.5873  R2 = 0.6860\n",
            "Epoch 15: loss = 0.5954  R2 = 0.6818\n",
            "Epoch 16: loss = 0.6023  R2 = 0.6784\n",
            "Epoch 17: loss = 0.5855  R2 = 0.6870\n",
            "Epoch 18: loss = 0.5820  R2 = 0.6889\n",
            "Epoch 19: loss = 0.5892  R2 = 0.6850\n",
            "Epoch 20: loss = 0.5928  R2 = 0.6831\n",
            "Epoch 21: loss = 0.5745  R2 = 0.6928\n",
            "Epoch 22: loss = 0.5734  R2 = 0.6934\n",
            "Epoch 23: loss = 0.5743  R2 = 0.6934\n",
            "Epoch 24: loss = 0.5626  R2 = 0.6992\n",
            "Epoch 25: loss = 0.5632  R2 = 0.6988\n",
            "Epoch 26: loss = 0.5652  R2 = 0.6979\n",
            "Epoch 27: loss = 0.5582  R2 = 0.7018\n",
            "Epoch 28: loss = 0.5616  R2 = 0.6998\n",
            "Epoch 29: loss = 0.5492  R2 = 0.7064\n",
            "Epoch 30: loss = 0.5503  R2 = 0.7059\n",
            "Epoch 31: loss = 0.5385  R2 = 0.7121\n",
            "Epoch 32: loss = 0.5436  R2 = 0.7096\n",
            "Epoch 33: loss = 0.5384  R2 = 0.7122\n",
            "Epoch 34: loss = 0.5354  R2 = 0.7138\n",
            "Epoch 35: loss = 0.5322  R2 = 0.7154\n",
            "Epoch 36: loss = 0.5346  R2 = 0.7142\n",
            "Epoch 37: loss = 0.5265  R2 = 0.7186\n",
            "Epoch 38: loss = 0.5255  R2 = 0.7190\n",
            "Epoch 39: loss = 0.5220  R2 = 0.7209\n",
            "Epoch 40: loss = 0.5211  R2 = 0.7214\n",
            "Epoch 41: loss = 0.5175  R2 = 0.7235\n",
            "Epoch 42: loss = 0.5158  R2 = 0.7242\n",
            "Epoch 43: loss = 0.5143  R2 = 0.7251\n",
            "Epoch 44: loss = 0.5125  R2 = 0.7260\n",
            "Epoch 45: loss = 0.5108  R2 = 0.7269\n",
            "Epoch 46: loss = 0.5088  R2 = 0.7279\n",
            "Epoch 47: loss = 0.5073  R2 = 0.7287\n",
            "Epoch 48: loss = 0.5060  R2 = 0.7294\n",
            "Epoch 49: loss = 0.5055  R2 = 0.7297\n",
            "Epoch 50: loss = 0.5049  R2 = 0.7300\n"
          ]
        }
      ],
      "source": [
        "class LinearPredictionModel(nn.Module):\n",
        "    def __init__(self, in_dim, mae):\n",
        "        super().__init__()\n",
        "        self.mae = mae\n",
        "        self.predictor = nn.Linear(in_dim, 1)\n",
        "\n",
        "        for param in self.mae.parameters():\n",
        "            param.requires_grad = False\n",
        "\n",
        "    def forward(self, x):\n",
        "        enc = self.mae.encoder(x)\n",
        "        return self.predictor(enc)\n",
        "torch.manual_seed(42); torch.cuda.manual_seed_all(42)\n",
        "pred_model = LinearPredictionModel(in_dim=128, mae=model).cuda()\n",
        "pred_model.predictor.apply(initialize_weights)\n",
        "_ = train(pred_model, train_loader, n_epochs=50, lr=1e-1)"
      ]
    },
    {
      "cell_type": "code",
      "execution_count": null,
      "metadata": {
        "colab": {
          "base_uri": "https://localhost:8080/"
        },
        "id": "o-9YIel9QvVO",
        "outputId": "863bbcb9-6305-4c24-e0cf-8f683e9e0041"
      },
      "outputs": [
        {
          "output_type": "stream",
          "name": "stdout",
          "text": [
            "Linear prediction  RMSE=0.9718 MSE=0.9444 MAE=0.5521 R2=0.7002\n"
          ]
        }
      ],
      "source": [
        "_ = evaluate(\"Linear prediction\", pred_model, test_loader)"
      ]
    },
    {
      "cell_type": "markdown",
      "metadata": {
        "id": "mY1iaQqaQv2Z"
      },
      "source": [
        "## Multi-layer linear prediction"
      ]
    },
    {
      "cell_type": "code",
      "execution_count": null,
      "metadata": {
        "colab": {
          "base_uri": "https://localhost:8080/"
        },
        "id": "Bjb8edsFQ0KB",
        "outputId": "4cd3f9ae-b30f-47f7-808c-e789168a251c"
      },
      "outputs": [
        {
          "output_type": "stream",
          "name": "stdout",
          "text": [
            "Loading model from model.pt\n",
            "Epoch 1: loss = 199.3935  R2 = -105.6260\n",
            "Epoch 2: loss = 14.5612  R2 = -6.7852\n",
            "Epoch 3: loss = 5.2424  R2 = -1.8028\n",
            "Epoch 4: loss = 2.9460  R2 = -0.5750\n",
            "Epoch 5: loss = 1.9617  R2 = -0.0488\n",
            "Epoch 6: loss = 1.3669  R2 = 0.2693\n",
            "Epoch 7: loss = 0.9805  R2 = 0.4760\n",
            "Epoch 8: loss = 0.7315  R2 = 0.6089\n",
            "Epoch 9: loss = 0.5679  R2 = 0.6964\n",
            "Epoch 10: loss = 0.4563  R2 = 0.7560\n",
            "Epoch 11: loss = 0.3759  R2 = 0.7990\n",
            "Epoch 12: loss = 0.3138  R2 = 0.8323\n",
            "Epoch 13: loss = 0.2657  R2 = 0.8579\n",
            "Epoch 14: loss = 0.2272  R2 = 0.8786\n",
            "Epoch 15: loss = 0.1966  R2 = 0.8949\n",
            "Epoch 16: loss = 0.1722  R2 = 0.9080\n",
            "Epoch 17: loss = 0.1527  R2 = 0.9184\n",
            "Epoch 18: loss = 0.1369  R2 = 0.9268\n",
            "Epoch 19: loss = 0.1248  R2 = 0.9333\n",
            "Epoch 20: loss = 0.1134  R2 = 0.9394\n",
            "Epoch 21: loss = 0.1039  R2 = 0.9444\n",
            "Epoch 22: loss = 0.0965  R2 = 0.9484\n",
            "Epoch 23: loss = 0.0898  R2 = 0.9520\n",
            "Epoch 24: loss = 0.0847  R2 = 0.9547\n",
            "Epoch 25: loss = 0.0798  R2 = 0.9574\n",
            "Epoch 26: loss = 0.0757  R2 = 0.9595\n",
            "Epoch 27: loss = 0.0722  R2 = 0.9614\n",
            "Epoch 28: loss = 0.0687  R2 = 0.9633\n",
            "Epoch 29: loss = 0.0661  R2 = 0.9646\n",
            "Epoch 30: loss = 0.0636  R2 = 0.9660\n",
            "Epoch 31: loss = 0.0616  R2 = 0.9671\n",
            "Epoch 32: loss = 0.0596  R2 = 0.9681\n",
            "Epoch 33: loss = 0.0579  R2 = 0.9690\n",
            "Epoch 34: loss = 0.0565  R2 = 0.9698\n",
            "Epoch 35: loss = 0.0552  R2 = 0.9705\n",
            "Epoch 36: loss = 0.0540  R2 = 0.9712\n",
            "Epoch 37: loss = 0.0529  R2 = 0.9717\n",
            "Epoch 38: loss = 0.0520  R2 = 0.9722\n",
            "Epoch 39: loss = 0.0512  R2 = 0.9726\n",
            "Epoch 40: loss = 0.0505  R2 = 0.9730\n",
            "Epoch 41: loss = 0.0499  R2 = 0.9733\n",
            "Epoch 42: loss = 0.0494  R2 = 0.9736\n",
            "Epoch 43: loss = 0.0490  R2 = 0.9738\n",
            "Epoch 44: loss = 0.0486  R2 = 0.9740\n",
            "Epoch 45: loss = 0.0483  R2 = 0.9742\n",
            "Epoch 46: loss = 0.0481  R2 = 0.9743\n",
            "Epoch 47: loss = 0.0479  R2 = 0.9744\n",
            "Epoch 48: loss = 0.0478  R2 = 0.9745\n",
            "Epoch 49: loss = 0.0477  R2 = 0.9745\n",
            "Epoch 50: loss = 0.0476  R2 = 0.9745\n"
          ]
        }
      ],
      "source": [
        "class MultiLinearPredictionModel(nn.Module):\n",
        "    def __init__(self, in_dim, mae):\n",
        "        super().__init__()\n",
        "        self.mae = mae\n",
        "        self.predictor = nn.Sequential(\n",
        "            nn.Linear(in_dim, 64),\n",
        "            nn.ReLU(),\n",
        "            nn.Linear(64, 1)\n",
        "        )\n",
        "\n",
        "        for param in self.mae.parameters():\n",
        "            param.requires_grad = False\n",
        "\n",
        "    def forward(self, x):\n",
        "        enc = self.mae.encoder(x)\n",
        "        return self.predictor(enc)\n",
        "\n",
        "\n",
        "if os.path.exists(MODEL_PATH):\n",
        "    print(f\"Loading model from {MODEL_PATH}\")\n",
        "    model = MaskedAutoEncoder(in_dim=9, embed_dim=128).cuda()\n",
        "    model.load_state_dict(torch.load(MODEL_PATH))\n",
        "    model.eval()\n",
        "else:\n",
        "    print(f\"MAE model not found!\")\n",
        "\n",
        "for param in model.parameters():\n",
        "    param.requires_grad = True\n",
        "\n",
        "\n",
        "torch.manual_seed(42); torch.cuda.manual_seed_all(42)\n",
        "pred_model = MultiLinearPredictionModel(in_dim=128, mae=model).cuda()\n",
        "pred_model.predictor.apply(initialize_weights)\n",
        "_ = train(pred_model, train_loader, n_epochs=50, lr=1e-3)"
      ]
    },
    {
      "cell_type": "code",
      "execution_count": null,
      "metadata": {
        "colab": {
          "base_uri": "https://localhost:8080/"
        },
        "id": "i71kgjbJRLKK",
        "outputId": "75ca7fb9-c336-4cb7-93f0-9613b91bb78b"
      },
      "outputs": [
        {
          "output_type": "stream",
          "name": "stdout",
          "text": [
            "Multi-layer linear prediction RMSE=0.4265 MSE=0.1819 MAE=0.2728 R2=0.9422\n"
          ]
        }
      ],
      "source": [
        "_ = evaluate(\"Multi-layer linear prediction\", pred_model, test_loader)"
      ]
    },
    {
      "cell_type": "markdown",
      "metadata": {
        "id": "AHXFDgcAQ_6e"
      },
      "source": [
        "## Linear+Dropout prediction"
      ]
    },
    {
      "cell_type": "code",
      "execution_count": null,
      "metadata": {
        "colab": {
          "base_uri": "https://localhost:8080/"
        },
        "id": "Oq8F8ANLRCut",
        "outputId": "6514ed93-a900-48ef-c086-c89c651a642f"
      },
      "outputs": [
        {
          "output_type": "stream",
          "name": "stdout",
          "text": [
            "Loading model from model.pt\n",
            "Epoch 1: loss = 22.9218  R2 = -11.2561\n",
            "Epoch 2: loss = 14.4359  R2 = -6.7180\n",
            "Epoch 3: loss = 11.0354  R2 = -4.8990\n",
            "Epoch 4: loss = 9.8804  R2 = -4.2827\n",
            "Epoch 5: loss = 8.3062  R2 = -3.4392\n",
            "Epoch 6: loss = 6.1208  R2 = -2.2724\n",
            "Epoch 7: loss = 3.2195  R2 = -0.7212\n",
            "Epoch 8: loss = 2.0830  R2 = -0.1135\n",
            "Epoch 9: loss = 1.5119  R2 = 0.1917\n",
            "Epoch 10: loss = 1.1100  R2 = 0.4066\n",
            "Epoch 11: loss = 0.8342  R2 = 0.5540\n",
            "Epoch 12: loss = 0.6147  R2 = 0.6714\n",
            "Epoch 13: loss = 0.4679  R2 = 0.7499\n",
            "Epoch 14: loss = 0.3760  R2 = 0.7990\n",
            "Epoch 15: loss = 0.2902  R2 = 0.8448\n",
            "Epoch 16: loss = 0.2416  R2 = 0.8708\n",
            "Epoch 17: loss = 0.2202  R2 = 0.8823\n",
            "Epoch 18: loss = 0.1805  R2 = 0.9035\n",
            "Epoch 19: loss = 0.1596  R2 = 0.9147\n",
            "Epoch 20: loss = 0.1569  R2 = 0.9161\n",
            "Epoch 21: loss = 0.1407  R2 = 0.9248\n",
            "Epoch 22: loss = 0.1379  R2 = 0.9263\n",
            "Epoch 23: loss = 0.1378  R2 = 0.9263\n",
            "Epoch 24: loss = 0.1252  R2 = 0.9331\n",
            "Epoch 25: loss = 0.1165  R2 = 0.9377\n",
            "Epoch 26: loss = 0.1154  R2 = 0.9383\n",
            "Epoch 27: loss = 0.1127  R2 = 0.9398\n",
            "Epoch 28: loss = 0.1136  R2 = 0.9393\n",
            "Epoch 29: loss = 0.1027  R2 = 0.9451\n",
            "Epoch 30: loss = 0.1021  R2 = 0.9454\n",
            "Epoch 31: loss = 0.0967  R2 = 0.9483\n",
            "Epoch 32: loss = 0.0949  R2 = 0.9493\n",
            "Epoch 33: loss = 0.0898  R2 = 0.9520\n",
            "Epoch 34: loss = 0.0866  R2 = 0.9537\n",
            "Epoch 35: loss = 0.0849  R2 = 0.9546\n",
            "Epoch 36: loss = 0.0887  R2 = 0.9526\n",
            "Epoch 37: loss = 0.0796  R2 = 0.9574\n",
            "Epoch 38: loss = 0.0706  R2 = 0.9623\n",
            "Epoch 39: loss = 0.0733  R2 = 0.9608\n",
            "Epoch 40: loss = 0.0677  R2 = 0.9638\n",
            "Epoch 41: loss = 0.0687  R2 = 0.9632\n",
            "Epoch 42: loss = 0.0698  R2 = 0.9627\n",
            "Epoch 43: loss = 0.0615  R2 = 0.9671\n",
            "Epoch 44: loss = 0.0619  R2 = 0.9669\n",
            "Epoch 45: loss = 0.0598  R2 = 0.9680\n",
            "Epoch 46: loss = 0.0602  R2 = 0.9678\n",
            "Epoch 47: loss = 0.0579  R2 = 0.9691\n",
            "Epoch 48: loss = 0.0585  R2 = 0.9687\n",
            "Epoch 49: loss = 0.0586  R2 = 0.9687\n",
            "Epoch 50: loss = 0.0559  R2 = 0.9701\n"
          ]
        }
      ],
      "source": [
        "class DropoutLinearPredictionModel(nn.Module):\n",
        "    def __init__(self, in_dim, mae, dropout=0.3):\n",
        "        super().__init__()\n",
        "        self.mae = mae\n",
        "        self.predictor = nn.Sequential(\n",
        "            nn.LayerNorm(in_dim),\n",
        "            nn.Linear(in_dim, 256),\n",
        "            nn.ReLU(),\n",
        "            nn.Dropout(dropout),           # Reduced from 0.5 to avoid underfitting\n",
        "            nn.Linear(256, 64),\n",
        "            nn.ReLU(),\n",
        "            nn.Dropout(dropout / 2),       # Add dropout between deeper layers\n",
        "            nn.Linear(64, 1)\n",
        "        )\n",
        "\n",
        "        for param in self.mae.parameters():\n",
        "            param.requires_grad = False\n",
        "\n",
        "    def forward(self, x):\n",
        "        enc = self.mae.encoder(x)\n",
        "        return self.predictor(enc)\n",
        "\n",
        "torch.manual_seed(42); torch.cuda.manual_seed_all(42)\n",
        "if os.path.exists(MODEL_PATH):\n",
        "    print(f\"Loading model from {MODEL_PATH}\")\n",
        "    model = MaskedAutoEncoder(in_dim=9, embed_dim=128).cuda()\n",
        "    model.load_state_dict(torch.load(MODEL_PATH))\n",
        "    model.eval()\n",
        "else:\n",
        "    print(f\"MAE model not found!\")\n",
        "\n",
        "for param in model.parameters():\n",
        "    param.requires_grad = True\n",
        "pred_model = DropoutLinearPredictionModel(in_dim=128, mae=model).cuda()\n",
        "pred_model.predictor.apply(initialize_weights)\n",
        "_ = train(pred_model, train_loader, n_epochs=50, lr=1e-2, gradient_clipping=True)"
      ]
    },
    {
      "cell_type": "code",
      "execution_count": null,
      "metadata": {
        "colab": {
          "base_uri": "https://localhost:8080/"
        },
        "id": "Ur1Okwd8RROg",
        "outputId": "5aee2dce-ee8b-49eb-8756-23e22e75e7d9"
      },
      "outputs": [
        {
          "output_type": "stream",
          "name": "stdout",
          "text": [
            "Dropout+linear prediction RMSE=0.3156 MSE=0.0996 MAE=0.1380 R2=0.9684\n"
          ]
        }
      ],
      "source": [
        "_ = evaluate(\"Dropout+linear prediction\", pred_model, test_loader)"
      ]
    }
  ],
  "metadata": {
    "accelerator": "GPU",
    "colab": {
      "gpuType": "T4",
      "provenance": []
    },
    "kernelspec": {
      "display_name": "DataScience",
      "language": "python",
      "name": "python3"
    },
    "language_info": {
      "codemirror_mode": {
        "name": "ipython",
        "version": 3
      },
      "file_extension": ".py",
      "mimetype": "text/x-python",
      "name": "python",
      "nbconvert_exporter": "python",
      "pygments_lexer": "ipython3",
      "version": "3.10.2"
    }
  },
  "nbformat": 4,
  "nbformat_minor": 0
}