{
 "cells": [
  {
   "cell_type": "code",
   "execution_count": 48,
   "id": "2c22d32c",
   "metadata": {},
   "outputs": [],
   "source": [
    "from pathlib import Path\n",
    "import random\n",
    "import numpy as np\n",
    "import pandas as pd\n",
    "from sklearn.impute import SimpleImputer\n",
    "from sklearn.pipeline import make_pipeline\n",
    "from sklearn.ensemble import RandomForestRegressor\n",
    "from sklearn.metrics import mean_absolute_error, mean_squared_error, r2_score\n",
    "from sklearn.preprocessing import StandardScaler\n",
    "from xgboost import XGBRegressor\n",
    "from scipy.interpolate import griddata\n"
   ]
  },
  {
   "cell_type": "code",
   "execution_count": 49,
   "id": "ba8b2432",
   "metadata": {},
   "outputs": [],
   "source": [
    "DATA_PATH      = Path(\"../data/processed/nitrate_00_train_data.parquet\")\n",
    "TARGET         = \"nitrate_00\"\n",
    "TEST_BBOX      = {                       # Morze Śródziemne\n",
    "    \"lat_min\": 30.0, \"lat_max\": 46.0,\n",
    "    \"lon_min\": -6.0, \"lon_max\": 36.0\n",
    "}\n",
    "SEED           = 42\n",
    "N_JOBS         = -1\n",
    "SUB_FRAC       = 0.20  # bo RAM sie konczy xD 100% train_df zabiera 25GB RAMu, mozna inne podejscia spróbować\n"
   ]
  },
  {
   "cell_type": "code",
   "execution_count": 50,
   "id": "1e8ff77c",
   "metadata": {},
   "outputs": [],
   "source": [
    "random.seed(SEED)\n",
    "np.random.seed(SEED)\n",
    "\n",
    "df = pd.read_parquet(DATA_PATH)"
   ]
  },
  {
   "cell_type": "code",
   "execution_count": 51,
   "id": "c9506f19",
   "metadata": {},
   "outputs": [],
   "source": [
    "\n",
    "deg2rad = np.pi / 180.0\n",
    "df[\"sin_lat\"]   = np.sin(df[\"lat\"] * deg2rad)\n",
    "df[\"cos_lat\"]   = np.cos(df[\"lat\"] * deg2rad)\n",
    "df[\"sin_lon\"]   = np.sin(df[\"lon\"] * deg2rad)\n",
    "df[\"cos_lon\"]   = np.cos(df[\"lon\"] * deg2rad)\n",
    "df[\"norm_depth\"] = df[\"depth\"] / df[\"depth\"].max()\n"
   ]
  },
  {
   "cell_type": "code",
   "execution_count": 52,
   "id": "cbdfc239",
   "metadata": {},
   "outputs": [],
   "source": [
    "cols = [\"temperature_00\", \"salinity_00\", \"oxygen_00\", \"phosphate_00\"]"
   ]
  },
  {
   "cell_type": "code",
   "execution_count": 53,
   "id": "4a78fb0a",
   "metadata": {},
   "outputs": [
    {
     "name": "stdout",
     "output_type": "stream",
     "text": [
      "Data shape: (703450, 13)\n",
      "Data shape after dropping NaNs: (609912, 13)\n"
     ]
    }
   ],
   "source": [
    "print(f\"Data shape: {df.shape}\")\n",
    "df = df.dropna(subset=cols).reset_index(drop=True)\n",
    "print(f\"Data shape after dropping NaNs: {df.shape}\")"
   ]
  },
  {
   "cell_type": "code",
   "execution_count": 54,
   "id": "964d773e",
   "metadata": {},
   "outputs": [
    {
     "name": "stdout",
     "output_type": "stream",
     "text": [
      "Train samples: 120,279\n",
      "Test  samples: 8,519  (bbox: {'lat_min': 30.0, 'lat_max': 46.0, 'lon_min': -6.0, 'lon_max': 36.0})\n"
     ]
    }
   ],
   "source": [
    "FEATURES = [\n",
    "    \"temperature_00\", \"oxygen_00\", \"salinity_00\", \"phosphate_00\",\n",
    "    \"sin_lat\", \"cos_lat\", \"sin_lon\", \"cos_lon\", \"norm_depth\"\n",
    "]\n",
    "\n",
    "test_mask = (\n",
    "    (df[\"lat\"].between(TEST_BBOX[\"lat_min\"], TEST_BBOX[\"lat_max\"])) &\n",
    "    (df[\"lon\"].between(TEST_BBOX[\"lon_min\"], TEST_BBOX[\"lon_max\"]))\n",
    ")\n",
    "\n",
    "train_df = df.loc[~test_mask].reset_index(drop=True)\n",
    "test_df  = df.loc[test_mask].reset_index(drop=True)\n",
    "\n",
    "train_df   = train_df.sample(frac=SUB_FRAC, random_state=SEED).reset_index(drop=True)\n",
    "\n",
    "print(f\"Train samples: {len(train_df):,d}\")\n",
    "print(f\"Test  samples: {len(test_df):,d}  (bbox: {TEST_BBOX})\")"
   ]
  },
  {
   "cell_type": "code",
   "execution_count": 55,
   "id": "e29579bc",
   "metadata": {},
   "outputs": [],
   "source": [
    "\n",
    "X_train, y_train = train_df[FEATURES].values, train_df[TARGET].values\n",
    "X_test,  y_test  = test_df[FEATURES].values,  test_df[TARGET].values\n",
    "\n",
    "scaler = StandardScaler().fit(X_train)\n",
    "X_train = scaler.transform(X_train)\n",
    "X_test  = scaler.transform(X_test)"
   ]
  },
  {
   "cell_type": "code",
   "execution_count": 56,
   "id": "039cc303",
   "metadata": {},
   "outputs": [],
   "source": [
    "\n",
    "def evaluate(name, y_true, y_pred):\n",
    "    mse = mean_squared_error(y_true, y_pred)\n",
    "    rmse = np.sqrt(mse)\n",
    "    mae  = mean_absolute_error(y_true, y_pred)\n",
    "    r2   = r2_score(y_true, y_pred)\n",
    "    print(f\"{name:<18} MSE={mse:.4f} RMSE={rmse:.4f} MAE={mae:.4f}  R2={r2:.4f}\")"
   ]
  },
  {
   "cell_type": "code",
   "execution_count": 57,
   "id": "b18eaa75",
   "metadata": {},
   "outputs": [
    {
     "name": "stdout",
     "output_type": "stream",
     "text": [
      "RandomForest       MSE=3.2998 RMSE=1.8165 MAE=1.3604  R2=0.6618\n"
     ]
    }
   ],
   "source": [
    "rf_pipe = make_pipeline(\n",
    "    SimpleImputer(strategy=\"median\"),\n",
    "    RandomForestRegressor(n_estimators=400, n_jobs=-1, random_state=SEED)\n",
    ")\n",
    "\n",
    "rf_pipe.fit(X_train, y_train)\n",
    "pred_rf = rf_pipe.predict(X_test)\n",
    "evaluate(\"RandomForest\", y_test, pred_rf)"
   ]
  },
  {
   "cell_type": "code",
   "execution_count": 58,
   "id": "9286aa86",
   "metadata": {},
   "outputs": [
    {
     "name": "stderr",
     "output_type": "stream",
     "text": [
      "/home/jadwiga/.local/lib/python3.10/site-packages/xgboost/core.py:160: UserWarning: [16:54:21] WARNING: /workspace/src/context.cc:44: No visible GPU is found, setting device to CPU.\n",
      "  warnings.warn(smsg, UserWarning)\n"
     ]
    },
    {
     "name": "stdout",
     "output_type": "stream",
     "text": [
      "XGBoost            MSE=12.6218 RMSE=3.5527 MAE=2.6112  R2=-0.2934\n"
     ]
    }
   ],
   "source": [
    "\n",
    "xgb = XGBRegressor(\n",
    "    n_estimators=600,\n",
    "    learning_rate=0.05,\n",
    "    max_depth=8,\n",
    "    subsample=0.8,\n",
    "    colsample_bytree=0.8,\n",
    "    objective=\"reg:squarederror\",\n",
    "    reg_lambda=1.0,\n",
    "    device='cuda',\n",
    "    n_jobs=N_JOBS,\n",
    "    random_state=SEED,\n",
    ")\n",
    "xgb.fit(X_train, y_train)\n",
    "pred_xgb = xgb.predict(X_test)\n",
    "evaluate(\"XGBoost\", y_test, pred_xgb)"
   ]
  },
  {
   "cell_type": "code",
   "execution_count": 59,
   "id": "936c949f",
   "metadata": {},
   "outputs": [
    {
     "name": "stdout",
     "output_type": "stream",
     "text": [
      "Linear interp 3D   MSE=61.0012 RMSE=7.8103 MAE=4.8002  R2=-5.2512\n"
     ]
    }
   ],
   "source": [
    "\n",
    "train_pts = train_df[[\"lat\", \"lon\", \"depth\"]].values\n",
    "test_pts  = test_df[[\"lat\", \"lon\", \"depth\"]].values\n",
    "val_train = y_train\n",
    "\n",
    "pred_lin = griddata(train_pts, val_train, test_pts, method=\"linear\")\n",
    "# fallback na najbliższy sąsiad tam, gdzie linear == NaN\n",
    "nan_mask = np.isnan(pred_lin)\n",
    "if nan_mask.any():\n",
    "    pred_nn = griddata(train_pts, val_train, test_pts[nan_mask], method=\"nearest\")\n",
    "    pred_lin[nan_mask] = pred_nn\n",
    "evaluate(\"Linear interp 3D\", y_test, pred_lin)"
   ]
  },
  {
   "cell_type": "code",
   "execution_count": 60,
   "id": "3099dec5",
   "metadata": {},
   "outputs": [
    {
     "name": "stdout",
     "output_type": "stream",
     "text": [
      ">> Wyniki zapisane do ../results/baseline_predictions_nitrate.csv\n"
     ]
    }
   ],
   "source": [
    "\n",
    "out = test_df[[\"lat\", \"lon\", \"depth\"]].copy()\n",
    "out[\"nitrate_true\"] = y_test\n",
    "out[\"rf_pred\"]       = pred_rf\n",
    "out[\"xgb_pred\"]      = pred_xgb\n",
    "out[\"interp_pred\"]   = pred_lin\n",
    "out.to_csv(\"../results/baseline_predictions_nitrate.csv\", index=False)\n",
    "print(\">> Wyniki zapisane do ../results/baseline_predictions_nitrate.csv\")\n"
   ]
  },
  {
   "cell_type": "code",
   "execution_count": null,
   "id": "d9b67f4a",
   "metadata": {},
   "outputs": [],
   "source": []
  }
 ],
 "metadata": {
  "kernelspec": {
   "display_name": "Python 3",
   "language": "python",
   "name": "python3"
  },
  "language_info": {
   "codemirror_mode": {
    "name": "ipython",
    "version": 3
   },
   "file_extension": ".py",
   "mimetype": "text/x-python",
   "name": "python",
   "nbconvert_exporter": "python",
   "pygments_lexer": "ipython3",
   "version": "3.10.12"
  }
 },
 "nbformat": 4,
 "nbformat_minor": 5
}
