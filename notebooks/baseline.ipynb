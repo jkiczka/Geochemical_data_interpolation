{
 "cells": [
  {
   "cell_type": "code",
   "execution_count": 1,
   "id": "2c22d32c",
   "metadata": {},
   "outputs": [],
   "source": [
    "from pathlib import Path\n",
    "import random\n",
    "import numpy as np\n",
    "import pandas as pd\n",
    "from sklearn.impute import SimpleImputer\n",
    "from sklearn.pipeline import make_pipeline\n",
    "from sklearn.ensemble import RandomForestRegressor\n",
    "from sklearn.metrics import mean_absolute_error, mean_squared_error, r2_score\n",
    "from sklearn.preprocessing import StandardScaler\n",
    "from xgboost import XGBRegressor\n",
    "from scipy.interpolate import griddata\n"
   ]
  },
  {
   "cell_type": "code",
   "execution_count": null,
   "id": "ba8b2432",
   "metadata": {},
   "outputs": [],
   "source": [
    "\n",
    "DATA_PATH      = Path(\"../data/processed/salinity_00_train_data.parquet\")\n",
    "TARGET         = \"salinity_00\"\n",
    "TEST_BBOX      = {                       # Morze Śródziemne\n",
    "    \"lat_min\": 30.0, \"lat_max\": 46.0,\n",
    "    \"lon_min\": -6.0, \"lon_max\": 36.0\n",
    "}\n",
    "SEED           = 42\n",
    "N_JOBS         = -1\n",
    "SUB_FRAC       = 0.20  # bo RAM sie konczy xD 100% train_df zabiera 25GB RAMu, mozna inne podejscia spróbować\n"
   ]
  },
  {
   "cell_type": "code",
   "execution_count": 3,
   "id": "1e8ff77c",
   "metadata": {},
   "outputs": [],
   "source": [
    "random.seed(SEED)\n",
    "np.random.seed(SEED)\n",
    "\n",
    "df = pd.read_parquet(DATA_PATH)"
   ]
  },
  {
   "cell_type": "code",
   "execution_count": 4,
   "id": "c9506f19",
   "metadata": {},
   "outputs": [],
   "source": [
    "\n",
    "deg2rad = np.pi / 180.0\n",
    "df[\"sin_lat\"]   = np.sin(df[\"lat\"] * deg2rad)\n",
    "df[\"cos_lat\"]   = np.cos(df[\"lat\"] * deg2rad)\n",
    "df[\"sin_lon\"]   = np.sin(df[\"lon\"] * deg2rad)\n",
    "df[\"cos_lon\"]   = np.cos(df[\"lon\"] * deg2rad)\n",
    "df[\"norm_depth\"] = df[\"depth\"] / df[\"depth\"].max()\n"
   ]
  },
  {
   "cell_type": "code",
   "execution_count": 5,
   "id": "964d773e",
   "metadata": {},
   "outputs": [
    {
     "name": "stdout",
     "output_type": "stream",
     "text": [
      "Train samples: 378,627\n",
      "Test  samples: 10,623  (bbox: {'lat_min': 30.0, 'lat_max': 46.0, 'lon_min': -6.0, 'lon_max': 36.0})\n"
     ]
    }
   ],
   "source": [
    "\n",
    "FEATURES = [\n",
    "    \"temperature_00\", \"oxygen_00\", \"nitrate_00\", \"phosphate_00\",\n",
    "    \"sin_lat\", \"cos_lat\", \"sin_lon\", \"cos_lon\", \"norm_depth\"\n",
    "]\n",
    "\n",
    "test_mask = (\n",
    "    (df[\"lat\"].between(TEST_BBOX[\"lat_min\"], TEST_BBOX[\"lat_max\"])) &\n",
    "    (df[\"lon\"].between(TEST_BBOX[\"lon_min\"], TEST_BBOX[\"lon_max\"]))\n",
    ")\n",
    "\n",
    "train_df = df.loc[~test_mask].reset_index(drop=True)\n",
    "test_df  = df.loc[test_mask].reset_index(drop=True)\n",
    "\n",
    "train_df   = train_df.sample(frac=SUB_FRAC, random_state=SEED).reset_index(drop=True)\n",
    "\n",
    "print(f\"Train samples: {len(train_df):,d}\")\n",
    "print(f\"Test  samples: {len(test_df):,d}  (bbox: {TEST_BBOX})\")"
   ]
  },
  {
   "cell_type": "code",
   "execution_count": 6,
   "id": "e29579bc",
   "metadata": {},
   "outputs": [],
   "source": [
    "\n",
    "X_train, y_train = train_df[FEATURES].values, train_df[TARGET].values\n",
    "X_test,  y_test  = test_df[FEATURES].values,  test_df[TARGET].values\n",
    "\n",
    "scaler = StandardScaler().fit(X_train)\n",
    "X_train = scaler.transform(X_train)\n",
    "X_test  = scaler.transform(X_test)"
   ]
  },
  {
   "cell_type": "code",
   "execution_count": 7,
   "id": "039cc303",
   "metadata": {},
   "outputs": [],
   "source": [
    "\n",
    "def evaluate(name, y_true, y_pred):\n",
    "    rmse = mean_squared_error(y_true, y_pred, squared=False)\n",
    "    mae  = mean_absolute_error(y_true, y_pred)\n",
    "    r2   = r2_score(y_true, y_pred)\n",
    "    print(f\"{name:<18} MSE={rmse:.4f}  MAE={mae:.4f}  R2={r2:.4f}\")"
   ]
  },
  {
   "cell_type": "code",
   "execution_count": 8,
   "id": "b18eaa75",
   "metadata": {},
   "outputs": [
    {
     "name": "stdout",
     "output_type": "stream",
     "text": [
      "RandomForest       MSE=3.0660  MAE=2.8356  R2=0.6326\n"
     ]
    }
   ],
   "source": [
    "rf_pipe = make_pipeline(\n",
    "    SimpleImputer(strategy=\"median\"),\n",
    "    RandomForestRegressor(n_estimators=400, n_jobs=-1, random_state=SEED)\n",
    ")\n",
    "\n",
    "rf_pipe.fit(X_train, y_train)\n",
    "pred_rf = rf_pipe.predict(X_test)\n",
    "evaluate(\"RandomForest\", y_test, pred_rf)"
   ]
  },
  {
   "cell_type": "code",
   "execution_count": 12,
   "id": "9286aa86",
   "metadata": {},
   "outputs": [
    {
     "name": "stdout",
     "output_type": "stream",
     "text": [
      "XGBoost            MSE=4.1878  MAE=3.9152  R2=0.3145\n"
     ]
    }
   ],
   "source": [
    "\n",
    "xgb = XGBRegressor(\n",
    "    n_estimators=600,\n",
    "    learning_rate=0.05,\n",
    "    max_depth=8,\n",
    "    subsample=0.8,\n",
    "    colsample_bytree=0.8,\n",
    "    objective=\"reg:squarederror\",\n",
    "    reg_lambda=1.0,\n",
    "    device='cuda',\n",
    "    n_jobs=N_JOBS,\n",
    "    random_state=SEED,\n",
    ")\n",
    "xgb.fit(X_train, y_train)\n",
    "pred_xgb = xgb.predict(X_test)\n",
    "evaluate(\"XGBoost\", y_test, pred_xgb)"
   ]
  },
  {
   "cell_type": "code",
   "execution_count": 10,
   "id": "936c949f",
   "metadata": {},
   "outputs": [
    {
     "name": "stdout",
     "output_type": "stream",
     "text": [
      "Linear interp 3D   MSE=10.2967  MAE=9.2784  R2=-3.1440\n"
     ]
    }
   ],
   "source": [
    "\n",
    "train_pts = train_df[[\"lat\", \"lon\", \"depth\"]].values\n",
    "test_pts  = test_df[[\"lat\", \"lon\", \"depth\"]].values\n",
    "val_train = y_train\n",
    "\n",
    "pred_lin = griddata(train_pts, val_train, test_pts, method=\"linear\")\n",
    "# fallback na najbliższy sąsiad tam, gdzie linear == NaN\n",
    "nan_mask = np.isnan(pred_lin)\n",
    "if nan_mask.any():\n",
    "    pred_nn = griddata(train_pts, val_train, test_pts[nan_mask], method=\"nearest\")\n",
    "    pred_lin[nan_mask] = pred_nn\n",
    "evaluate(\"Linear interp 3D\", y_test, pred_lin)"
   ]
  },
  {
   "cell_type": "code",
   "execution_count": 11,
   "id": "3099dec5",
   "metadata": {},
   "outputs": [
    {
     "name": "stdout",
     "output_type": "stream",
     "text": [
      ">> Wyniki zapisane do ../results/baseline_predictions.csv\n"
     ]
    }
   ],
   "source": [
    "\n",
    "out = test_df[[\"lat\", \"lon\", \"depth\"]].copy()\n",
    "out[\"salinity_true\"] = y_test\n",
    "out[\"rf_pred\"]       = pred_rf\n",
    "out[\"xgb_pred\"]      = pred_xgb\n",
    "out[\"interp_pred\"]   = pred_lin\n",
    "out.to_csv(\"../results/baseline_predictions.csv\", index=False)\n",
    "print(\">> Wyniki zapisane do ../results/baseline_predictions.csv\")\n"
   ]
  }
 ],
 "metadata": {
  "kernelspec": {
   "display_name": "DataScience",
   "language": "python",
   "name": "python3"
  },
  "language_info": {
   "codemirror_mode": {
    "name": "ipython",
    "version": 3
   },
   "file_extension": ".py",
   "mimetype": "text/x-python",
   "name": "python",
   "nbconvert_exporter": "python",
   "pygments_lexer": "ipython3",
   "version": "3.10.2"
  }
 },
 "nbformat": 4,
 "nbformat_minor": 5
}
