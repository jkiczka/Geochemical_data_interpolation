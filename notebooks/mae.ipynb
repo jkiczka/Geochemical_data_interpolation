{
 "cells": [
  {
   "cell_type": "code",
   "execution_count": 14,
   "id": "1f46a36d",
   "metadata": {},
   "outputs": [],
   "source": [
    "import pandas as pd\n",
    "import numpy as np\n",
    "import torch\n",
    "import torch.nn as nn\n",
    "from torch.utils.data import Dataset, DataLoader"
   ]
  },
  {
   "cell_type": "code",
   "execution_count": 15,
   "id": "1cafec5d",
   "metadata": {},
   "outputs": [],
   "source": [
    "df = pd.read_parquet(\"../data/processed/salinity_00_train_data.parquet\")\n",
    "cols = [\"temperature_00\", \"oxygen_00\", \"nitrate_00\", \"phosphate_00\"]"
   ]
  },
  {
   "cell_type": "code",
   "execution_count": 16,
   "id": "16e497c0",
   "metadata": {},
   "outputs": [],
   "source": [
    "def encode_geospatial_features(df: pd.DataFrame) -> np.ndarray:\n",
    "    lat_rad = np.radians(df[\"lat\"].to_numpy())\n",
    "    lon_rad = np.radians(df[\"lon\"].to_numpy())\n",
    "\n",
    "    sin_lat = np.sin(lat_rad)\n",
    "    cos_lat = np.cos(lat_rad)\n",
    "    sin_lon = np.sin(lon_rad)\n",
    "    cos_lon = np.cos(lon_rad)\n",
    "\n",
    "    depth = df[\"depth\"].to_numpy(dtype=np.float32)\n",
    "    norm_depth = (depth - depth.min()) / (depth.max() - depth.min())\n",
    "\n",
    "    geo_features = np.stack([sin_lat, cos_lat, sin_lon, cos_lon, norm_depth], axis=1)\n",
    "    return geo_features.astype(np.float32)"
   ]
  },
  {
   "cell_type": "code",
   "execution_count": 17,
   "id": "7d787afa",
   "metadata": {},
   "outputs": [],
   "source": [
    "class Scaler:\n",
    "    def __init__(self, mean: dict[str, float], std: dict[str, float]):\n",
    "        self.mean = mean\n",
    "        self.std = std\n",
    "        self.cols = list(mean.keys())\n",
    "\n",
    "    @classmethod\n",
    "    def from_dataframe(cls, df, cols):\n",
    "        mean = {col: df[col].mean() for col in cols}\n",
    "        std = {col: df[col].std() for col in cols}\n",
    "        return cls(mean, std)\n",
    "\n",
    "    def normalize(self, tensor: torch.Tensor, cols: list[str]) -> torch.Tensor:\n",
    "        for i, col in enumerate(cols):\n",
    "            tensor[:, i] = (tensor[:, i] - self.mean[col]) / self.std[col]\n",
    "        return tensor\n",
    "\n",
    "    def denormalize(self, tensor: torch.Tensor, cols: list[str]) -> torch.Tensor:\n",
    "        means = torch.tensor([self.mean[c] for c in cols], dtype=tensor.dtype, device=tensor.device)\n",
    "        stds  = torch.tensor([self.std[c]  for c in cols], dtype=tensor.dtype, device=tensor.device)\n",
    "        return tensor * stds + means\n",
    "\n",
    "    def mae(self, reconstructed: torch.Tensor, ground_truth: torch.Tensor, cols: list[str]) -> float:\n",
    "        rec_denorm = self.denormalize(reconstructed.clone(), cols)\n",
    "        gt_denorm = self.denormalize(ground_truth.clone(), cols)\n",
    "        return torch.abs(rec_denorm - gt_denorm).mean().item()\n",
    "    \n",
    "    def masked_mae(self, reconstructed: torch.Tensor, ground_truth: torch.Tensor, mask: torch.Tensor, cols: list[str]) -> float:\n",
    "        rec_denorm = self.denormalize(reconstructed.clone(), cols)\n",
    "        gt_denorm = self.denormalize(ground_truth.clone(), cols)\n",
    "        \n",
    "        abs_error = torch.abs(rec_denorm - gt_denorm)\n",
    "        masked_error = abs_error * mask\n",
    "\n",
    "        mae = masked_error.sum() / mask.sum().clamp(min=1.0)\n",
    "        return mae.item()"
   ]
  },
  {
   "cell_type": "code",
   "execution_count": 18,
   "id": "61cf2e12",
   "metadata": {},
   "outputs": [],
   "source": [
    "df = df.dropna(subset=cols).reset_index(drop=True)\n",
    "scaler = Scaler.from_dataframe(df, cols)\n",
    "geo = encode_geospatial_features(df)\n",
    "x = df[cols].to_numpy(dtype=np.float32)\n",
    "\n",
    "x_full = np.concatenate([x, geo], axis=1)"
   ]
  },
  {
   "cell_type": "code",
   "execution_count": 19,
   "id": "5f8d650a",
   "metadata": {},
   "outputs": [],
   "source": [
    "X = torch.tensor(x_full)\n",
    "X = scaler.normalize(X.clone(), cols)"
   ]
  },
  {
   "cell_type": "code",
   "execution_count": 20,
   "id": "faffa391",
   "metadata": {},
   "outputs": [],
   "source": [
    "class MaskedVoxelDataset(Dataset):\n",
    "    def __init__(self, X: torch.Tensor, mask_ratio=0.5):\n",
    "        self.X = X\n",
    "        self.mask_ratio = mask_ratio\n",
    "        self.mask_value = 0.0  # można zmienić na learnable token\n",
    "\n",
    "    def __len__(self):\n",
    "        return len(self.X)\n",
    "\n",
    "    def __getitem__(self, idx):\n",
    "        x = self.X[idx]\n",
    "        mask = torch.ones_like(x, dtype=torch.bool)\n",
    "        for i in range(5):\n",
    "            if torch.rand(1).item() < self.mask_ratio:\n",
    "                mask[i] = False  # False → maskujemy\n",
    "        x_masked = torch.where(mask, x, self.mask_value)\n",
    "        return x_masked, x, mask\n",
    "\n",
    "loader = DataLoader(MaskedVoxelDataset(X, mask_ratio=0.5), batch_size=128, shuffle=True)"
   ]
  },
  {
   "cell_type": "code",
   "execution_count": 21,
   "id": "e6f65c83",
   "metadata": {},
   "outputs": [],
   "source": [
    "class MaskedAutoEncoder(nn.Module):\n",
    "    def __init__(self, in_dim=4, embed_dim=64):\n",
    "        super().__init__()\n",
    "        self.encoder = nn.Sequential(\n",
    "            nn.Linear(in_dim, embed_dim),\n",
    "            nn.ReLU(),\n",
    "            nn.Linear(embed_dim, embed_dim)\n",
    "        )\n",
    "        self.decoder = nn.Sequential(\n",
    "            nn.Linear(embed_dim, embed_dim),\n",
    "            nn.ReLU(),\n",
    "            nn.Linear(embed_dim, in_dim)\n",
    "        )\n",
    "\n",
    "    def forward(self, x):\n",
    "        z = self.encoder(x)\n",
    "        out = self.decoder(z)\n",
    "        return out"
   ]
  },
  {
   "cell_type": "code",
   "execution_count": 29,
   "id": "20c30c9f",
   "metadata": {},
   "outputs": [],
   "source": [
    "def masked_mse(pred, target, mask):\n",
    "    loss = ((pred - target) ** 2) * mask\n",
    "    return loss.sum() / mask.sum()"
   ]
  },
  {
   "cell_type": "code",
   "execution_count": null,
   "id": "58aa0d38",
   "metadata": {},
   "outputs": [
    {
     "name": "stdout",
     "output_type": "stream",
     "text": [
      "Epoch 1: loss = 21.8148\n",
      "Epoch 2: loss = 0.1052\n",
      "Epoch 3: loss = 0.0872\n",
      "Epoch 4: loss = 0.0810\n",
      "Epoch 5: loss = 0.0777\n",
      "Epoch 6: loss = 0.0711\n",
      "Epoch 7: loss = 0.0689\n",
      "Epoch 8: loss = 0.0682\n",
      "Epoch 9: loss = 0.0650\n",
      "Epoch 10: loss = 0.0645\n",
      "Epoch 11: loss = 0.0605\n",
      "Epoch 12: loss = 0.0598\n",
      "Epoch 13: loss = 0.0580\n",
      "Epoch 14: loss = 0.0570\n",
      "Epoch 15: loss = 0.0553\n",
      "Epoch 16: loss = 0.0520\n",
      "Epoch 17: loss = 0.0531\n"
     ]
    }
   ],
   "source": [
    "model = MaskedAutoEncoder(in_dim=9, embed_dim=64).cuda()\n",
    "opt = torch.optim.Adam(model.parameters(), lr=1e-3)\n",
    "\n",
    "for epoch in range(20):\n",
    "    model.train()\n",
    "    total_loss = 0\n",
    "    for x_masked, x_true, mask in loader:\n",
    "        x_masked = x_masked.cuda()\n",
    "        x_true = x_true.cuda()\n",
    "        mask = mask.cuda()\n",
    "\n",
    "        out = model(x_masked)\n",
    "        loss = masked_mse(out, x_true, mask)\n",
    "        \n",
    "        opt.zero_grad()\n",
    "        loss.backward()\n",
    "        opt.step()\n",
    "\n",
    "        total_loss += loss.item()\n",
    "\n",
    "    print(f\"Epoch {epoch+1}: loss = {total_loss:.4f}\")"
   ]
  },
  {
   "cell_type": "code",
   "execution_count": null,
   "id": "65bb5a75",
   "metadata": {},
   "outputs": [],
   "source": [
    "import matplotlib.pyplot as plt"
   ]
  },
  {
   "cell_type": "code",
   "execution_count": null,
   "id": "f9cf176a",
   "metadata": {},
   "outputs": [
    {
     "name": "stderr",
     "output_type": "stream",
     "text": [
      "C:\\Users\\dosti\\AppData\\Local\\Temp\\ipykernel_1008\\1475401407.py:32: FutureWarning: The default of observed=False is deprecated and will be changed to True in a future version of pandas. Pass observed=False to retain current behavior or observed=True to adopt the future default and silence this warning.\n",
      "  mae_by_depth = df_err.groupby(\"depth_bin\")[\"abs_error\"].mean()\n"
     ]
    },
    {
     "data": {
      "image/png": "[encoded data removed]",
      "text/plain": [
       "<Figure size 1000x500 with 1 Axes>"
      ]
     },
     "metadata": {},
     "output_type": "display_data"
    }
   ],
   "source": [
    "target_cols = [\"temperature\", \"oxygen\", \"nitrate\", \"phosphate\"]\n",
    "target_len = len(target_cols)\n",
    "\n",
    "offset = 0\n",
    "all_preds = []\n",
    "all_truth = []\n",
    "all_depth = []\n",
    "\n",
    "model.eval()\n",
    "with torch.no_grad():\n",
    "    for x_masked, x_true, mask in loader:\n",
    "        x_masked = x_masked.cuda()\n",
    "        pred = model(x_masked)\n",
    "\n",
    "        # bierzemy tylko targetowe cechy\n",
    "        pred = pred[:, :target_len]\n",
    "        x_true = x_true[:, :target_len]\n",
    "\n",
    "        batch_size = len(x_true)\n",
    "        depth_batch = df[\"depth\"].iloc[offset : offset + batch_size].to_numpy()\n",
    "        offset += batch_size\n",
    "\n",
    "        all_preds.append(pred.cpu().numpy())\n",
    "        all_truth.append(x_true.cpu().numpy())\n",
    "        all_depth.append(depth_batch)\n",
    "\n",
    "all_preds = np.vstack(all_preds)\n",
    "all_truth = np.vstack(all_truth)\n",
    "all_depth = np.concatenate(all_depth)\n",
    "\n",
    "# średni błąd (MAE) per próbka\n",
    "mae_per_sample = np.abs(all_preds - all_truth).mean(axis=1)\n",
    "\n",
    "df_err = pd.DataFrame({\n",
    "    \"depth\": all_depth,\n",
    "    \"abs_error\": mae_per_sample,\n",
    "})\n",
    "df_err[\"depth_bin\"] = pd.cut(df_err[\"depth\"], bins=np.arange(0, 1600, 100))\n",
    "\n",
    "mae_by_depth = df_err.groupby(\"depth_bin\")[\"abs_error\"].mean()\n",
    "\n",
    "plt.figure(figsize=(10, 5))\n",
    "mae_by_depth.plot(kind=\"bar\", color=\"steelblue\")\n",
    "plt.ylabel(\"Średni błąd (MAE)\")\n",
    "plt.title(\"Błąd rekonstrukcji vs głębokość\")\n",
    "plt.xticks(rotation=45)\n",
    "plt.grid(True, axis=\"y\", linestyle=\"--\", alpha=0.5)\n",
    "plt.tight_layout()\n",
    "plt.show()"
   ]
  },
  {
   "cell_type": "code",
   "execution_count": null,
   "id": "1ad924fe",
   "metadata": {},
   "outputs": [
    {
     "ename": "ValueError",
     "evalue": "Shape of passed values is (609912, 9), indices imply (609912, 4)",
     "output_type": "error",
     "traceback": [
      "\u001b[1;31m---------------------------------------------------------------------------\u001b[0m",
      "\u001b[1;31mValueError\u001b[0m                                Traceback (most recent call last)",
      "Cell \u001b[1;32mIn[13], line 2\u001b[0m\n\u001b[0;32m      1\u001b[0m errors \u001b[38;5;241m=\u001b[39m np\u001b[38;5;241m.\u001b[39mabs(all_preds \u001b[38;5;241m-\u001b[39m all_truth)\n\u001b[1;32m----> 2\u001b[0m df_err \u001b[38;5;241m=\u001b[39m \u001b[43mpd\u001b[49m\u001b[38;5;241;43m.\u001b[39;49m\u001b[43mDataFrame\u001b[49m\u001b[43m(\u001b[49m\u001b[43merrors\u001b[49m\u001b[43m,\u001b[49m\u001b[43m \u001b[49m\u001b[43mcolumns\u001b[49m\u001b[38;5;241;43m=\u001b[39;49m\u001b[43m[\u001b[49m\u001b[38;5;124;43m\"\u001b[39;49m\u001b[38;5;124;43mtemperature\u001b[39;49m\u001b[38;5;124;43m\"\u001b[39;49m\u001b[43m,\u001b[49m\u001b[43m \u001b[49m\u001b[38;5;124;43m\"\u001b[39;49m\u001b[38;5;124;43moxygen\u001b[39;49m\u001b[38;5;124;43m\"\u001b[39;49m\u001b[43m,\u001b[49m\u001b[43m \u001b[49m\u001b[38;5;124;43m\"\u001b[39;49m\u001b[38;5;124;43mnitrate\u001b[39;49m\u001b[38;5;124;43m\"\u001b[39;49m\u001b[43m,\u001b[49m\u001b[43m \u001b[49m\u001b[38;5;124;43m\"\u001b[39;49m\u001b[38;5;124;43mphosphate\u001b[39;49m\u001b[38;5;124;43m\"\u001b[39;49m\u001b[43m]\u001b[49m\u001b[43m)\u001b[49m\n\u001b[0;32m      3\u001b[0m df_err[\u001b[38;5;124m\"\u001b[39m\u001b[38;5;124mdepth\u001b[39m\u001b[38;5;124m\"\u001b[39m] \u001b[38;5;241m=\u001b[39m all_depth\n\u001b[0;32m      4\u001b[0m df_err[\u001b[38;5;124m\"\u001b[39m\u001b[38;5;124mdepth_bin\u001b[39m\u001b[38;5;124m\"\u001b[39m] \u001b[38;5;241m=\u001b[39m pd\u001b[38;5;241m.\u001b[39mcut(df_err[\u001b[38;5;124m\"\u001b[39m\u001b[38;5;124mdepth\u001b[39m\u001b[38;5;124m\"\u001b[39m], bins\u001b[38;5;241m=\u001b[39mnp\u001b[38;5;241m.\u001b[39marange(\u001b[38;5;241m0\u001b[39m, \u001b[38;5;241m1600\u001b[39m, \u001b[38;5;241m100\u001b[39m))\n",
      "File \u001b[1;32md:\\Coding\\Venvs\\DataScience\\lib\\site-packages\\pandas\\core\\frame.py:827\u001b[0m, in \u001b[0;36mDataFrame.__init__\u001b[1;34m(self, data, index, columns, dtype, copy)\u001b[0m\n\u001b[0;32m    816\u001b[0m         mgr \u001b[38;5;241m=\u001b[39m dict_to_mgr(\n\u001b[0;32m    817\u001b[0m             \u001b[38;5;66;03m# error: Item \"ndarray\" of \"Union[ndarray, Series, Index]\" has no\u001b[39;00m\n\u001b[0;32m    818\u001b[0m             \u001b[38;5;66;03m# attribute \"name\"\u001b[39;00m\n\u001b[1;32m   (...)\u001b[0m\n\u001b[0;32m    824\u001b[0m             copy\u001b[38;5;241m=\u001b[39m_copy,\n\u001b[0;32m    825\u001b[0m         )\n\u001b[0;32m    826\u001b[0m     \u001b[38;5;28;01melse\u001b[39;00m:\n\u001b[1;32m--> 827\u001b[0m         mgr \u001b[38;5;241m=\u001b[39m \u001b[43mndarray_to_mgr\u001b[49m\u001b[43m(\u001b[49m\n\u001b[0;32m    828\u001b[0m \u001b[43m            \u001b[49m\u001b[43mdata\u001b[49m\u001b[43m,\u001b[49m\n\u001b[0;32m    829\u001b[0m \u001b[43m            \u001b[49m\u001b[43mindex\u001b[49m\u001b[43m,\u001b[49m\n\u001b[0;32m    830\u001b[0m \u001b[43m            \u001b[49m\u001b[43mcolumns\u001b[49m\u001b[43m,\u001b[49m\n\u001b[0;32m    831\u001b[0m \u001b[43m            \u001b[49m\u001b[43mdtype\u001b[49m\u001b[38;5;241;43m=\u001b[39;49m\u001b[43mdtype\u001b[49m\u001b[43m,\u001b[49m\n\u001b[0;32m    832\u001b[0m \u001b[43m            \u001b[49m\u001b[43mcopy\u001b[49m\u001b[38;5;241;43m=\u001b[39;49m\u001b[43mcopy\u001b[49m\u001b[43m,\u001b[49m\n\u001b[0;32m    833\u001b[0m \u001b[43m            \u001b[49m\u001b[43mtyp\u001b[49m\u001b[38;5;241;43m=\u001b[39;49m\u001b[43mmanager\u001b[49m\u001b[43m,\u001b[49m\n\u001b[0;32m    834\u001b[0m \u001b[43m        \u001b[49m\u001b[43m)\u001b[49m\n\u001b[0;32m    836\u001b[0m \u001b[38;5;66;03m# For data is list-like, or Iterable (will consume into list)\u001b[39;00m\n\u001b[0;32m    837\u001b[0m \u001b[38;5;28;01melif\u001b[39;00m is_list_like(data):\n",
      "File \u001b[1;32md:\\Coding\\Venvs\\DataScience\\lib\\site-packages\\pandas\\core\\internals\\construction.py:336\u001b[0m, in \u001b[0;36mndarray_to_mgr\u001b[1;34m(values, index, columns, dtype, copy, typ)\u001b[0m\n\u001b[0;32m    331\u001b[0m \u001b[38;5;66;03m# _prep_ndarraylike ensures that values.ndim == 2 at this point\u001b[39;00m\n\u001b[0;32m    332\u001b[0m index, columns \u001b[38;5;241m=\u001b[39m _get_axes(\n\u001b[0;32m    333\u001b[0m     values\u001b[38;5;241m.\u001b[39mshape[\u001b[38;5;241m0\u001b[39m], values\u001b[38;5;241m.\u001b[39mshape[\u001b[38;5;241m1\u001b[39m], index\u001b[38;5;241m=\u001b[39mindex, columns\u001b[38;5;241m=\u001b[39mcolumns\n\u001b[0;32m    334\u001b[0m )\n\u001b[1;32m--> 336\u001b[0m \u001b[43m_check_values_indices_shape_match\u001b[49m\u001b[43m(\u001b[49m\u001b[43mvalues\u001b[49m\u001b[43m,\u001b[49m\u001b[43m \u001b[49m\u001b[43mindex\u001b[49m\u001b[43m,\u001b[49m\u001b[43m \u001b[49m\u001b[43mcolumns\u001b[49m\u001b[43m)\u001b[49m\n\u001b[0;32m    338\u001b[0m \u001b[38;5;28;01mif\u001b[39;00m typ \u001b[38;5;241m==\u001b[39m \u001b[38;5;124m\"\u001b[39m\u001b[38;5;124marray\u001b[39m\u001b[38;5;124m\"\u001b[39m:\n\u001b[0;32m    339\u001b[0m     \u001b[38;5;28;01mif\u001b[39;00m \u001b[38;5;28missubclass\u001b[39m(values\u001b[38;5;241m.\u001b[39mdtype\u001b[38;5;241m.\u001b[39mtype, \u001b[38;5;28mstr\u001b[39m):\n",
      "File \u001b[1;32md:\\Coding\\Venvs\\DataScience\\lib\\site-packages\\pandas\\core\\internals\\construction.py:420\u001b[0m, in \u001b[0;36m_check_values_indices_shape_match\u001b[1;34m(values, index, columns)\u001b[0m\n\u001b[0;32m    418\u001b[0m passed \u001b[38;5;241m=\u001b[39m values\u001b[38;5;241m.\u001b[39mshape\n\u001b[0;32m    419\u001b[0m implied \u001b[38;5;241m=\u001b[39m (\u001b[38;5;28mlen\u001b[39m(index), \u001b[38;5;28mlen\u001b[39m(columns))\n\u001b[1;32m--> 420\u001b[0m \u001b[38;5;28;01mraise\u001b[39;00m \u001b[38;5;167;01mValueError\u001b[39;00m(\u001b[38;5;124mf\u001b[39m\u001b[38;5;124m\"\u001b[39m\u001b[38;5;124mShape of passed values is \u001b[39m\u001b[38;5;132;01m{\u001b[39;00mpassed\u001b[38;5;132;01m}\u001b[39;00m\u001b[38;5;124m, indices imply \u001b[39m\u001b[38;5;132;01m{\u001b[39;00mimplied\u001b[38;5;132;01m}\u001b[39;00m\u001b[38;5;124m\"\u001b[39m)\n",
      "\u001b[1;31mValueError\u001b[0m: Shape of passed values is (609912, 9), indices imply (609912, 4)"
     ]
    }
   ],
   "source": [
    "errors = np.abs(all_preds - all_truth)\n",
    "df_err = pd.DataFrame(errors, columns=target_cols)\n",
    "df_err[\"depth\"] = all_depth\n",
    "df_err[\"depth_bin\"] = pd.cut(df_err[\"depth\"], bins=np.arange(0, 1600, 100))\n",
    "\n",
    "mae_by_depth_feat = df_err.groupby(\"depth_bin\")[target_cols].mean()\n",
    "\n",
    "mae_by_depth_feat.plot(kind=\"bar\", figsize=(12, 6))\n",
    "plt.title(\"MAE rekonstrukcji vs głębokość (per cecha)\")\n",
    "plt.ylabel(\"Średni błąd\")\n",
    "plt.xticks(rotation=45)\n",
    "plt.grid(axis=\"y\", linestyle=\"--\", alpha=0.6)\n",
    "plt.tight_layout()\n",
    "plt.show()\n"
   ]
  }
 ],
 "metadata": {
  "kernelspec": {
   "display_name": "DataScience",
   "language": "python",
   "name": "python3"
  },
  "language_info": {
   "codemirror_mode": {
    "name": "ipython",
    "version": 3
   },
   "file_extension": ".py",
   "mimetype": "text/x-python",
   "name": "python",
   "nbconvert_exporter": "python",
   "pygments_lexer": "ipython3",
   "version": "3.10.2"
  }
 },
 "nbformat": 4,
 "nbformat_minor": 5
}
