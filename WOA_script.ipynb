{
  "nbformat": 4,
  "nbformat_minor": 0,
  "metadata": {
    "colab": {
      "provenance": []
    },
    "kernelspec": {
      "name": "python3",
      "display_name": "Python 3"
    },
    "language_info": {
      "name": "python"
    }
  },
  "cells": [
    {
      "cell_type": "code",
      "source": [
        "pip install cftime"
      ],
      "metadata": {
        "colab": {
          "base_uri": "https://localhost:8080/"
        },
        "id": "zR8AjXIuUic1",
        "outputId": "36d940dd-5949-4e49-95cb-f1f7ac2ac51e"
      },
      "execution_count": 2,
      "outputs": [
        {
          "output_type": "stream",
          "name": "stdout",
          "text": [
            "Collecting cftime\n",
            "  Downloading cftime-1.6.4.post1-cp311-cp311-manylinux_2_17_x86_64.manylinux2014_x86_64.whl.metadata (8.7 kB)\n",
            "Requirement already satisfied: numpy>1.13.3 in /usr/local/lib/python3.11/dist-packages (from cftime) (2.0.2)\n",
            "Downloading cftime-1.6.4.post1-cp311-cp311-manylinux_2_17_x86_64.manylinux2014_x86_64.whl (1.4 MB)\n",
            "\u001b[2K   \u001b[90m━━━━━━━━━━━━━━━━━━━━━━━━━━━━━━━━━━━━━━━━\u001b[0m \u001b[32m1.4/1.4 MB\u001b[0m \u001b[31m23.5 MB/s\u001b[0m eta \u001b[36m0:00:00\u001b[0m\n",
            "\u001b[?25hInstalling collected packages: cftime\n",
            "Successfully installed cftime-1.6.4.post1\n"
          ]
        }
      ]
    },
    {
      "cell_type": "code",
      "source": [
        "import os\n",
        "import requests\n",
        "import xarray as xr\n",
        "from tqdm import tqdm\n",
        "import pandas as pd\n",
        "import cftime\n",
        "\n",
        "BASE_URL = \"https://www.ncei.noaa.gov/data/oceans/woa/WOA23/DATA/\"\n",
        "\n",
        "FILES = {\n",
        "    \"Temperature\": \"temperature/netcdf/decav91C0/1.00/woa23_decav91C0_t{month}_01.nc\",\n",
        "    \"Salinity\": \"salinity/netcdf/decav91C0/1.00/woa23_decav91C0_s{month}_01.nc\",\n",
        "    \"Oxygen\": \"oxygen/netcdf/all/1.00/woa23_all_o{month}_01.nc\",\n",
        "    \"Nitrate\": \"nitrate/netcdf/all/1.00/woa23_all_n{month}_01.nc\",\n",
        "    \"Phosphate\": \"phosphate/netcdf/all/1.00/woa23_all_p{month}_01.nc\"\n",
        "}\n",
        "\n",
        "def download_file(url, filename):\n",
        "    response = requests.get(url, stream=True)\n",
        "    response.raise_for_status()\n",
        "    total_size = int(response.headers.get('content-length', 0))\n",
        "    with open(filename, 'wb') as f, tqdm(\n",
        "        desc=os.path.basename(filename),\n",
        "        total=total_size,\n",
        "        unit='B',\n",
        "        unit_scale=True,\n",
        "        unit_divisor=1024,\n",
        "    ) as pbar:\n",
        "        for chunk in response.iter_content(8192):\n",
        "            f.write(chunk)\n",
        "            pbar.update(len(chunk))\n",
        "\n",
        "def decode_time(ds):\n",
        "    time_var = ds.time\n",
        "    units = time_var.attrs.get('units', '')\n",
        "    calendar = time_var.attrs.get('calendar', 'standard')\n",
        "\n",
        "    if units.startswith(\"months since\"):\n",
        "        calendar = '360_day'\n",
        "\n",
        "    times = cftime.num2date(time_var.values, units=units, calendar=calendar)\n",
        "    # Konwertujemy do pandas datetime (na 1-szy dzień miesiąca)\n",
        "    times_pd = pd.to_datetime([f\"{t.year}-{t.month:02d}-01\" for t in times])\n",
        "    ds['time'] = ('time', times_pd)\n",
        "    return ds\n",
        "\n",
        "\n",
        "os.makedirs(\"WOA23_monthly\", exist_ok=True)\n",
        "\n",
        "for month in range(1, 13):\n",
        "    month_str = f\"{month:02d}\"\n",
        "    print(f\"\\n=== Month {month_str} ===\")\n",
        "\n",
        "    for var, template in FILES.items():\n",
        "        filepath = template.format(month=month_str)\n",
        "        url = BASE_URL + filepath\n",
        "        filename = os.path.join(\"WOA23_monthly\", os.path.basename(filepath))\n",
        "\n",
        "        if not os.path.exists(filename):\n",
        "            print(f\"Downloading {var}...\")\n",
        "            download_file(url, filename)\n",
        "\n",
        "        ds = xr.open_dataset(filename, decode_times=False)\n",
        "        ds = decode_time(ds)\n",
        "\n",
        "        var_name = {\n",
        "            \"Temperature\": \"t_an\",\n",
        "            \"Salinity\": \"s_an\",\n",
        "            \"Oxygen\": \"o_an\",\n",
        "            \"Nitrate\": \"n_an\",\n",
        "            \"Phosphate\": \"p_an\"\n",
        "        }[var]\n",
        "\n",
        "        print(f\"\\n{var} (Month {month_str}):\")\n",
        "        print(\"Variables:\", list(ds.variables.keys()))\n",
        "\n",
        "        df = ds[var_name].to_dataframe().dropna()\n",
        "        print(f\"Data without NaNs ({len(df)} rows):\")\n",
        "        print(df)\n",
        "\n",
        "print(\"\\nAll monthly data processed!\")\n"
      ],
      "metadata": {
        "colab": {
          "base_uri": "https://localhost:8080/"
        },
        "id": "uuRiQqe7UBR1",
        "outputId": "7d4635d5-fe3c-4fdb-f372-a84e9c66999a"
      },
      "execution_count": 3,
      "outputs": [
        {
          "output_type": "stream",
          "name": "stdout",
          "text": [
            "\n",
            "=== Month 01 ===\n",
            "Downloading Temperature...\n"
          ]
        },
        {
          "output_type": "stream",
          "name": "stderr",
          "text": [
            "woa23_decav91C0_t01_01.nc: 100%|██████████| 57.0M/57.0M [00:38<00:00, 1.55MB/s]\n"
          ]
        },
        {
          "output_type": "stream",
          "name": "stdout",
          "text": [
            "\n",
            "Temperature (Month 01):\n",
            "Variables: ['crs', 'lat', 'lat_bnds', 'lon', 'lon_bnds', 'depth', 'depth_bnds', 'time', 'climatology_bounds', 't_an', 't_mn', 't_dd', 't_sd', 't_se', 't_oa', 't_ma', 't_gp', 't_sdo', 't_sea']\n",
            "Data without NaNs (2183675 rows):\n",
            "                                   t_an\n",
            "time       depth  lat   lon            \n",
            "2005-01-01 0.0    -77.5 -178.5 -0.32070\n",
            "                        -177.5 -0.36500\n",
            "                        -176.5 -0.40521\n",
            "                        -175.5 -0.42581\n",
            "                        -174.5 -0.44261\n",
            "...                                 ...\n",
            "           1500.0  89.5  175.5 -0.48721\n",
            "                         176.5 -0.48721\n",
            "                         177.5 -0.48721\n",
            "                         178.5 -0.48721\n",
            "                         179.5 -0.48721\n",
            "\n",
            "[2183675 rows x 1 columns]\n",
            "Downloading Salinity...\n"
          ]
        },
        {
          "output_type": "stream",
          "name": "stderr",
          "text": [
            "woa23_decav91C0_s01_01.nc: 100%|██████████| 50.8M/50.8M [00:00<00:00, 99.4MB/s]\n"
          ]
        },
        {
          "output_type": "stream",
          "name": "stdout",
          "text": [
            "\n",
            "Salinity (Month 01):\n",
            "Variables: ['crs', 'lat', 'lat_bnds', 'lon', 'lon_bnds', 'depth', 'depth_bnds', 'time', 'climatology_bounds', 's_an', 's_mn', 's_dd', 's_sd', 's_se', 's_oa', 's_ma', 's_gp', 's_sdo', 's_sea']\n",
            "Data without NaNs (2183675 rows):\n",
            "                                     s_an\n",
            "time       depth  lat   lon              \n",
            "2005-01-01 0.0    -77.5 -178.5  34.200310\n",
            "                        -177.5  34.186913\n",
            "                        -176.5  34.175400\n",
            "                        -175.5  34.168610\n",
            "                        -174.5  34.157711\n",
            "...                                   ...\n",
            "           1500.0  89.5  175.5  34.925499\n",
            "                         176.5  34.925499\n",
            "                         177.5  34.925499\n",
            "                         178.5  34.925499\n",
            "                         179.5  34.925499\n",
            "\n",
            "[2183675 rows x 1 columns]\n",
            "Downloading Oxygen...\n"
          ]
        },
        {
          "output_type": "stream",
          "name": "stderr",
          "text": [
            "woa23_all_o01_01.nc: 100%|██████████| 33.4M/33.4M [00:00<00:00, 88.0MB/s]\n"
          ]
        },
        {
          "output_type": "stream",
          "name": "stdout",
          "text": [
            "\n",
            "Oxygen (Month 01):\n",
            "Variables: ['crs', 'lat', 'lat_bnds', 'lon', 'lon_bnds', 'depth', 'depth_bnds', 'time', 'climatology_bounds', 'o_an', 'o_mn', 'o_dd', 'o_sd', 'o_se', 'o_oa', 'o_ma', 'o_gp', 'o_sea']\n",
            "Data without NaNs (2183675 rows):\n",
            "                                      o_an\n",
            "time       depth  lat   lon               \n",
            "1993-01-01 0.0    -77.5 -178.5  380.476715\n",
            "                        -177.5  378.862640\n",
            "                        -176.5  377.417480\n",
            "                        -175.5  376.051453\n",
            "                        -174.5  374.945251\n",
            "...                                    ...\n",
            "           1500.0  89.5  175.5  287.593323\n",
            "                         176.5  287.593323\n",
            "                         177.5  287.593323\n",
            "                         178.5  287.593323\n",
            "                         179.5  287.593323\n",
            "\n",
            "[2183675 rows x 1 columns]\n",
            "Downloading Nitrate...\n"
          ]
        },
        {
          "output_type": "stream",
          "name": "stderr",
          "text": [
            "woa23_all_n01_01.nc: 100%|██████████| 19.2M/19.2M [00:00<00:00, 70.7MB/s]\n"
          ]
        },
        {
          "output_type": "stream",
          "name": "stdout",
          "text": [
            "\n",
            "Nitrate (Month 01):\n",
            "Variables: ['crs', 'lat', 'lat_bnds', 'lon', 'lon_bnds', 'depth', 'depth_bnds', 'time', 'climatology_bounds', 'n_an', 'n_mn', 'n_dd', 'n_sd', 'n_se', 'n_oa', 'n_ma', 'n_gp', 'n_sea']\n",
            "Data without NaNs (1680367 rows):\n",
            "                                    n_an\n",
            "time       depth lat   lon              \n",
            "1993-01-01 0.0   -77.5 -178.5  13.159919\n",
            "                       -177.5  14.001830\n",
            "                       -176.5  14.797913\n",
            "                       -175.5  15.565681\n",
            "                       -174.5  16.184637\n",
            "...                                  ...\n",
            "           800.0  89.5  175.5  12.869218\n",
            "                        176.5  12.869218\n",
            "                        177.5  12.869218\n",
            "                        178.5  12.869218\n",
            "                        179.5  12.869218\n",
            "\n",
            "[1680367 rows x 1 columns]\n",
            "Downloading Phosphate...\n"
          ]
        },
        {
          "output_type": "stream",
          "name": "stderr",
          "text": [
            "woa23_all_p01_01.nc: 100%|██████████| 21.1M/21.1M [00:00<00:00, 67.4MB/s]\n"
          ]
        },
        {
          "output_type": "stream",
          "name": "stdout",
          "text": [
            "\n",
            "Phosphate (Month 01):\n",
            "Variables: ['crs', 'lat', 'lat_bnds', 'lon', 'lon_bnds', 'depth', 'depth_bnds', 'time', 'climatology_bounds', 'p_an', 'p_mn', 'p_dd', 'p_sd', 'p_se', 'p_oa', 'p_ma', 'p_gp', 'p_sea']\n",
            "Data without NaNs (1680367 rows):\n",
            "                                   p_an\n",
            "time       depth lat   lon             \n",
            "1993-01-01 0.0   -77.5 -178.5  1.229126\n",
            "                       -177.5  1.240432\n",
            "                       -176.5  1.252754\n",
            "                       -175.5  1.263371\n",
            "                       -174.5  1.271232\n",
            "...                                 ...\n",
            "           800.0  89.5  175.5  0.890293\n",
            "                        176.5  0.890293\n",
            "                        177.5  0.890293\n",
            "                        178.5  0.890293\n",
            "                        179.5  0.890293\n",
            "\n",
            "[1680367 rows x 1 columns]\n",
            "\n",
            "=== Month 02 ===\n",
            "Downloading Temperature...\n"
          ]
        },
        {
          "output_type": "stream",
          "name": "stderr",
          "text": [
            "woa23_decav91C0_t02_01.nc: 100%|██████████| 57.3M/57.3M [00:00<00:00, 114MB/s]\n"
          ]
        },
        {
          "output_type": "stream",
          "name": "stdout",
          "text": [
            "\n",
            "Temperature (Month 02):\n",
            "Variables: ['crs', 'lat', 'lat_bnds', 'lon', 'lon_bnds', 'depth', 'depth_bnds', 'time', 'climatology_bounds', 't_an', 't_mn', 't_dd', 't_sd', 't_se', 't_oa', 't_ma', 't_gp', 't_sdo', 't_sea']\n",
            "Data without NaNs (2183675 rows):\n",
            "                                   t_an\n",
            "time       depth  lat   lon            \n",
            "2005-02-01 0.0    -77.5 -178.5 -0.63171\n",
            "                        -177.5 -0.66981\n",
            "                        -176.5 -0.70131\n",
            "                        -175.5 -0.72431\n",
            "                        -174.5 -0.74401\n",
            "...                                 ...\n",
            "           1500.0  89.5  175.5 -0.45891\n",
            "                         176.5 -0.45891\n",
            "                         177.5 -0.45891\n",
            "                         178.5 -0.45891\n",
            "                         179.5 -0.45891\n",
            "\n",
            "[2183675 rows x 1 columns]\n",
            "Downloading Salinity...\n"
          ]
        },
        {
          "output_type": "stream",
          "name": "stderr",
          "text": [
            "woa23_decav91C0_s02_01.nc: 100%|██████████| 50.8M/50.8M [00:00<00:00, 111MB/s]\n"
          ]
        },
        {
          "output_type": "stream",
          "name": "stdout",
          "text": [
            "\n",
            "Salinity (Month 02):\n",
            "Variables: ['crs', 'lat', 'lat_bnds', 'lon', 'lon_bnds', 'depth', 'depth_bnds', 'time', 'climatology_bounds', 's_an', 's_mn', 's_dd', 's_sd', 's_se', 's_oa', 's_ma', 's_gp', 's_sdo', 's_sea']\n",
            "Data without NaNs (2183675 rows):\n",
            "                                     s_an\n",
            "time       depth  lat   lon              \n",
            "2005-02-01 0.0    -77.5 -178.5  34.116413\n",
            "                        -177.5  34.096901\n",
            "                        -176.5  34.078289\n",
            "                        -175.5  34.063110\n",
            "                        -174.5  34.050900\n",
            "...                                   ...\n",
            "           1500.0  89.5  175.5  34.928612\n",
            "                         176.5  34.928612\n",
            "                         177.5  34.928612\n",
            "                         178.5  34.928612\n",
            "                         179.5  34.928612\n",
            "\n",
            "[2183675 rows x 1 columns]\n",
            "Downloading Oxygen...\n"
          ]
        },
        {
          "output_type": "stream",
          "name": "stderr",
          "text": [
            "woa23_all_o02_01.nc: 100%|██████████| 34.1M/34.1M [00:00<00:00, 63.5MB/s]\n"
          ]
        },
        {
          "output_type": "stream",
          "name": "stdout",
          "text": [
            "\n",
            "Oxygen (Month 02):\n",
            "Variables: ['crs', 'lat', 'lat_bnds', 'lon', 'lon_bnds', 'depth', 'depth_bnds', 'time', 'climatology_bounds', 'o_an', 'o_mn', 'o_dd', 'o_sd', 'o_se', 'o_oa', 'o_ma', 'o_gp', 'o_sea']\n",
            "Data without NaNs (2183675 rows):\n",
            "                                      o_an\n",
            "time       depth  lat   lon               \n",
            "1993-02-01 0.0    -77.5 -178.5  360.776550\n",
            "                        -177.5  360.950531\n",
            "                        -176.5  360.977112\n",
            "                        -175.5  360.972870\n",
            "                        -174.5  360.920258\n",
            "...                                    ...\n",
            "           1500.0  89.5  175.5  288.697754\n",
            "                         176.5  288.697754\n",
            "                         177.5  288.697754\n",
            "                         178.5  288.697754\n",
            "                         179.5  288.697754\n",
            "\n",
            "[2183675 rows x 1 columns]\n",
            "Downloading Nitrate...\n"
          ]
        },
        {
          "output_type": "stream",
          "name": "stderr",
          "text": [
            "woa23_all_n02_01.nc: 100%|██████████| 19.7M/19.7M [00:00<00:00, 78.1MB/s]\n"
          ]
        },
        {
          "output_type": "stream",
          "name": "stdout",
          "text": [
            "\n",
            "Nitrate (Month 02):\n",
            "Variables: ['crs', 'lat', 'lat_bnds', 'lon', 'lon_bnds', 'depth', 'depth_bnds', 'time', 'climatology_bounds', 'n_an', 'n_mn', 'n_dd', 'n_sd', 'n_se', 'n_oa', 'n_ma', 'n_gp', 'n_sea']\n",
            "Data without NaNs (1680367 rows):\n",
            "                                    n_an\n",
            "time       depth lat   lon              \n",
            "1993-02-01 0.0   -77.5 -178.5  13.231615\n",
            "                       -177.5  14.024886\n",
            "                       -176.5  14.765514\n",
            "                       -175.5  15.416518\n",
            "                       -174.5  15.949839\n",
            "...                                  ...\n",
            "           800.0  89.5  175.5  12.679441\n",
            "                        176.5  12.679441\n",
            "                        177.5  12.679441\n",
            "                        178.5  12.679441\n",
            "                        179.5  12.679441\n",
            "\n",
            "[1680367 rows x 1 columns]\n",
            "Downloading Phosphate...\n"
          ]
        },
        {
          "output_type": "stream",
          "name": "stderr",
          "text": [
            "woa23_all_p02_01.nc: 100%|██████████| 21.5M/21.5M [00:00<00:00, 86.6MB/s]\n"
          ]
        },
        {
          "output_type": "stream",
          "name": "stdout",
          "text": [
            "\n",
            "Phosphate (Month 02):\n",
            "Variables: ['crs', 'lat', 'lat_bnds', 'lon', 'lon_bnds', 'depth', 'depth_bnds', 'time', 'climatology_bounds', 'p_an', 'p_mn', 'p_dd', 'p_sd', 'p_se', 'p_oa', 'p_ma', 'p_gp', 'p_sea']\n",
            "Data without NaNs (1680367 rows):\n",
            "                                   p_an\n",
            "time       depth lat   lon             \n",
            "1993-02-01 0.0   -77.5 -178.5  1.314466\n",
            "                       -177.5  1.315990\n",
            "                       -176.5  1.318379\n",
            "                       -175.5  1.319513\n",
            "                       -174.5  1.318105\n",
            "...                                 ...\n",
            "           800.0  89.5  175.5  0.899294\n",
            "                        176.5  0.899294\n",
            "                        177.5  0.899294\n",
            "                        178.5  0.899294\n",
            "                        179.5  0.899294\n",
            "\n",
            "[1680367 rows x 1 columns]\n",
            "\n",
            "=== Month 03 ===\n",
            "Downloading Temperature...\n"
          ]
        },
        {
          "output_type": "stream",
          "name": "stderr",
          "text": [
            "woa23_decav91C0_t03_01.nc: 100%|██████████| 57.5M/57.5M [00:00<00:00, 115MB/s]\n"
          ]
        },
        {
          "output_type": "stream",
          "name": "stdout",
          "text": [
            "\n",
            "Temperature (Month 03):\n",
            "Variables: ['crs', 'lat', 'lat_bnds', 'lon', 'lon_bnds', 'depth', 'depth_bnds', 'time', 'climatology_bounds', 't_an', 't_mn', 't_dd', 't_sd', 't_se', 't_oa', 't_ma', 't_gp', 't_sdo', 't_sea']\n",
            "Data without NaNs (2183675 rows):\n",
            "                                   t_an\n",
            "time       depth  lat   lon            \n",
            "2005-03-01 0.0    -77.5 -178.5 -1.72790\n",
            "                        -177.5 -1.72961\n",
            "                        -176.5 -1.72211\n",
            "                        -175.5 -1.71741\n",
            "                        -174.5 -1.70921\n",
            "...                                 ...\n",
            "           1500.0  89.5  175.5 -0.43001\n",
            "                         176.5 -0.43001\n",
            "                         177.5 -0.43001\n",
            "                         178.5 -0.43001\n",
            "                         179.5 -0.43001\n",
            "\n",
            "[2183675 rows x 1 columns]\n",
            "Downloading Salinity...\n"
          ]
        },
        {
          "output_type": "stream",
          "name": "stderr",
          "text": [
            "woa23_decav91C0_s03_01.nc: 100%|██████████| 51.0M/51.0M [00:00<00:00, 112MB/s]\n"
          ]
        },
        {
          "output_type": "stream",
          "name": "stdout",
          "text": [
            "\n",
            "Salinity (Month 03):\n",
            "Variables: ['crs', 'lat', 'lat_bnds', 'lon', 'lon_bnds', 'depth', 'depth_bnds', 'time', 'climatology_bounds', 's_an', 's_mn', 's_dd', 's_sd', 's_se', 's_oa', 's_ma', 's_gp', 's_sdo', 's_sea']\n",
            "Data without NaNs (2183675 rows):\n",
            "                                     s_an\n",
            "time       depth  lat   lon              \n",
            "2005-03-01 0.0    -77.5 -178.5  34.060310\n",
            "                        -177.5  34.051510\n",
            "                        -176.5  34.047699\n",
            "                        -175.5  34.044113\n",
            "                        -174.5  34.042511\n",
            "...                                   ...\n",
            "           1500.0  89.5  175.5  34.927311\n",
            "                         176.5  34.927311\n",
            "                         177.5  34.927311\n",
            "                         178.5  34.927311\n",
            "                         179.5  34.927311\n",
            "\n",
            "[2183675 rows x 1 columns]\n",
            "Downloading Oxygen...\n"
          ]
        },
        {
          "output_type": "stream",
          "name": "stderr",
          "text": [
            "woa23_all_o03_01.nc: 100%|██████████| 34.2M/34.2M [00:00<00:00, 89.8MB/s]\n"
          ]
        },
        {
          "output_type": "stream",
          "name": "stdout",
          "text": [
            "\n",
            "Oxygen (Month 03):\n",
            "Variables: ['crs', 'lat', 'lat_bnds', 'lon', 'lon_bnds', 'depth', 'depth_bnds', 'time', 'climatology_bounds', 'o_an', 'o_mn', 'o_dd', 'o_sd', 'o_se', 'o_oa', 'o_ma', 'o_gp', 'o_sea']\n",
            "Data without NaNs (2183675 rows):\n",
            "                                      o_an\n",
            "time       depth  lat   lon               \n",
            "1993-03-01 0.0    -77.5 -178.5  345.419006\n",
            "                        -177.5  345.098419\n",
            "                        -176.5  344.872437\n",
            "                        -175.5  344.656769\n",
            "                        -174.5  344.479767\n",
            "...                                    ...\n",
            "           1500.0  89.5  175.5  282.929016\n",
            "                         176.5  282.929016\n",
            "                         177.5  282.929016\n",
            "                         178.5  282.929016\n",
            "                         179.5  282.929016\n",
            "\n",
            "[2183675 rows x 1 columns]\n",
            "Downloading Nitrate...\n"
          ]
        },
        {
          "output_type": "stream",
          "name": "stderr",
          "text": [
            "woa23_all_n03_01.nc: 100%|██████████| 19.7M/19.7M [00:00<00:00, 83.5MB/s]\n"
          ]
        },
        {
          "output_type": "stream",
          "name": "stdout",
          "text": [
            "\n",
            "Nitrate (Month 03):\n",
            "Variables: ['crs', 'lat', 'lat_bnds', 'lon', 'lon_bnds', 'depth', 'depth_bnds', 'time', 'climatology_bounds', 'n_an', 'n_mn', 'n_dd', 'n_sd', 'n_se', 'n_oa', 'n_ma', 'n_gp', 'n_sea']\n",
            "Data without NaNs (1680367 rows):\n",
            "                                    n_an\n",
            "time       depth lat   lon              \n",
            "1993-03-01 0.0   -77.5 -178.5  20.795210\n",
            "                       -177.5  21.274792\n",
            "                       -176.5  21.712811\n",
            "                       -175.5  22.100555\n",
            "                       -174.5  22.361544\n",
            "...                                  ...\n",
            "           800.0  89.5  175.5  13.298918\n",
            "                        176.5  13.298918\n",
            "                        177.5  13.298918\n",
            "                        178.5  13.298918\n",
            "                        179.5  13.298918\n",
            "\n",
            "[1680367 rows x 1 columns]\n",
            "Downloading Phosphate...\n"
          ]
        },
        {
          "output_type": "stream",
          "name": "stderr",
          "text": [
            "woa23_all_p03_01.nc: 100%|██████████| 21.7M/21.7M [00:00<00:00, 91.6MB/s]\n"
          ]
        },
        {
          "output_type": "stream",
          "name": "stdout",
          "text": [
            "\n",
            "Phosphate (Month 03):\n",
            "Variables: ['crs', 'lat', 'lat_bnds', 'lon', 'lon_bnds', 'depth', 'depth_bnds', 'time', 'climatology_bounds', 'p_an', 'p_mn', 'p_dd', 'p_sd', 'p_se', 'p_oa', 'p_ma', 'p_gp', 'p_sea']\n",
            "Data without NaNs (1680367 rows):\n",
            "                                   p_an\n",
            "time       depth lat   lon             \n",
            "1993-03-01 0.0   -77.5 -178.5  0.867184\n",
            "                       -177.5  0.863480\n",
            "                       -176.5  0.868416\n",
            "                       -175.5  0.879485\n",
            "                       -174.5  0.885108\n",
            "...                                 ...\n",
            "           800.0  89.5  175.5  1.007597\n",
            "                        176.5  1.007597\n",
            "                        177.5  1.007597\n",
            "                        178.5  1.007597\n",
            "                        179.5  1.007597\n",
            "\n",
            "[1680367 rows x 1 columns]\n",
            "\n",
            "=== Month 04 ===\n",
            "Downloading Temperature...\n"
          ]
        },
        {
          "output_type": "stream",
          "name": "stderr",
          "text": [
            "woa23_decav91C0_t04_01.nc: 100%|██████████| 57.9M/57.9M [00:00<00:00, 97.7MB/s]\n"
          ]
        },
        {
          "output_type": "stream",
          "name": "stdout",
          "text": [
            "\n",
            "Temperature (Month 04):\n",
            "Variables: ['crs', 'lat', 'lat_bnds', 'lon', 'lon_bnds', 'depth', 'depth_bnds', 'time', 'climatology_bounds', 't_an', 't_mn', 't_dd', 't_sd', 't_se', 't_oa', 't_ma', 't_gp', 't_sdo', 't_sea']\n",
            "Data without NaNs (2183675 rows):\n",
            "                                   t_an\n",
            "time       depth  lat   lon            \n",
            "2005-04-01 0.0    -77.5 -178.5 -1.54981\n",
            "                        -177.5 -1.77820\n",
            "                        -176.5 -1.79981\n",
            "                        -175.5 -1.80371\n",
            "                        -174.5 -1.80701\n",
            "...                                 ...\n",
            "           1500.0  89.5  175.5 -0.48541\n",
            "                         176.5 -0.48541\n",
            "                         177.5 -0.48541\n",
            "                         178.5 -0.48541\n",
            "                         179.5 -0.48541\n",
            "\n",
            "[2183675 rows x 1 columns]\n",
            "Downloading Salinity...\n"
          ]
        },
        {
          "output_type": "stream",
          "name": "stderr",
          "text": [
            "woa23_decav91C0_s04_01.nc: 100%|██████████| 51.4M/51.4M [00:00<00:00, 79.6MB/s]\n"
          ]
        },
        {
          "output_type": "stream",
          "name": "stdout",
          "text": [
            "\n",
            "Salinity (Month 04):\n",
            "Variables: ['crs', 'lat', 'lat_bnds', 'lon', 'lon_bnds', 'depth', 'depth_bnds', 'time', 'climatology_bounds', 's_an', 's_mn', 's_dd', 's_sd', 's_se', 's_oa', 's_ma', 's_gp', 's_sdo', 's_sea']\n",
            "Data without NaNs (2183675 rows):\n",
            "                                     s_an\n",
            "time       depth  lat   lon              \n",
            "2005-04-01 0.0    -77.5 -178.5  34.302811\n",
            "                        -177.5  34.336102\n",
            "                        -176.5  34.329800\n",
            "                        -175.5  34.315201\n",
            "                        -174.5  34.301289\n",
            "...                                   ...\n",
            "           1500.0  89.5  175.5  34.917690\n",
            "                         176.5  34.917690\n",
            "                         177.5  34.917690\n",
            "                         178.5  34.917690\n",
            "                         179.5  34.917690\n",
            "\n",
            "[2183675 rows x 1 columns]\n",
            "Downloading Oxygen...\n"
          ]
        },
        {
          "output_type": "stream",
          "name": "stderr",
          "text": [
            "woa23_all_o04_01.nc: 100%|██████████| 33.8M/33.8M [00:00<00:00, 98.6MB/s]\n"
          ]
        },
        {
          "output_type": "stream",
          "name": "stdout",
          "text": [
            "\n",
            "Oxygen (Month 04):\n",
            "Variables: ['crs', 'lat', 'lat_bnds', 'lon', 'lon_bnds', 'depth', 'depth_bnds', 'time', 'climatology_bounds', 'o_an', 'o_mn', 'o_dd', 'o_sd', 'o_se', 'o_oa', 'o_ma', 'o_gp', 'o_sea']\n",
            "Data without NaNs (2183675 rows):\n",
            "                                      o_an\n",
            "time       depth  lat   lon               \n",
            "1993-04-01 0.0    -77.5 -178.5  303.874390\n",
            "                        -177.5  304.109924\n",
            "                        -176.5  304.500427\n",
            "                        -175.5  305.858643\n",
            "                        -174.5  305.896088\n",
            "...                                    ...\n",
            "           1500.0  89.5  175.5  294.755676\n",
            "                         176.5  294.755676\n",
            "                         177.5  294.755676\n",
            "                         178.5  294.755676\n",
            "                         179.5  294.755676\n",
            "\n",
            "[2183675 rows x 1 columns]\n",
            "Downloading Nitrate...\n"
          ]
        },
        {
          "output_type": "stream",
          "name": "stderr",
          "text": [
            "woa23_all_n04_01.nc: 100%|██████████| 19.6M/19.6M [00:00<00:00, 76.7MB/s]\n"
          ]
        },
        {
          "output_type": "stream",
          "name": "stdout",
          "text": [
            "\n",
            "Nitrate (Month 04):\n",
            "Variables: ['crs', 'lat', 'lat_bnds', 'lon', 'lon_bnds', 'depth', 'depth_bnds', 'time', 'climatology_bounds', 'n_an', 'n_mn', 'n_dd', 'n_sd', 'n_se', 'n_oa', 'n_ma', 'n_gp', 'n_sea']\n",
            "Data without NaNs (1680367 rows):\n",
            "                                    n_an\n",
            "time       depth lat   lon              \n",
            "1993-04-01 0.0   -77.5 -178.5  24.278917\n",
            "                       -177.5  24.632551\n",
            "                       -176.5  24.975040\n",
            "                       -175.5  25.286173\n",
            "                       -174.5  25.557447\n",
            "...                                  ...\n",
            "           800.0  89.5  175.5  12.877975\n",
            "                        176.5  12.877975\n",
            "                        177.5  12.877975\n",
            "                        178.5  12.877975\n",
            "                        179.5  12.877975\n",
            "\n",
            "[1680367 rows x 1 columns]\n",
            "Downloading Phosphate...\n"
          ]
        },
        {
          "output_type": "stream",
          "name": "stderr",
          "text": [
            "woa23_all_p04_01.nc: 100%|██████████| 21.5M/21.5M [00:00<00:00, 83.1MB/s]\n"
          ]
        },
        {
          "output_type": "stream",
          "name": "stdout",
          "text": [
            "\n",
            "Phosphate (Month 04):\n",
            "Variables: ['crs', 'lat', 'lat_bnds', 'lon', 'lon_bnds', 'depth', 'depth_bnds', 'time', 'climatology_bounds', 'p_an', 'p_mn', 'p_dd', 'p_sd', 'p_se', 'p_oa', 'p_ma', 'p_gp', 'p_sea']\n",
            "Data without NaNs (1680367 rows):\n",
            "                                   p_an\n",
            "time       depth lat   lon             \n",
            "1993-04-01 0.0   -77.5 -178.5  1.944704\n",
            "                       -177.5  1.933332\n",
            "                       -176.5  1.922340\n",
            "                       -175.5  1.911251\n",
            "                       -174.5  1.898543\n",
            "...                                 ...\n",
            "           800.0  89.5  175.5  0.880641\n",
            "                        176.5  0.880641\n",
            "                        177.5  0.880641\n",
            "                        178.5  0.880641\n",
            "                        179.5  0.880641\n",
            "\n",
            "[1680367 rows x 1 columns]\n",
            "\n",
            "=== Month 05 ===\n",
            "Downloading Temperature...\n"
          ]
        },
        {
          "output_type": "stream",
          "name": "stderr",
          "text": [
            "woa23_decav91C0_t05_01.nc: 100%|██████████| 57.7M/57.7M [00:00<00:00, 110MB/s]\n"
          ]
        },
        {
          "output_type": "stream",
          "name": "stdout",
          "text": [
            "\n",
            "Temperature (Month 05):\n",
            "Variables: ['crs', 'lat', 'lat_bnds', 'lon', 'lon_bnds', 'depth', 'depth_bnds', 'time', 'climatology_bounds', 't_an', 't_mn', 't_dd', 't_sd', 't_se', 't_oa', 't_ma', 't_gp', 't_sdo', 't_sea']\n",
            "Data without NaNs (2183675 rows):\n",
            "                                   t_an\n",
            "time       depth  lat   lon            \n",
            "2005-05-01 0.0    -77.5 -178.5 -1.83220\n",
            "                        -177.5 -1.83521\n",
            "                        -176.5 -1.83850\n",
            "                        -175.5 -1.84161\n",
            "                        -174.5 -1.84331\n",
            "...                                 ...\n",
            "           1500.0  89.5  175.5 -0.46671\n",
            "                         176.5 -0.46671\n",
            "                         177.5 -0.46671\n",
            "                         178.5 -0.46671\n",
            "                         179.5 -0.46671\n",
            "\n",
            "[2183675 rows x 1 columns]\n",
            "Downloading Salinity...\n"
          ]
        },
        {
          "output_type": "stream",
          "name": "stderr",
          "text": [
            "woa23_decav91C0_s05_01.nc: 100%|██████████| 51.2M/51.2M [00:00<00:00, 90.2MB/s]\n"
          ]
        },
        {
          "output_type": "stream",
          "name": "stdout",
          "text": [
            "\n",
            "Salinity (Month 05):\n",
            "Variables: ['crs', 'lat', 'lat_bnds', 'lon', 'lon_bnds', 'depth', 'depth_bnds', 'time', 'climatology_bounds', 's_an', 's_mn', 's_dd', 's_sd', 's_se', 's_oa', 's_ma', 's_gp', 's_sdo', 's_sea']\n",
            "Data without NaNs (2183675 rows):\n",
            "                                     s_an\n",
            "time       depth  lat   lon              \n",
            "2005-05-01 0.0    -77.5 -178.5  34.255711\n",
            "                        -177.5  34.236988\n",
            "                        -176.5  34.219090\n",
            "                        -175.5  34.201889\n",
            "                        -174.5  34.185310\n",
            "...                                   ...\n",
            "           1500.0  89.5  175.5  34.926590\n",
            "                         176.5  34.926590\n",
            "                         177.5  34.926590\n",
            "                         178.5  34.926590\n",
            "                         179.5  34.926590\n",
            "\n",
            "[2183675 rows x 1 columns]\n",
            "Downloading Oxygen...\n"
          ]
        },
        {
          "output_type": "stream",
          "name": "stderr",
          "text": [
            "woa23_all_o05_01.nc: 100%|██████████| 33.5M/33.5M [00:00<00:00, 81.5MB/s]\n"
          ]
        },
        {
          "output_type": "stream",
          "name": "stdout",
          "text": [
            "\n",
            "Oxygen (Month 05):\n",
            "Variables: ['crs', 'lat', 'lat_bnds', 'lon', 'lon_bnds', 'depth', 'depth_bnds', 'time', 'climatology_bounds', 'o_an', 'o_mn', 'o_dd', 'o_sd', 'o_se', 'o_oa', 'o_ma', 'o_gp', 'o_sea']\n",
            "Data without NaNs (2183675 rows):\n",
            "                                      o_an\n",
            "time       depth  lat   lon               \n",
            "1993-05-01 0.0    -77.5 -178.5  278.373840\n",
            "                        -177.5  278.606476\n",
            "                        -176.5  279.009949\n",
            "                        -175.5  281.473724\n",
            "                        -174.5  291.660858\n",
            "...                                    ...\n",
            "           1500.0  89.5  175.5  295.924530\n",
            "                         176.5  295.924530\n",
            "                         177.5  295.924530\n",
            "                         178.5  295.924530\n",
            "                         179.5  295.924530\n",
            "\n",
            "[2183675 rows x 1 columns]\n",
            "Downloading Nitrate...\n"
          ]
        },
        {
          "output_type": "stream",
          "name": "stderr",
          "text": [
            "woa23_all_n05_01.nc: 100%|██████████| 18.8M/18.8M [00:00<00:00, 74.0MB/s]\n"
          ]
        },
        {
          "output_type": "stream",
          "name": "stdout",
          "text": [
            "\n",
            "Nitrate (Month 05):\n",
            "Variables: ['crs', 'lat', 'lat_bnds', 'lon', 'lon_bnds', 'depth', 'depth_bnds', 'time', 'climatology_bounds', 'n_an', 'n_mn', 'n_dd', 'n_sd', 'n_se', 'n_oa', 'n_ma', 'n_gp', 'n_sea']\n",
            "Data without NaNs (1680367 rows):\n",
            "                                    n_an\n",
            "time       depth lat   lon              \n",
            "1993-05-01 0.0   -77.5 -178.5  24.328695\n",
            "                       -177.5  24.582172\n",
            "                       -176.5  24.815140\n",
            "                       -175.5  25.010792\n",
            "                       -174.5  25.158895\n",
            "...                                  ...\n",
            "           800.0  89.5  175.5  13.320745\n",
            "                        176.5  13.320745\n",
            "                        177.5  13.320745\n",
            "                        178.5  13.320745\n",
            "                        179.5  13.320745\n",
            "\n",
            "[1680367 rows x 1 columns]\n",
            "Downloading Phosphate...\n"
          ]
        },
        {
          "output_type": "stream",
          "name": "stderr",
          "text": [
            "woa23_all_p05_01.nc: 100%|██████████| 20.6M/20.6M [00:00<00:00, 77.9MB/s]\n"
          ]
        },
        {
          "output_type": "stream",
          "name": "stdout",
          "text": [
            "\n",
            "Phosphate (Month 05):\n",
            "Variables: ['crs', 'lat', 'lat_bnds', 'lon', 'lon_bnds', 'depth', 'depth_bnds', 'time', 'climatology_bounds', 'p_an', 'p_mn', 'p_dd', 'p_sd', 'p_se', 'p_oa', 'p_ma', 'p_gp', 'p_sea']\n",
            "Data without NaNs (1680367 rows):\n",
            "                                   p_an\n",
            "time       depth lat   lon             \n",
            "1993-05-01 0.0   -77.5 -178.5  2.112110\n",
            "                       -177.5  2.102006\n",
            "                       -176.5  2.091640\n",
            "                       -175.5  2.080475\n",
            "                       -174.5  2.068054\n",
            "...                                 ...\n",
            "           800.0  89.5  175.5  0.874401\n",
            "                        176.5  0.874401\n",
            "                        177.5  0.874401\n",
            "                        178.5  0.874401\n",
            "                        179.5  0.874401\n",
            "\n",
            "[1680367 rows x 1 columns]\n",
            "\n",
            "=== Month 06 ===\n",
            "Downloading Temperature...\n"
          ]
        },
        {
          "output_type": "stream",
          "name": "stderr",
          "text": [
            "woa23_decav91C0_t06_01.nc: 100%|██████████| 57.2M/57.2M [00:00<00:00, 90.9MB/s]\n"
          ]
        },
        {
          "output_type": "stream",
          "name": "stdout",
          "text": [
            "\n",
            "Temperature (Month 06):\n",
            "Variables: ['crs', 'lat', 'lat_bnds', 'lon', 'lon_bnds', 'depth', 'depth_bnds', 'time', 'climatology_bounds', 't_an', 't_mn', 't_dd', 't_sd', 't_se', 't_oa', 't_ma', 't_gp', 't_sdo', 't_sea']\n",
            "Data without NaNs (2183675 rows):\n",
            "                                   t_an\n",
            "time       depth  lat   lon            \n",
            "2005-06-01 0.0    -77.5 -178.5 -1.75131\n",
            "                        -177.5 -1.30181\n",
            "                        -176.5 -1.19850\n",
            "                        -175.5 -1.22721\n",
            "                        -174.5 -1.50421\n",
            "...                                 ...\n",
            "           1500.0  89.5  175.5 -0.44281\n",
            "                         176.5 -0.44281\n",
            "                         177.5 -0.44281\n",
            "                         178.5 -0.44281\n",
            "                         179.5 -0.44281\n",
            "\n",
            "[2183675 rows x 1 columns]\n",
            "Downloading Salinity...\n"
          ]
        },
        {
          "output_type": "stream",
          "name": "stderr",
          "text": [
            "woa23_decav91C0_s06_01.nc: 100%|██████████| 50.8M/50.8M [00:00<00:00, 95.2MB/s]\n"
          ]
        },
        {
          "output_type": "stream",
          "name": "stdout",
          "text": [
            "\n",
            "Salinity (Month 06):\n",
            "Variables: ['crs', 'lat', 'lat_bnds', 'lon', 'lon_bnds', 'depth', 'depth_bnds', 'time', 'climatology_bounds', 's_an', 's_mn', 's_dd', 's_sd', 's_se', 's_oa', 's_ma', 's_gp', 's_sdo', 's_sea']\n",
            "Data without NaNs (2183675 rows):\n",
            "                                     s_an\n",
            "time       depth  lat   lon              \n",
            "2005-06-01 0.0    -77.5 -178.5  34.400288\n",
            "                        -177.5  34.406990\n",
            "                        -176.5  34.396290\n",
            "                        -175.5  34.385311\n",
            "                        -174.5  34.364189\n",
            "...                                   ...\n",
            "           1500.0  89.5  175.5  34.943790\n",
            "                         176.5  34.943790\n",
            "                         177.5  34.943790\n",
            "                         178.5  34.943790\n",
            "                         179.5  34.943790\n",
            "\n",
            "[2183675 rows x 1 columns]\n",
            "Downloading Oxygen...\n"
          ]
        },
        {
          "output_type": "stream",
          "name": "stderr",
          "text": [
            "woa23_all_o06_01.nc: 100%|██████████| 33.1M/33.1M [00:00<00:00, 53.0MB/s]\n"
          ]
        },
        {
          "output_type": "stream",
          "name": "stdout",
          "text": [
            "\n",
            "Oxygen (Month 06):\n",
            "Variables: ['crs', 'lat', 'lat_bnds', 'lon', 'lon_bnds', 'depth', 'depth_bnds', 'time', 'climatology_bounds', 'o_an', 'o_mn', 'o_dd', 'o_sd', 'o_se', 'o_oa', 'o_ma', 'o_gp', 'o_sea']\n",
            "Data without NaNs (2183675 rows):\n",
            "                                      o_an\n",
            "time       depth  lat   lon               \n",
            "1993-06-01 0.0    -77.5 -178.5  298.321564\n",
            "                        -177.5  298.448395\n",
            "                        -176.5  298.704407\n",
            "                        -175.5  300.015564\n",
            "                        -174.5  299.995819\n",
            "...                                    ...\n",
            "           1500.0  89.5  175.5  299.277466\n",
            "                         176.5  299.277466\n",
            "                         177.5  299.277466\n",
            "                         178.5  299.277466\n",
            "                         179.5  299.277466\n",
            "\n",
            "[2183675 rows x 1 columns]\n",
            "Downloading Nitrate...\n"
          ]
        },
        {
          "output_type": "stream",
          "name": "stderr",
          "text": [
            "woa23_all_n06_01.nc: 100%|██████████| 18.1M/18.1M [00:00<00:00, 85.7MB/s]\n"
          ]
        },
        {
          "output_type": "stream",
          "name": "stdout",
          "text": [
            "\n",
            "Nitrate (Month 06):\n",
            "Variables: ['crs', 'lat', 'lat_bnds', 'lon', 'lon_bnds', 'depth', 'depth_bnds', 'time', 'climatology_bounds', 'n_an', 'n_mn', 'n_dd', 'n_sd', 'n_se', 'n_oa', 'n_ma', 'n_gp', 'n_sea']\n",
            "Data without NaNs (1680367 rows):\n",
            "                                    n_an\n",
            "time       depth lat   lon              \n",
            "1993-06-01 0.0   -77.5 -178.5  23.923925\n",
            "                       -177.5  24.177402\n",
            "                       -176.5  24.410370\n",
            "                       -175.5  24.606022\n",
            "                       -174.5  24.754126\n",
            "...                                  ...\n",
            "           800.0  89.5  175.5  13.342852\n",
            "                        176.5  13.342852\n",
            "                        177.5  13.342852\n",
            "                        178.5  13.342852\n",
            "                        179.5  13.342852\n",
            "\n",
            "[1680367 rows x 1 columns]\n",
            "Downloading Phosphate...\n"
          ]
        },
        {
          "output_type": "stream",
          "name": "stderr",
          "text": [
            "woa23_all_p06_01.nc: 100%|██████████| 20.1M/20.1M [00:02<00:00, 8.12MB/s]\n"
          ]
        },
        {
          "output_type": "stream",
          "name": "stdout",
          "text": [
            "\n",
            "Phosphate (Month 06):\n",
            "Variables: ['crs', 'lat', 'lat_bnds', 'lon', 'lon_bnds', 'depth', 'depth_bnds', 'time', 'climatology_bounds', 'p_an', 'p_mn', 'p_dd', 'p_sd', 'p_se', 'p_oa', 'p_ma', 'p_gp', 'p_sea']\n",
            "Data without NaNs (1680367 rows):\n",
            "                                   p_an\n",
            "time       depth lat   lon             \n",
            "1993-06-01 0.0   -77.5 -178.5  2.005820\n",
            "                       -177.5  1.995716\n",
            "                       -176.5  1.985350\n",
            "                       -175.5  1.974185\n",
            "                       -174.5  1.961764\n",
            "...                                 ...\n",
            "           800.0  89.5  175.5  1.041426\n",
            "                        176.5  1.041426\n",
            "                        177.5  1.041426\n",
            "                        178.5  1.041426\n",
            "                        179.5  1.041426\n",
            "\n",
            "[1680367 rows x 1 columns]\n",
            "\n",
            "=== Month 07 ===\n",
            "Downloading Temperature...\n"
          ]
        },
        {
          "output_type": "stream",
          "name": "stderr",
          "text": [
            "woa23_decav91C0_t07_01.nc: 100%|██████████| 57.7M/57.7M [00:00<00:00, 116MB/s]\n"
          ]
        },
        {
          "output_type": "stream",
          "name": "stdout",
          "text": [
            "\n",
            "Temperature (Month 07):\n",
            "Variables: ['crs', 'lat', 'lat_bnds', 'lon', 'lon_bnds', 'depth', 'depth_bnds', 'time', 'climatology_bounds', 't_an', 't_mn', 't_dd', 't_sd', 't_se', 't_oa', 't_ma', 't_gp', 't_sdo', 't_sea']\n",
            "Data without NaNs (2183675 rows):\n",
            "                                   t_an\n",
            "time       depth  lat   lon            \n",
            "2005-07-01 0.0    -77.5 -178.5 -1.79251\n",
            "                        -177.5 -1.78921\n",
            "                        -176.5 -1.78561\n",
            "                        -175.5 -1.78281\n",
            "                        -174.5 -1.78201\n",
            "...                                 ...\n",
            "           1500.0  89.5  175.5 -0.41821\n",
            "                         176.5 -0.41821\n",
            "                         177.5 -0.41821\n",
            "                         178.5 -0.41821\n",
            "                         179.5 -0.41821\n",
            "\n",
            "[2183675 rows x 1 columns]\n",
            "Downloading Salinity...\n"
          ]
        },
        {
          "output_type": "stream",
          "name": "stderr",
          "text": [
            "woa23_decav91C0_s07_01.nc: 100%|██████████| 51.2M/51.2M [00:00<00:00, 99.8MB/s]\n"
          ]
        },
        {
          "output_type": "stream",
          "name": "stdout",
          "text": [
            "\n",
            "Salinity (Month 07):\n",
            "Variables: ['crs', 'lat', 'lat_bnds', 'lon', 'lon_bnds', 'depth', 'depth_bnds', 'time', 'climatology_bounds', 's_an', 's_mn', 's_dd', 's_sd', 's_se', 's_oa', 's_ma', 's_gp', 's_sdo', 's_sea']\n",
            "Data without NaNs (2183675 rows):\n",
            "                                     s_an\n",
            "time       depth  lat   lon              \n",
            "2005-07-01 0.0    -77.5 -178.5  34.338287\n",
            "                        -177.5  34.337002\n",
            "                        -176.5  34.336510\n",
            "                        -175.5  34.337112\n",
            "                        -174.5  34.338612\n",
            "...                                   ...\n",
            "           1500.0  89.5  175.5  34.932110\n",
            "                         176.5  34.932110\n",
            "                         177.5  34.932110\n",
            "                         178.5  34.932110\n",
            "                         179.5  34.932110\n",
            "\n",
            "[2183675 rows x 1 columns]\n",
            "Downloading Oxygen...\n"
          ]
        },
        {
          "output_type": "stream",
          "name": "stderr",
          "text": [
            "woa23_all_o07_01.nc: 100%|██████████| 33.4M/33.4M [00:00<00:00, 88.9MB/s]\n"
          ]
        },
        {
          "output_type": "stream",
          "name": "stdout",
          "text": [
            "\n",
            "Oxygen (Month 07):\n",
            "Variables: ['crs', 'lat', 'lat_bnds', 'lon', 'lon_bnds', 'depth', 'depth_bnds', 'time', 'climatology_bounds', 'o_an', 'o_mn', 'o_dd', 'o_sd', 'o_se', 'o_oa', 'o_ma', 'o_gp', 'o_sea']\n",
            "Data without NaNs (2183675 rows):\n",
            "                                      o_an\n",
            "time       depth  lat   lon               \n",
            "1993-07-01 0.0    -77.5 -178.5  323.076172\n",
            "                        -177.5  322.707733\n",
            "                        -176.5  322.382660\n",
            "                        -175.5  322.119110\n",
            "                        -174.5  321.901581\n",
            "...                                    ...\n",
            "           1500.0  89.5  175.5  302.542450\n",
            "                         176.5  302.542450\n",
            "                         177.5  302.542450\n",
            "                         178.5  302.542450\n",
            "                         179.5  302.542450\n",
            "\n",
            "[2183675 rows x 1 columns]\n",
            "Downloading Nitrate...\n"
          ]
        },
        {
          "output_type": "stream",
          "name": "stderr",
          "text": [
            "woa23_all_n07_01.nc: 100%|██████████| 18.3M/18.3M [00:00<00:00, 72.8MB/s]\n"
          ]
        },
        {
          "output_type": "stream",
          "name": "stdout",
          "text": [
            "\n",
            "Nitrate (Month 07):\n",
            "Variables: ['crs', 'lat', 'lat_bnds', 'lon', 'lon_bnds', 'depth', 'depth_bnds', 'time', 'climatology_bounds', 'n_an', 'n_mn', 'n_dd', 'n_sd', 'n_se', 'n_oa', 'n_ma', 'n_gp', 'n_sea']\n",
            "Data without NaNs (1680367 rows):\n",
            "                                    n_an\n",
            "time       depth lat   lon              \n",
            "1993-07-01 0.0   -77.5 -178.5  16.778564\n",
            "                       -177.5  16.830948\n",
            "                       -176.5  16.856922\n",
            "                       -175.5  16.835907\n",
            "                       -174.5  16.756615\n",
            "...                                  ...\n",
            "           800.0  89.5  175.5  12.578201\n",
            "                        176.5  12.578201\n",
            "                        177.5  12.578201\n",
            "                        178.5  12.578201\n",
            "                        179.5  12.578201\n",
            "\n",
            "[1680367 rows x 1 columns]\n",
            "Downloading Phosphate...\n"
          ]
        },
        {
          "output_type": "stream",
          "name": "stderr",
          "text": [
            "woa23_all_p07_01.nc: 100%|██████████| 20.5M/20.5M [00:00<00:00, 77.4MB/s]\n"
          ]
        },
        {
          "output_type": "stream",
          "name": "stdout",
          "text": [
            "\n",
            "Phosphate (Month 07):\n",
            "Variables: ['crs', 'lat', 'lat_bnds', 'lon', 'lon_bnds', 'depth', 'depth_bnds', 'time', 'climatology_bounds', 'p_an', 'p_mn', 'p_dd', 'p_sd', 'p_se', 'p_oa', 'p_ma', 'p_gp', 'p_sea']\n",
            "Data without NaNs (1680367 rows):\n",
            "                                   p_an\n",
            "time       depth lat   lon             \n",
            "1993-07-01 0.0   -77.5 -178.5  1.446110\n",
            "                       -177.5  1.444828\n",
            "                       -176.5  1.442571\n",
            "                       -175.5  1.438780\n",
            "                       -174.5  1.433413\n",
            "...                                 ...\n",
            "           800.0  89.5  175.5  0.854086\n",
            "                        176.5  0.854086\n",
            "                        177.5  0.854086\n",
            "                        178.5  0.854086\n",
            "                        179.5  0.854086\n",
            "\n",
            "[1680367 rows x 1 columns]\n",
            "\n",
            "=== Month 08 ===\n",
            "Downloading Temperature...\n"
          ]
        },
        {
          "output_type": "stream",
          "name": "stderr",
          "text": [
            "woa23_decav91C0_t08_01.nc: 100%|██████████| 58.3M/58.3M [00:00<00:00, 118MB/s]\n"
          ]
        },
        {
          "output_type": "stream",
          "name": "stdout",
          "text": [
            "\n",
            "Temperature (Month 08):\n",
            "Variables: ['crs', 'lat', 'lat_bnds', 'lon', 'lon_bnds', 'depth', 'depth_bnds', 'time', 'climatology_bounds', 't_an', 't_mn', 't_dd', 't_sd', 't_se', 't_oa', 't_ma', 't_gp', 't_sdo', 't_sea']\n",
            "Data without NaNs (2183675 rows):\n",
            "                                   t_an\n",
            "time       depth  lat   lon            \n",
            "2005-08-01 0.0    -77.5 -178.5 -1.81151\n",
            "                        -177.5 -1.80951\n",
            "                        -176.5 -1.76711\n",
            "                        -175.5 -1.80271\n",
            "                        -174.5 -1.74051\n",
            "...                                 ...\n",
            "           1500.0  89.5  175.5 -0.47841\n",
            "                         176.5 -0.47841\n",
            "                         177.5 -0.47841\n",
            "                         178.5 -0.47841\n",
            "                         179.5 -0.47841\n",
            "\n",
            "[2183675 rows x 1 columns]\n",
            "Downloading Salinity...\n"
          ]
        },
        {
          "output_type": "stream",
          "name": "stderr",
          "text": [
            "woa23_decav91C0_s08_01.nc: 100%|██████████| 51.8M/51.8M [00:00<00:00, 89.2MB/s]\n"
          ]
        },
        {
          "output_type": "stream",
          "name": "stdout",
          "text": [
            "\n",
            "Salinity (Month 08):\n",
            "Variables: ['crs', 'lat', 'lat_bnds', 'lon', 'lon_bnds', 'depth', 'depth_bnds', 'time', 'climatology_bounds', 's_an', 's_mn', 's_dd', 's_sd', 's_se', 's_oa', 's_ma', 's_gp', 's_sdo', 's_sea']\n",
            "Data without NaNs (2183675 rows):\n",
            "                                     s_an\n",
            "time       depth  lat   lon              \n",
            "2005-08-01 0.0    -77.5 -178.5  34.386288\n",
            "                        -177.5  34.380413\n",
            "                        -176.5  34.375511\n",
            "                        -175.5  34.366787\n",
            "                        -174.5  34.360989\n",
            "...                                   ...\n",
            "           1500.0  89.5  175.5  34.917988\n",
            "                         176.5  34.917988\n",
            "                         177.5  34.917988\n",
            "                         178.5  34.917988\n",
            "                         179.5  34.917988\n",
            "\n",
            "[2183675 rows x 1 columns]\n",
            "Downloading Oxygen...\n"
          ]
        },
        {
          "output_type": "stream",
          "name": "stderr",
          "text": [
            "woa23_all_o08_01.nc: 100%|██████████| 34.0M/34.0M [00:00<00:00, 99.0MB/s]\n"
          ]
        },
        {
          "output_type": "stream",
          "name": "stdout",
          "text": [
            "\n",
            "Oxygen (Month 08):\n",
            "Variables: ['crs', 'lat', 'lat_bnds', 'lon', 'lon_bnds', 'depth', 'depth_bnds', 'time', 'climatology_bounds', 'o_an', 'o_mn', 'o_dd', 'o_sd', 'o_se', 'o_oa', 'o_ma', 'o_gp', 'o_sea']\n",
            "Data without NaNs (2183675 rows):\n",
            "                                      o_an\n",
            "time       depth  lat   lon               \n",
            "1993-08-01 0.0    -77.5 -178.5  322.052094\n",
            "                        -177.5  321.683655\n",
            "                        -176.5  321.358582\n",
            "                        -175.5  321.095032\n",
            "                        -174.5  320.877502\n",
            "...                                    ...\n",
            "           1500.0  89.5  175.5  300.967163\n",
            "                         176.5  300.967163\n",
            "                         177.5  300.967163\n",
            "                         178.5  300.967163\n",
            "                         179.5  300.967163\n",
            "\n",
            "[2183675 rows x 1 columns]\n",
            "Downloading Nitrate...\n"
          ]
        },
        {
          "output_type": "stream",
          "name": "stderr",
          "text": [
            "woa23_all_n08_01.nc: 100%|██████████| 18.9M/18.9M [00:00<00:00, 69.5MB/s]\n"
          ]
        },
        {
          "output_type": "stream",
          "name": "stdout",
          "text": [
            "\n",
            "Nitrate (Month 08):\n",
            "Variables: ['crs', 'lat', 'lat_bnds', 'lon', 'lon_bnds', 'depth', 'depth_bnds', 'time', 'climatology_bounds', 'n_an', 'n_mn', 'n_dd', 'n_sd', 'n_se', 'n_oa', 'n_ma', 'n_gp', 'n_sea']\n",
            "Data without NaNs (1680367 rows):\n",
            "                                    n_an\n",
            "time       depth lat   lon              \n",
            "1993-08-01 0.0   -77.5 -178.5  16.778564\n",
            "                       -177.5  16.830948\n",
            "                       -176.5  16.856922\n",
            "                       -175.5  16.835907\n",
            "                       -174.5  16.756615\n",
            "...                                  ...\n",
            "           800.0  89.5  175.5  12.566707\n",
            "                        176.5  12.566707\n",
            "                        177.5  12.566707\n",
            "                        178.5  12.566707\n",
            "                        179.5  12.566707\n",
            "\n",
            "[1680367 rows x 1 columns]\n",
            "Downloading Phosphate...\n"
          ]
        },
        {
          "output_type": "stream",
          "name": "stderr",
          "text": [
            "woa23_all_p08_01.nc: 100%|██████████| 20.9M/20.9M [00:00<00:00, 67.9MB/s]\n"
          ]
        },
        {
          "output_type": "stream",
          "name": "stdout",
          "text": [
            "\n",
            "Phosphate (Month 08):\n",
            "Variables: ['crs', 'lat', 'lat_bnds', 'lon', 'lon_bnds', 'depth', 'depth_bnds', 'time', 'climatology_bounds', 'p_an', 'p_mn', 'p_dd', 'p_sd', 'p_se', 'p_oa', 'p_ma', 'p_gp', 'p_sea']\n",
            "Data without NaNs (1680367 rows):\n",
            "                                   p_an\n",
            "time       depth lat   lon             \n",
            "1993-08-01 0.0   -77.5 -178.5  1.446110\n",
            "                       -177.5  1.444828\n",
            "                       -176.5  1.442571\n",
            "                       -175.5  1.438780\n",
            "                       -174.5  1.433413\n",
            "...                                 ...\n",
            "           800.0  89.5  175.5  0.881706\n",
            "                        176.5  0.881706\n",
            "                        177.5  0.881706\n",
            "                        178.5  0.881706\n",
            "                        179.5  0.881706\n",
            "\n",
            "[1680367 rows x 1 columns]\n",
            "\n",
            "=== Month 09 ===\n",
            "Downloading Temperature...\n"
          ]
        },
        {
          "output_type": "stream",
          "name": "stderr",
          "text": [
            "woa23_decav91C0_t09_01.nc: 100%|██████████| 58.2M/58.2M [00:00<00:00, 114MB/s]\n"
          ]
        },
        {
          "output_type": "stream",
          "name": "stdout",
          "text": [
            "\n",
            "Temperature (Month 09):\n",
            "Variables: ['crs', 'lat', 'lat_bnds', 'lon', 'lon_bnds', 'depth', 'depth_bnds', 'time', 'climatology_bounds', 't_an', 't_mn', 't_dd', 't_sd', 't_se', 't_oa', 't_ma', 't_gp', 't_sdo', 't_sea']\n",
            "Data without NaNs (2183675 rows):\n",
            "                                   t_an\n",
            "time       depth  lat   lon            \n",
            "2005-09-01 0.0    -77.5 -178.5 -1.74761\n",
            "                        -177.5 -1.64310\n",
            "                        -176.5 -1.67291\n",
            "                        -175.5 -1.70721\n",
            "                        -174.5 -1.81940\n",
            "...                                 ...\n",
            "           1500.0  89.5  175.5 -0.45980\n",
            "                         176.5 -0.45980\n",
            "                         177.5 -0.45980\n",
            "                         178.5 -0.45980\n",
            "                         179.5 -0.45980\n",
            "\n",
            "[2183675 rows x 1 columns]\n",
            "Downloading Salinity...\n"
          ]
        },
        {
          "output_type": "stream",
          "name": "stderr",
          "text": [
            "woa23_decav91C0_s09_01.nc: 100%|██████████| 51.9M/51.9M [00:00<00:00, 89.6MB/s]\n"
          ]
        },
        {
          "output_type": "stream",
          "name": "stdout",
          "text": [
            "\n",
            "Salinity (Month 09):\n",
            "Variables: ['crs', 'lat', 'lat_bnds', 'lon', 'lon_bnds', 'depth', 'depth_bnds', 'time', 'climatology_bounds', 's_an', 's_mn', 's_dd', 's_sd', 's_se', 's_oa', 's_ma', 's_gp', 's_sdo', 's_sea']\n",
            "Data without NaNs (2183675 rows):\n",
            "                                     s_an\n",
            "time       depth  lat   lon              \n",
            "2005-09-01 0.0    -77.5 -178.5  34.398998\n",
            "                        -177.5  34.394287\n",
            "                        -176.5  34.385612\n",
            "                        -175.5  34.375690\n",
            "                        -174.5  34.366913\n",
            "...                                   ...\n",
            "           1500.0  89.5  175.5  34.921112\n",
            "                         176.5  34.921112\n",
            "                         177.5  34.921112\n",
            "                         178.5  34.921112\n",
            "                         179.5  34.921112\n",
            "\n",
            "[2183675 rows x 1 columns]\n",
            "Downloading Oxygen...\n"
          ]
        },
        {
          "output_type": "stream",
          "name": "stderr",
          "text": [
            "woa23_all_o09_01.nc: 100%|██████████| 33.4M/33.4M [00:00<00:00, 91.1MB/s]\n"
          ]
        },
        {
          "output_type": "stream",
          "name": "stdout",
          "text": [
            "\n",
            "Oxygen (Month 09):\n",
            "Variables: ['crs', 'lat', 'lat_bnds', 'lon', 'lon_bnds', 'depth', 'depth_bnds', 'time', 'climatology_bounds', 'o_an', 'o_mn', 'o_dd', 'o_sd', 'o_se', 'o_oa', 'o_ma', 'o_gp', 'o_sea']\n",
            "Data without NaNs (2183675 rows):\n",
            "                                      o_an\n",
            "time       depth  lat   lon               \n",
            "1993-09-01 0.0    -77.5 -178.5  322.052094\n",
            "                        -177.5  321.683655\n",
            "                        -176.5  321.358582\n",
            "                        -175.5  321.095032\n",
            "                        -174.5  320.877502\n",
            "...                                    ...\n",
            "           1500.0  89.5  175.5  300.266327\n",
            "                         176.5  300.266327\n",
            "                         177.5  300.266327\n",
            "                         178.5  300.266327\n",
            "                         179.5  300.266327\n",
            "\n",
            "[2183675 rows x 1 columns]\n",
            "Downloading Nitrate...\n"
          ]
        },
        {
          "output_type": "stream",
          "name": "stderr",
          "text": [
            "woa23_all_n09_01.nc: 100%|██████████| 18.6M/18.6M [00:00<00:00, 74.5MB/s]\n"
          ]
        },
        {
          "output_type": "stream",
          "name": "stdout",
          "text": [
            "\n",
            "Nitrate (Month 09):\n",
            "Variables: ['crs', 'lat', 'lat_bnds', 'lon', 'lon_bnds', 'depth', 'depth_bnds', 'time', 'climatology_bounds', 'n_an', 'n_mn', 'n_dd', 'n_sd', 'n_se', 'n_oa', 'n_ma', 'n_gp', 'n_sea']\n",
            "Data without NaNs (1680367 rows):\n",
            "                                    n_an\n",
            "time       depth lat   lon              \n",
            "1993-09-01 0.0   -77.5 -178.5  16.778564\n",
            "                       -177.5  16.830948\n",
            "                       -176.5  16.856922\n",
            "                       -175.5  16.835907\n",
            "                       -174.5  16.756615\n",
            "...                                  ...\n",
            "           800.0  89.5  175.5  12.412371\n",
            "                        176.5  12.412371\n",
            "                        177.5  12.412371\n",
            "                        178.5  12.412371\n",
            "                        179.5  12.412371\n",
            "\n",
            "[1680367 rows x 1 columns]\n",
            "Downloading Phosphate...\n"
          ]
        },
        {
          "output_type": "stream",
          "name": "stderr",
          "text": [
            "woa23_all_p09_01.nc: 100%|██████████| 20.4M/20.4M [00:00<00:00, 81.8MB/s]\n"
          ]
        },
        {
          "output_type": "stream",
          "name": "stdout",
          "text": [
            "\n",
            "Phosphate (Month 09):\n",
            "Variables: ['crs', 'lat', 'lat_bnds', 'lon', 'lon_bnds', 'depth', 'depth_bnds', 'time', 'climatology_bounds', 'p_an', 'p_mn', 'p_dd', 'p_sd', 'p_se', 'p_oa', 'p_ma', 'p_gp', 'p_sea']\n",
            "Data without NaNs (1680367 rows):\n",
            "                                   p_an\n",
            "time       depth lat   lon             \n",
            "1993-09-01 0.0   -77.5 -178.5  1.446110\n",
            "                       -177.5  1.444828\n",
            "                       -176.5  1.442571\n",
            "                       -175.5  1.438780\n",
            "                       -174.5  1.433413\n",
            "...                                 ...\n",
            "           800.0  89.5  175.5  0.852969\n",
            "                        176.5  0.852969\n",
            "                        177.5  0.852969\n",
            "                        178.5  0.852969\n",
            "                        179.5  0.852969\n",
            "\n",
            "[1680367 rows x 1 columns]\n",
            "\n",
            "=== Month 10 ===\n",
            "Downloading Temperature...\n"
          ]
        },
        {
          "output_type": "stream",
          "name": "stderr",
          "text": [
            "woa23_decav91C0_t10_01.nc: 100%|██████████| 57.7M/57.7M [00:00<00:00, 109MB/s]\n"
          ]
        },
        {
          "output_type": "stream",
          "name": "stdout",
          "text": [
            "\n",
            "Temperature (Month 10):\n",
            "Variables: ['crs', 'lat', 'lat_bnds', 'lon', 'lon_bnds', 'depth', 'depth_bnds', 'time', 'climatology_bounds', 't_an', 't_mn', 't_dd', 't_sd', 't_se', 't_oa', 't_ma', 't_gp', 't_sdo', 't_sea']\n",
            "Data without NaNs (2183675 rows):\n",
            "                                   t_an\n",
            "time       depth  lat   lon            \n",
            "2005-10-01 0.0    -77.5 -178.5 -1.68290\n",
            "                        -177.5 -1.79661\n",
            "                        -176.5 -1.79651\n",
            "                        -175.5 -1.53950\n",
            "                        -174.5 -1.79851\n",
            "...                                 ...\n",
            "           1500.0  89.5  175.5 -0.38910\n",
            "                         176.5 -0.38910\n",
            "                         177.5 -0.38910\n",
            "                         178.5 -0.38910\n",
            "                         179.5 -0.38910\n",
            "\n",
            "[2183675 rows x 1 columns]\n",
            "Downloading Salinity...\n"
          ]
        },
        {
          "output_type": "stream",
          "name": "stderr",
          "text": [
            "woa23_decav91C0_s10_01.nc: 100%|██████████| 51.5M/51.5M [00:00<00:00, 113MB/s]\n"
          ]
        },
        {
          "output_type": "stream",
          "name": "stdout",
          "text": [
            "\n",
            "Salinity (Month 10):\n",
            "Variables: ['crs', 'lat', 'lat_bnds', 'lon', 'lon_bnds', 'depth', 'depth_bnds', 'time', 'climatology_bounds', 's_an', 's_mn', 's_dd', 's_sd', 's_se', 's_oa', 's_ma', 's_gp', 's_sdo', 's_sea']\n",
            "Data without NaNs (2183675 rows):\n",
            "                                     s_an\n",
            "time       depth  lat   lon              \n",
            "2005-10-01 0.0    -77.5 -178.5  34.443111\n",
            "                        -177.5  34.429012\n",
            "                        -176.5  34.415699\n",
            "                        -175.5  34.412510\n",
            "                        -174.5  34.390911\n",
            "...                                   ...\n",
            "           1500.0  89.5  175.5  34.957310\n",
            "                         176.5  34.957310\n",
            "                         177.5  34.957310\n",
            "                         178.5  34.957310\n",
            "                         179.5  34.957310\n",
            "\n",
            "[2183675 rows x 1 columns]\n",
            "Downloading Oxygen...\n"
          ]
        },
        {
          "output_type": "stream",
          "name": "stderr",
          "text": [
            "woa23_all_o10_01.nc: 100%|██████████| 32.8M/32.8M [00:00<00:00, 89.9MB/s]\n"
          ]
        },
        {
          "output_type": "stream",
          "name": "stdout",
          "text": [
            "\n",
            "Oxygen (Month 10):\n",
            "Variables: ['crs', 'lat', 'lat_bnds', 'lon', 'lon_bnds', 'depth', 'depth_bnds', 'time', 'climatology_bounds', 'o_an', 'o_mn', 'o_dd', 'o_sd', 'o_se', 'o_oa', 'o_ma', 'o_gp', 'o_sea']\n",
            "Data without NaNs (2183675 rows):\n",
            "                                      o_an\n",
            "time       depth  lat   lon               \n",
            "1993-10-01 0.0    -77.5 -178.5  291.698853\n",
            "                        -177.5  293.346008\n",
            "                        -176.5  295.065796\n",
            "                        -175.5  296.945251\n",
            "                        -174.5  298.960449\n",
            "...                                    ...\n",
            "           1500.0  89.5  175.5  302.927917\n",
            "                         176.5  302.927917\n",
            "                         177.5  302.927917\n",
            "                         178.5  302.927917\n",
            "                         179.5  302.927917\n",
            "\n",
            "[2183675 rows x 1 columns]\n",
            "Downloading Nitrate...\n"
          ]
        },
        {
          "output_type": "stream",
          "name": "stderr",
          "text": [
            "woa23_all_n10_01.nc: 100%|██████████| 18.3M/18.3M [00:00<00:00, 76.2MB/s]\n"
          ]
        },
        {
          "output_type": "stream",
          "name": "stdout",
          "text": [
            "\n",
            "Nitrate (Month 10):\n",
            "Variables: ['crs', 'lat', 'lat_bnds', 'lon', 'lon_bnds', 'depth', 'depth_bnds', 'time', 'climatology_bounds', 'n_an', 'n_mn', 'n_dd', 'n_sd', 'n_se', 'n_oa', 'n_ma', 'n_gp', 'n_sea']\n",
            "Data without NaNs (1680367 rows):\n",
            "                                    n_an\n",
            "time       depth lat   lon              \n",
            "1993-10-01 0.0   -77.5 -178.5  27.494480\n",
            "                       -177.5  27.654556\n",
            "                       -176.5  27.791430\n",
            "                       -175.5  27.865553\n",
            "                       -174.5  27.845623\n",
            "...                                  ...\n",
            "           800.0  89.5  175.5  12.469302\n",
            "                        176.5  12.469302\n",
            "                        177.5  12.469302\n",
            "                        178.5  12.469302\n",
            "                        179.5  12.469302\n",
            "\n",
            "[1680367 rows x 1 columns]\n",
            "Downloading Phosphate...\n"
          ]
        },
        {
          "output_type": "stream",
          "name": "stderr",
          "text": [
            "woa23_all_p10_01.nc: 100%|██████████| 20.3M/20.3M [00:00<00:00, 64.3MB/s]\n"
          ]
        },
        {
          "output_type": "stream",
          "name": "stdout",
          "text": [
            "\n",
            "Phosphate (Month 10):\n",
            "Variables: ['crs', 'lat', 'lat_bnds', 'lon', 'lon_bnds', 'depth', 'depth_bnds', 'time', 'climatology_bounds', 'p_an', 'p_mn', 'p_dd', 'p_sd', 'p_se', 'p_oa', 'p_ma', 'p_gp', 'p_sea']\n",
            "Data without NaNs (1680367 rows):\n",
            "                                   p_an\n",
            "time       depth lat   lon             \n",
            "1993-10-01 0.0   -77.5 -178.5  2.019446\n",
            "                       -177.5  2.011551\n",
            "                       -176.5  2.005416\n",
            "                       -175.5  2.001325\n",
            "                       -174.5  1.999325\n",
            "...                                 ...\n",
            "           800.0  89.5  175.5  0.774717\n",
            "                        176.5  0.774717\n",
            "                        177.5  0.774717\n",
            "                        178.5  0.774717\n",
            "                        179.5  0.774717\n",
            "\n",
            "[1680367 rows x 1 columns]\n",
            "\n",
            "=== Month 11 ===\n",
            "Downloading Temperature...\n"
          ]
        },
        {
          "output_type": "stream",
          "name": "stderr",
          "text": [
            "woa23_decav91C0_t11_01.nc: 100%|██████████| 57.1M/57.1M [00:00<00:00, 108MB/s]\n"
          ]
        },
        {
          "output_type": "stream",
          "name": "stdout",
          "text": [
            "\n",
            "Temperature (Month 11):\n",
            "Variables: ['crs', 'lat', 'lat_bnds', 'lon', 'lon_bnds', 'depth', 'depth_bnds', 'time', 'climatology_bounds', 't_an', 't_mn', 't_dd', 't_sd', 't_se', 't_oa', 't_ma', 't_gp', 't_sdo', 't_sea']\n",
            "Data without NaNs (2183675 rows):\n",
            "                                   t_an\n",
            "time       depth  lat   lon            \n",
            "2005-11-01 0.0    -77.5 -178.5 -1.58901\n",
            "                        -177.5 -1.59781\n",
            "                        -176.5 -1.59571\n",
            "                        -175.5 -1.59211\n",
            "                        -174.5 -1.58651\n",
            "...                                 ...\n",
            "           1500.0  89.5  175.5 -0.42461\n",
            "                         176.5 -0.42461\n",
            "                         177.5 -0.42461\n",
            "                         178.5 -0.42461\n",
            "                         179.5 -0.42461\n",
            "\n",
            "[2183675 rows x 1 columns]\n",
            "Downloading Salinity...\n"
          ]
        },
        {
          "output_type": "stream",
          "name": "stderr",
          "text": [
            "woa23_decav91C0_s11_01.nc: 100%|██████████| 50.8M/50.8M [00:00<00:00, 94.6MB/s]\n"
          ]
        },
        {
          "output_type": "stream",
          "name": "stdout",
          "text": [
            "\n",
            "Salinity (Month 11):\n",
            "Variables: ['crs', 'lat', 'lat_bnds', 'lon', 'lon_bnds', 'depth', 'depth_bnds', 'time', 'climatology_bounds', 's_an', 's_mn', 's_dd', 's_sd', 's_se', 's_oa', 's_ma', 's_gp', 's_sdo', 's_sea']\n",
            "Data without NaNs (2183675 rows):\n",
            "                                     s_an\n",
            "time       depth  lat   lon              \n",
            "2005-11-01 0.0    -77.5 -178.5  34.307388\n",
            "                        -177.5  34.298100\n",
            "                        -176.5  34.286690\n",
            "                        -175.5  34.276810\n",
            "                        -174.5  34.269001\n",
            "...                                   ...\n",
            "           1500.0  89.5  175.5  34.975101\n",
            "                         176.5  34.975101\n",
            "                         177.5  34.975101\n",
            "                         178.5  34.975101\n",
            "                         179.5  34.975101\n",
            "\n",
            "[2183675 rows x 1 columns]\n",
            "Downloading Oxygen...\n"
          ]
        },
        {
          "output_type": "stream",
          "name": "stderr",
          "text": [
            "woa23_all_o11_01.nc: 100%|██████████| 32.5M/32.5M [00:00<00:00, 91.9MB/s]\n"
          ]
        },
        {
          "output_type": "stream",
          "name": "stdout",
          "text": [
            "\n",
            "Oxygen (Month 11):\n",
            "Variables: ['crs', 'lat', 'lat_bnds', 'lon', 'lon_bnds', 'depth', 'depth_bnds', 'time', 'climatology_bounds', 'o_an', 'o_mn', 'o_dd', 'o_sd', 'o_se', 'o_oa', 'o_ma', 'o_gp', 'o_sea']\n",
            "Data without NaNs (2183675 rows):\n",
            "                                      o_an\n",
            "time       depth  lat   lon               \n",
            "1993-11-01 0.0    -77.5 -178.5  319.545593\n",
            "                        -177.5  320.496521\n",
            "                        -176.5  321.518555\n",
            "                        -175.5  322.700012\n",
            "                        -174.5  324.027527\n",
            "...                                    ...\n",
            "           1500.0  89.5  175.5  303.372620\n",
            "                         176.5  303.372620\n",
            "                         177.5  303.372620\n",
            "                         178.5  303.372620\n",
            "                         179.5  303.372620\n",
            "\n",
            "[2183675 rows x 1 columns]\n",
            "Downloading Nitrate...\n"
          ]
        },
        {
          "output_type": "stream",
          "name": "stderr",
          "text": [
            "woa23_all_n11_01.nc: 100%|██████████| 18.1M/18.1M [00:00<00:00, 68.6MB/s]\n"
          ]
        },
        {
          "output_type": "stream",
          "name": "stdout",
          "text": [
            "\n",
            "Nitrate (Month 11):\n",
            "Variables: ['crs', 'lat', 'lat_bnds', 'lon', 'lon_bnds', 'depth', 'depth_bnds', 'time', 'climatology_bounds', 'n_an', 'n_mn', 'n_dd', 'n_sd', 'n_se', 'n_oa', 'n_ma', 'n_gp', 'n_sea']\n",
            "Data without NaNs (1680367 rows):\n",
            "                                    n_an\n",
            "time       depth lat   lon              \n",
            "1993-11-01 0.0   -77.5 -178.5  24.986523\n",
            "                       -177.5  25.148613\n",
            "                       -176.5  25.281414\n",
            "                       -175.5  25.344009\n",
            "                       -174.5  25.300533\n",
            "...                                  ...\n",
            "           800.0  89.5  175.5  12.299321\n",
            "                        176.5  12.299321\n",
            "                        177.5  12.299321\n",
            "                        178.5  12.299321\n",
            "                        179.5  12.299321\n",
            "\n",
            "[1680367 rows x 1 columns]\n",
            "Downloading Phosphate...\n"
          ]
        },
        {
          "output_type": "stream",
          "name": "stderr",
          "text": [
            "woa23_all_p11_01.nc: 100%|██████████| 20.0M/20.0M [00:00<00:00, 60.3MB/s]\n"
          ]
        },
        {
          "output_type": "stream",
          "name": "stdout",
          "text": [
            "\n",
            "Phosphate (Month 11):\n",
            "Variables: ['crs', 'lat', 'lat_bnds', 'lon', 'lon_bnds', 'depth', 'depth_bnds', 'time', 'climatology_bounds', 'p_an', 'p_mn', 'p_dd', 'p_sd', 'p_se', 'p_oa', 'p_ma', 'p_gp', 'p_sea']\n",
            "Data without NaNs (1680367 rows):\n",
            "                                   p_an\n",
            "time       depth lat   lon             \n",
            "1993-11-01 0.0   -77.5 -178.5  1.847189\n",
            "                       -177.5  1.838666\n",
            "                       -176.5  1.831358\n",
            "                       -175.5  1.825870\n",
            "                       -174.5  1.821605\n",
            "...                                 ...\n",
            "           800.0  89.5  175.5  0.730582\n",
            "                        176.5  0.730582\n",
            "                        177.5  0.730582\n",
            "                        178.5  0.730582\n",
            "                        179.5  0.730582\n",
            "\n",
            "[1680367 rows x 1 columns]\n",
            "\n",
            "=== Month 12 ===\n",
            "Downloading Temperature...\n"
          ]
        },
        {
          "output_type": "stream",
          "name": "stderr",
          "text": [
            "woa23_decav91C0_t12_01.nc: 100%|██████████| 57.2M/57.2M [00:00<00:00, 114MB/s]\n"
          ]
        },
        {
          "output_type": "stream",
          "name": "stdout",
          "text": [
            "\n",
            "Temperature (Month 12):\n",
            "Variables: ['crs', 'lat', 'lat_bnds', 'lon', 'lon_bnds', 'depth', 'depth_bnds', 'time', 'climatology_bounds', 't_an', 't_mn', 't_dd', 't_sd', 't_se', 't_oa', 't_ma', 't_gp', 't_sdo', 't_sea']\n",
            "Data without NaNs (2183675 rows):\n",
            "                                   t_an\n",
            "time       depth  lat   lon            \n",
            "2005-12-01 0.0    -77.5 -178.5 -0.63651\n",
            "                        -177.5 -0.68101\n",
            "                        -176.5 -0.72211\n",
            "                        -175.5 -0.75991\n",
            "                        -174.5 -0.79591\n",
            "...                                 ...\n",
            "           1500.0  89.5  175.5 -0.49711\n",
            "                         176.5 -0.49711\n",
            "                         177.5 -0.49711\n",
            "                         178.5 -0.49711\n",
            "                         179.5 -0.49711\n",
            "\n",
            "[2183675 rows x 1 columns]\n",
            "Downloading Salinity...\n"
          ]
        },
        {
          "output_type": "stream",
          "name": "stderr",
          "text": [
            "woa23_decav91C0_s12_01.nc: 100%|██████████| 50.9M/50.9M [00:00<00:00, 112MB/s]\n"
          ]
        },
        {
          "output_type": "stream",
          "name": "stdout",
          "text": [
            "\n",
            "Salinity (Month 12):\n",
            "Variables: ['crs', 'lat', 'lat_bnds', 'lon', 'lon_bnds', 'depth', 'depth_bnds', 'time', 'climatology_bounds', 's_an', 's_mn', 's_dd', 's_sd', 's_se', 's_oa', 's_ma', 's_gp', 's_sdo', 's_sea']\n",
            "Data without NaNs (2183675 rows):\n",
            "                                     s_an\n",
            "time       depth  lat   lon              \n",
            "2005-12-01 0.0    -77.5 -178.5  34.207188\n",
            "                        -177.5  34.183510\n",
            "                        -176.5  34.159988\n",
            "                        -175.5  34.138790\n",
            "                        -174.5  34.119587\n",
            "...                                   ...\n",
            "           1500.0  89.5  175.5  34.962200\n",
            "                         176.5  34.962200\n",
            "                         177.5  34.962200\n",
            "                         178.5  34.962200\n",
            "                         179.5  34.962200\n",
            "\n",
            "[2183675 rows x 1 columns]\n",
            "Downloading Oxygen...\n"
          ]
        },
        {
          "output_type": "stream",
          "name": "stderr",
          "text": [
            "woa23_all_o12_01.nc: 100%|██████████| 32.2M/32.2M [00:00<00:00, 93.5MB/s]\n"
          ]
        },
        {
          "output_type": "stream",
          "name": "stdout",
          "text": [
            "\n",
            "Oxygen (Month 12):\n",
            "Variables: ['crs', 'lat', 'lat_bnds', 'lon', 'lon_bnds', 'depth', 'depth_bnds', 'time', 'climatology_bounds', 'o_an', 'o_mn', 'o_dd', 'o_sd', 'o_se', 'o_oa', 'o_ma', 'o_gp', 'o_sea']\n",
            "Data without NaNs (2183675 rows):\n",
            "                                      o_an\n",
            "time       depth  lat   lon               \n",
            "1993-12-01 0.0    -77.5 -178.5  380.080170\n",
            "                        -177.5  379.472443\n",
            "                        -176.5  378.745209\n",
            "                        -175.5  378.228729\n",
            "                        -174.5  377.659607\n",
            "...                                    ...\n",
            "           1500.0  89.5  175.5  297.694733\n",
            "                         176.5  297.694733\n",
            "                         177.5  297.694733\n",
            "                         178.5  297.694733\n",
            "                         179.5  297.694733\n",
            "\n",
            "[2183675 rows x 1 columns]\n",
            "Downloading Nitrate...\n"
          ]
        },
        {
          "output_type": "stream",
          "name": "stderr",
          "text": [
            "woa23_all_n12_01.nc: 100%|██████████| 18.2M/18.2M [00:00<00:00, 55.9MB/s]\n"
          ]
        },
        {
          "output_type": "stream",
          "name": "stdout",
          "text": [
            "\n",
            "Nitrate (Month 12):\n",
            "Variables: ['crs', 'lat', 'lat_bnds', 'lon', 'lon_bnds', 'depth', 'depth_bnds', 'time', 'climatology_bounds', 'n_an', 'n_mn', 'n_dd', 'n_sd', 'n_se', 'n_oa', 'n_ma', 'n_gp', 'n_sea']\n",
            "Data without NaNs (1680367 rows):\n",
            "                                    n_an\n",
            "time       depth lat   lon              \n",
            "1993-12-01 0.0   -77.5 -178.5  14.865408\n",
            "                       -177.5  14.976521\n",
            "                       -176.5  15.049278\n",
            "                       -175.5  15.053966\n",
            "                       -174.5  14.934766\n",
            "...                                  ...\n",
            "           800.0  89.5  175.5  12.129090\n",
            "                        176.5  12.129090\n",
            "                        177.5  12.129090\n",
            "                        178.5  12.129090\n",
            "                        179.5  12.129090\n",
            "\n",
            "[1680367 rows x 1 columns]\n",
            "Downloading Phosphate...\n"
          ]
        },
        {
          "output_type": "stream",
          "name": "stderr",
          "text": [
            "woa23_all_p12_01.nc: 100%|██████████| 20.0M/20.0M [00:00<00:00, 76.8MB/s]\n"
          ]
        },
        {
          "output_type": "stream",
          "name": "stdout",
          "text": [
            "\n",
            "Phosphate (Month 12):\n",
            "Variables: ['crs', 'lat', 'lat_bnds', 'lon', 'lon_bnds', 'depth', 'depth_bnds', 'time', 'climatology_bounds', 'p_an', 'p_mn', 'p_dd', 'p_sd', 'p_se', 'p_oa', 'p_ma', 'p_gp', 'p_sea']\n",
            "Data without NaNs (1680367 rows):\n",
            "                                   p_an\n",
            "time       depth lat   lon             \n",
            "1993-12-01 0.0   -77.5 -178.5  1.345868\n",
            "                       -177.5  1.342871\n",
            "                       -176.5  1.341775\n",
            "                       -175.5  1.343025\n",
            "                       -174.5  1.346306\n",
            "...                                 ...\n",
            "           800.0  89.5  175.5  0.805623\n",
            "                        176.5  0.805623\n",
            "                        177.5  0.805623\n",
            "                        178.5  0.805623\n",
            "                        179.5  0.805623\n",
            "\n",
            "[1680367 rows x 1 columns]\n",
            "\n",
            "All monthly data processed!\n"
          ]
        }
      ]
    }
  ]
}