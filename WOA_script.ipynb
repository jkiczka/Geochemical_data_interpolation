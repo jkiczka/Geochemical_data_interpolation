{
  "nbformat": 4,
  "nbformat_minor": 0,
  "metadata": {
    "colab": {
      "provenance": []
    },
    "kernelspec": {
      "name": "python3",
      "display_name": "Python 3"
    },
    "language_info": {
      "name": "python"
    }
  },
  "cells": [
    {
      "cell_type": "code",
      "source": [
        "pip install cftime"
      ],
      "metadata": {
        "colab": {
          "base_uri": "https://localhost:8080/"
        },
        "id": "zR8AjXIuUic1",
        "outputId": "36d940dd-5949-4e49-95cb-f1f7ac2ac51e"
      },
      "execution_count": 2,
      "outputs": [
        {
          "output_type": "stream",
          "name": "stdout",
          "text": [
            "Collecting cftime\n",
            "  Downloading cftime-1.6.4.post1-cp311-cp311-manylinux_2_17_x86_64.manylinux2014_x86_64.whl.metadata (8.7 kB)\n",
            "Requirement already satisfied: numpy>1.13.3 in /usr/local/lib/python3.11/dist-packages (from cftime) (2.0.2)\n",
            "Downloading cftime-1.6.4.post1-cp311-cp311-manylinux_2_17_x86_64.manylinux2014_x86_64.whl (1.4 MB)\n",
            "\u001b[2K   \u001b[90m━━━━━━━━━━━━━━━━━━━━━━━━━━━━━━━━━━━━━━━━\u001b[0m \u001b[32m1.4/1.4 MB\u001b[0m \u001b[31m23.5 MB/s\u001b[0m eta \u001b[36m0:00:00\u001b[0m\n",
            "\u001b[?25hInstalling collected packages: cftime\n",
            "Successfully installed cftime-1.6.4.post1\n"
          ]
        }
      ]
    },
    {
      "cell_type": "code",
      "source": [
        "import os\n",
        "import requests\n",
        "import xarray as xr\n",
        "from tqdm import tqdm\n",
        "import pandas as pd\n",
        "import cftime\n",
        "\n",
        "BASE_URL = \"https://www.ncei.noaa.gov/data/oceans/woa/WOA23/DATA/\"\n",
        "\n",
        "FILES = {\n",
        "    \"Temperature\": \"temperature/netcdf/decav91C0/1.00/woa23_decav91C0_t{month}_01.nc\",\n",
        "    \"Salinity\": \"salinity/netcdf/decav91C0/1.00/woa23_decav91C0_s{month}_01.nc\",\n",
        "    \"Oxygen\": \"oxygen/netcdf/all/1.00/woa23_all_o{month}_01.nc\",\n",
        "    \"Nitrate\": \"nitrate/netcdf/all/1.00/woa23_all_n{month}_01.nc\",\n",
        "    \"Phosphate\": \"phosphate/netcdf/all/1.00/woa23_all_p{month}_01.nc\"\n",
        "}\n",
        "\n",
        "def download_file(url, filename):\n",
        "    response = requests.get(url, stream=True)\n",
        "    response.raise_for_status()\n",
        "    total_size = int(response.headers.get('content-length', 0))\n",
        "    with open(filename, 'wb') as f, tqdm(\n",
        "        desc=os.path.basename(filename),\n",
        "        total=total_size,\n",
        "        unit='B',\n",
        "        unit_scale=True,\n",
        "        unit_divisor=1024,\n",
        "    ) as pbar:\n",
        "        for chunk in response.iter_content(8192):\n",
        "            f.write(chunk)\n",
        "            pbar.update(len(chunk))\n",
        "\n",
        "def decode_time(ds):\n",
        "    time_var = ds.time\n",
        "    units = time_var.attrs.get('units', '')\n",
        "    calendar = time_var.attrs.get('calendar', 'standard')\n",
        "\n",
        "    if units.startswith(\"months since\"):\n",
        "        calendar = '360_day'\n",
        "\n",
        "    times = cftime.num2date(time_var.values, units=units, calendar=calendar)\n",
        "    # Konwertujemy do pandas datetime (na 1-szy dzień miesiąca)\n",
        "    times_pd = pd.to_datetime([f\"{t.year}-{t.month:02d}-01\" for t in times])\n",
        "    ds['time'] = ('time', times_pd)\n",
        "    return ds\n",
        "\n",
        "\n",
        "os.makedirs(\"WOA23_monthly\", exist_ok=True)\n",
        "\n",
        "for month in range(1, 13):\n",
        "    month_str = f\"{month:02d}\"\n",
        "    print(f\"\\n=== Month {month_str} ===\")\n",
        "\n",
        "    for var, template in FILES.items():\n",
        "        filepath = template.format(month=month_str)\n",
        "        url = BASE_URL + filepath\n",
        "        filename = os.path.join(\"WOA23_monthly\", os.path.basename(filepath))\n",
        "\n",
        "        if not os.path.exists(filename):\n",
        "            print(f\"Downloading {var}...\")\n",
        "            download_file(url, filename)\n",
        "\n",
        "        ds = xr.open_dataset(filename, decode_times=False)\n",
        "        ds = decode_time(ds)\n",
        "\n",
        "        var_name = {\n",
        "            \"Temperature\": \"t_an\",\n",
        "            \"Salinity\": \"s_an\",\n",
        "            \"Oxygen\": \"o_an\",\n",
        "            \"Nitrate\": \"n_an\",\n",
        "            \"Phosphate\": \"p_an\"\n",
        "        }[var]\n",
        "\n",
        "        print(f\"\\n{var} (Month {month_str}):\")\n",
        "        print(\"Variables:\", list(ds.variables.keys()))\n",
        "\n",
        "        df = ds[var_name].to_dataframe().dropna()\n",
        "        print(f\"Data without NaNs ({len(df)} rows):\")\n",
        "        print(df)\n",
        "\n",
        "print(\"\\nAll monthly data processed!\")\n"
      ],
      "metadata": {
        "colab": {
          "base_uri": "https://localhost:8080/"
        },
        "id": "uuRiQqe7UBR1",
        "outputId": "7d4635d5-fe3c-4fdb-f372-a84e9c66999a"
      },
      "execution_count": 3,
      "outputs": [
        {
          "output_type": "stream",
          "name": "stdout",
          "text": [
            "\n",
            "=== Month 01 ===\n",
            "Downloading Temperature...\n"
          ]
        },
        {
          "output_type": "stream",
          "name": "stderr",
          "text": [
            "woa23_decav91C0_t01_01.nc: 100%|██████████| 57.0M/57.0M [00:38<00:00, 1.55MB/s]\n"
          ]
        },
        {
          "output_type": "stream",
          "name": "stdout",
          "text": [
            "\n",
            "Temperature (Month 01):\n",
            "Variables: ['crs', 'lat', 'lat_bnds', 'lon', 'lon_bnds', 'depth', 'depth_bnds', 'time', 'climatology_bounds', 't_an', 't_mn', 't_dd', 't_sd', 't_se', 't_oa', 't_ma', 't_gp', 't_sdo', 't_sea']\n",
            "Data without NaNs (2183675 rows):\n",
            "                                   t_an\n",
            "time       depth  lat   lon            \n",
            "2005-01-01 0.0    -77.5 -178.5 -0.32070\n",
            "                        -177.5 -0.36500\n",
            "                        -176.5 -0.40521\n",
            "                        -175.5 -0.42581\n",
            "                        -174.5 -0.44261\n",
            "...                                 ...\n",
            "           1500.0  89.5  175.5 -0.48721\n",
            "                         176.5 -0.48721\n",
            "                         177.5 -0.48721\n",
            "                         178.5 -0.48721\n",
            "                         179.5 -0.48721\n",
            "\n",
            "[2183675 rows x 1 columns]\n",
            "Downloading Salinity...\n"
          ]
        },
        {
          "output_type": "stream",
          "name": "stderr",
          "text": [
            "woa23_decav91C0_s01_01.nc: 100%|██████████| 50.8M/50.8M [00:00<00:00, 99.4MB/s]\n"
          ]
        },
        {
          "output_type": "stream",
          "name": "stdout",
          "text": [
            "\n",
            "Salinity (Month 01):\n",
            "Variables: ['crs', 'lat', 'lat_bnds', 'lon', 'lon_bnds', 'depth', 'depth_bnds', 'time', 'climatology_bounds', 's_an', 's_mn', 's_dd', 's_sd', 's_se', 's_oa', 's_ma', 's_gp', 's_sdo', 's_sea']\n",
            "Data without NaNs (2183675 rows):\n",
            "                                     s_an\n",
            "time       depth  lat   lon              \n",
            "2005-01-01 0.0    -77.5 -178.5  34.200310\n",
            "                        -177.5  34.186913\n",
            "                        -176.5  34.175400\n",
            "                        -175.5  34.168610\n",
            "                        -174.5  34.157711\n",
            "...                                   ...\n",
            "           1500.0  89.5  175.5  34.925499\n",
            "                         176.5  34.925499\n",
            "                         177.5  34.925499\n",
            "                         178.5  34.925499\n",
            "                         179.5  34.925499\n",
            "\n",
            "[2183675 rows x 1 columns]\n",
            "Downloading Oxygen...\n"
          ]
        },
        {
          "output_type": "stream",
          "name": "stderr",
          "text": [
            "woa23_all_o01_01.nc: 100%|██████████| 33.4M/33.4M [00:00<00:00, 88.0MB/s]\n"
          ]
        },
        {
          "output_type": "stream",
          "name": "stdout",
          "text": [
            "\n",
            "Oxygen (Month 01):\n",
            "Variables: ['crs', 'lat', 'lat_bnds', 'lon', 'lon_bnds', 'depth', 'depth_bnds', 'time', 'climatology_bounds', 'o_an', 'o_mn', 'o_dd', 'o_sd', 'o_se', 'o_oa', 'o_ma', 'o_gp', 'o_sea']\n",
            "Data without NaNs (2183675 rows):\n",
            "                                      o_an\n",
            "time       depth  lat   lon               \n",
            "1993-01-01 0.0    -77.5 -178.5  380.476715\n",
            "                        -177.5  378.862640\n",
            "                        -176.5  377.417480\n",
            "                        -175.5  376.051453\n",
            "                        -174.5  374.945251\n",
            "...                                    ...\n",
            "           1500.0  89.5  175.5  287.593323\n",
            "                         176.5  287.593323\n",
            "                         177.5  287.593323\n",
            "                         178.5  287.593323\n",
            "                         179.5  287.593323\n",
            "\n",
            "[2183675 rows x 1 columns]\n",
            "Downloading Nitrate...\n"
          ]
        },
        {
          "output_type": "stream",
          "name": "stderr",
          "text": [
            "woa23_all_n01_01.nc: 100%|██████████| 19.2M/19.2M [00:00<00:00, 70.7MB/s]\n"
          ]
        },
        {
          "output_type": "stream",
          "name": "stdout",
          "text": [
            "\n",
            "Nitrate (Month 01):\n",
            "Variables: ['crs', 'lat', 'lat_bnds', 'lon', 'lon_bnds', 'depth', 'depth_bnds', 'time', 'climatology_bounds', 'n_an', 'n_mn', 'n_dd', 'n_sd', 'n_se', 'n_oa', 'n_ma', 'n_gp', 'n_sea']\n",
            "Data without NaNs (1680367 rows):\n",
            "                                    n_an\n",
            "time       depth lat   lon              \n",
            "1993-01-01 0.0   -77.5 -178.5  13.159919\n",
            "                       -177.5  14.001830\n",
            "                       -176.5  14.797913\n",
            "                       -175.5  15.565681\n",
            "                       -174.5  16.184637\n",
            "...                                  ...\n",
            "           800.0  89.5  175.5  12.869218\n",
            "                        176.5  12.869218\n",
            "                        177.5  12.869218\n",
            "                        178.5  12.869218\n",
            "                        179.5  12.869218\n",
            "\n",
            "[1680367 rows x 1 columns]\n",
            "Downloading Phosphate...\n"
          ]
        },
        {
          "output_type": "stream",
          "name": "stderr",
          "text": [
            "woa23_all_p01_01.nc: 100%|██████████| 21.1M/21.1M [00:00<00:00, 67.4MB/s]\n"
          ]
        },
        {
          "output_type": "stream",
          "name": "stdout",
          "text": [
            "\n",
            "Phosphate (Month 01):\n",
            "Variables: ['crs', 'lat', 'lat_bnds', 'lon', 'lon_bnds', 'depth', 'depth_bnds', 'time', 'climatology_bounds', 'p_an', 'p_mn', 'p_dd', 'p_sd', 'p_se', 'p_oa', 'p_ma', 'p_gp', 'p_sea']\n",
            "Data without NaNs (1680367 rows):\n",
            "                                   p_an\n",
            "time       depth lat   lon             \n",
            "1993-01-01 0.0   -77.5 -178.5  1.229126\n",
            "                       -177.5  1.240432\n",
            "                       -176.5  1.252754\n",
            "                       -175.5  1.263371\n",
            "                       -174.5  1.271232\n",
            "...                                 ...\n",
            "           800.0  89.5  175.5  0.890293\n",
            "                        176.5  0.890293\n",
            "                        177.5  0.890293\n",
            "                        178.5  0.890293\n",
            "                        179.5  0.890293\n",
            "\n",
            "[1680367 rows x 1 columns]\n",
            "\n",
            "=== Month 02 ===\n",
            "Downloading Temperature...\n"
          ]
        },
        {
          "output_type": "stream",
          "name": "stderr",
          "text": [
            "woa23_decav91C0_t02_01.nc: 100%|██████████| 57.3M/57.3M [00:00<00:00, 114MB/s]\n"
          ]
        },
        {
          "output_type": "stream",
          "name": "stdout",
          "text": [
            "\n",
            "Temperature (Month 02):\n",
            "Variables: ['crs', 'lat', 'lat_bnds', 'lon', 'lon_bnds', 'depth', 'depth_bnds', 'time', 'climatology_bounds', 't_an', 't_mn', 't_dd', 't_sd', 't_se', 't_oa', 't_ma', 't_gp', 't_sdo', 't_sea']\n",
            "Data without NaNs (2183675 rows):\n",
            "                                   t_an\n",
            "time       depth  lat   lon            \n",
            "2005-02-01 0.0    -77.5 -178.5 -0.63171\n",
            "                        -177.5 -0.66981\n",
            "                        -176.5 -0.70131\n",
            "                        -175.5 -0.72431\n",
            "                        -174.5 -0.74401\n",
            "...                                 ...\n",
            "           1500.0  89.5  175.5 -0.45891\n",
            "                         176.5 -0.45891\n",
            "                         177.5 -0.45891\n",
            "                         178.5 -0.45891\n",
            "                         179.5 -0.45891\n",
            "\n",
            "[2183675 rows x 1 columns]\n",
            "Downloading Salinity...\n"
          ]
        },
        {
          "output_type": "stream",
          "name": "stderr",
          "text": [
            "woa23_decav91C0_s02_01.nc: 100%|██████████| 50.8M/50.8M [00:00<00:00, 111MB/s]\n"
          ]
        },
        {
          "output_type": "stream",
          "name": "stdout",
          "text": [
            "\n",
            "Salinity (Month 02):\n",
            "Variables: ['crs', 'lat', 'lat_bnds', 'lon', 'lon_bnds', 'depth', 'depth_bnds', 'time', 'climatology_bounds', 's_an', 's_mn', 's_dd', 's_sd', 's_se', 's_oa', 's_ma', 's_gp', 's_sdo', 's_sea']\n",
            "Data without NaNs (2183675 rows):\n",
            "                                     s_an\n",
            "time       depth  lat   lon              \n",
            "2005-02-01 0.0    -77.5 -178.5  34.116413\n",
            "                        -177.5  34.096901\n",
            "                        -176.5  34.078289\n",
            "                        -175.5  34.063110\n",
            "                        -174.5  34.050900\n",
            "...                                   ...\n",
            "           1500.0  89.5  175.5  34.928612\n",
            "                         176.5  34.928612\n",
            "                         177.5  34.928612\n",
            "                         178.5  34.928612\n",
            "                         179.5  34.928612\n",
            "\n",
            "[2183675 rows x 1 columns]\n",
            "Downloading Oxygen...\n"
          ]
        },
        {
          "output_type": "stream",
          "name": "stderr",
          "text": [
            "woa23_all_o02_01.nc: 100%|██████████| 34.1M/34.1M [00:00<00:00, 63.5MB/s]\n"
          ]
        },
        {
          "output_type": "stream",
          "name": "stdout",
          "text": [
            "\n",
            "Oxygen (Month 02):\n",
            "Variables: ['crs', 'lat', 'lat_bnds', 'lon', 'lon_bnds', 'depth', 'depth_bnds', 'time', 'climatology_bounds', 'o_an', 'o_mn', 'o_dd', 'o_sd', 'o_se', 'o_oa', 'o_ma', 'o_gp', 'o_sea']\n",
            "Data without NaNs (2183675 rows):\n",
            "                                      o_an\n",
            "time       depth  lat   lon               \n",
            "1993-02-01 0.0    -77.5 -178.5  360.776550\n",
            "                        -177.5  360.950531\n",
            "                        -176.5  360.977112\n",
            "                        -175.5  360.972870\n",
            "                        -174.5  360.920258\n",
            "...                                    ...\n",
            "           1500.0  89.5  175.5  288.697754\n",
            "                         176.5  288.697754\n",
            "                         177.5  288.697754\n",
            "                         178.5  288.697754\n",
            "                         179.5  288.697754\n",
            "\n",
            "[2183675 rows x 1 columns]\n",
            "Downloading Nitrate...\n"
          ]
        },
        {
          "output_type": "stream",
          "name": "stderr",
          "text": [
            "woa23_all_n02_01.nc: 100%|██████████| 19.7M/19.7M [00:00<00:00, 78.1MB/s]\n"
          ]
        },
        {
          "output_type": "stream",
          "name": "stdout",
          "text": [
            "\n",
            "Nitrate (Month 02):\n",
            "Variables: ['crs', 'lat', 'lat_bnds', 'lon', 'lon_bnds', 'depth', 'depth_bnds', 'time', 'climatology_bounds', 'n_an', 'n_mn', 'n_dd', 'n_sd', 'n_se', 'n_oa', 'n_ma', 'n_gp', 'n_sea']\n",
            "Data without NaNs (1680367 rows):\n",
            "                                    n_an\n",
            "time       depth lat   lon              \n",
            "1993-02-01 0.0   -77.5 -178.5  13.231615\n",
            "                       -177.5  14.024886\n",
            "                       -176.5  14.765514\n",
            "                       -175.5  15.416518\n",
            "                       -174.5  15.949839\n",
            "...                                  ...\n",
            "           800.0  89.5  175.5  12.679441\n",
            "                        176.5  12.679441\n",
            "                        177.5  12.679441\n",
            "                        178.5  12.679441\n",
            "                        179.5  12.679441\n",
            "\n",
            "[1680367 rows x 1 columns]\n",
            "Downloading Phosphate...\n"
          ]
        },
        {
          "output_type": "stream",
          "name": "stderr",
          "text": [
            "woa23_all_p02_01.nc: 100%|██████████| 21.5M/21.5M [00:00<00:00, 86.6MB/s]\n"
          ]
        },
        {
          "output_type": "stream",
          "name": "stdout",
          "text": [
            "\n",
            "Phosphate (Month 02):\n",
            "Variables: ['crs', 'lat', 'lat_bnds', 'lon', 'lon_bnds', 'depth', 'depth_bnds', 'time', 'climatology_bounds', 'p_an', 'p_mn', 'p_dd', 'p_sd', 'p_se', 'p_oa', 'p_ma', 'p_gp', 'p_sea']\n",
            "Data without NaNs (1680367 rows):\n",
            "                                   p_an\n",
            "time       depth lat   lon             \n",
            "1993-02-01 0.0   -77.5 -178.5  1.314466\n",
            "                       -177.5  1.315990\n",
            "                       -176.5  1.318379\n",
            "                       -175.5  1.319513\n",
            "                       -174.5  1.318105\n",
            "...                                 ...\n",
            "           800.0  89.5  175.5  0.899294\n",
            "                        176.5  0.899294\n",
            "                        177.5  0.899294\n",
            "                        178.5  0.899294\n",
            "                        179.5  0.899294\n",
            "\n",
            "[1680367 rows x 1 columns]\n",
            "\n",
            "=== Month 03 ===\n",
            "Downloading Temperature...\n"
          ]
        },
        {
          "output_type": "stream",
          "name": "stderr",
          "text": [
            "woa23_decav91C0_t03_01.nc: 100%|██████████| 57.5M/57.5M [00:00<00:00, 115MB/s]\n"
          ]
        },
        {
          "output_type": "stream",
          "name": "stdout",
          "text": [
            "\n",
            "Temperature (Month 03):\n",
            "Variables: ['crs', 'lat', 'lat_bnds', 'lon', 'lon_bnds', 'depth', 'depth_bnds', 'time', 'climatology_bounds', 't_an', 't_mn', 't_dd', 't_sd', 't_se', 't_oa', 't_ma', 't_gp', 't_sdo', 't_sea']\n",
            "Data without NaNs (2183675 rows):\n",
            "                                   t_an\n",
            "time       depth  lat   lon            \n",
            "2005-03-01 0.0    -77.5 -178.5 -1.72790\n",
            "                        -177.5 -1.72961\n",
            "                        -176.5 -1.72211\n",
            "                        -175.5 -1.71741\n",
            "                        -174.5 -1.70921\n",
            "...                                 ...\n",
            "           1500.0  89.5  175.5 -0.43001\n",
            "                         176.5 -0.43001\n",
            "                         177.5 -0.43001\n",
            "                         178.5 -0.43001\n",
            "                         179.5 -0.43001\n",
            "\n",
            "[2183675 rows x 1 columns]\n",
            "Downloading Salinity...\n"
          ]
        },
        {
          "output_type": "stream",
          "name": "stderr",
          "text": [
            "woa23_decav91C0_s03_01.nc: 100%|██████████| 51.0M/51.0M [00:00<00:00, 112MB/s]\n"
          ]
        },
        {
          "output_type": "stream",
          "name": "stdout",
          "text": [
            "\n",
            "Salinity (Month 03):\n",
            "Variables: ['crs', 'lat', 'lat_bnds', 'lon', 'lon_bnds', 'depth', 'depth_bnds', 'time', 'climatology_bounds', 's_an', 's_mn', 's_dd', 's_sd', 's_se', 's_oa', 's_ma', 's_gp', 's_sdo', 's_sea']\n",
            "Data without NaNs (2183675 rows):\n",
            "                                     s_an\n",
            "time       depth  lat   lon              \n",
            "2005-03-01 0.0    -77.5 -178.5  34.060310\n",
            "                        -177.5  34.051510\n",
            "                        -176.5  34.047699\n",
            "                        -175.5  34.044113\n",
            "                        -174.5  34.042511\n",
            "...                                   ...\n",
            "           1500.0  89.5  175.5  34.927311\n",
            "                         176.5  34.927311\n",
            "                         177.5  34.927311\n",
            "                         178.5  34.927311\n",
            "                         179.5  34.927311\n",
            "\n",
            "[2183675 rows x 1 columns]\n",
            "Downloading Oxygen...\n"
          ]
        },
        {
          "output_type": "stream",
          "name": "stderr",
          "text": [
            "woa23_all_o03_01.nc: 100%|██████████| 34.2M/34.2M [00:00<00:00, 89.8MB/s]\n"
          ]
        },
        {
          "output_type": "stream",
          "name": "stdout",
          "text": [
            "\n",
            "Oxygen (Month 03):\n",
            "Variables: ['crs', 'lat', 'lat_bnds', 'lon', 'lon_bnds', 'depth', 'depth_bnds', 'time', 'climatology_bounds', 'o_an', 'o_mn', 'o_dd', 'o_sd', 'o_se', 'o_oa', 'o_ma', 'o_gp', 'o_sea']\n",
            "Data without NaNs (2183675 rows):\n",
            "                                      o_an\n",
            "time       depth  lat   lon               \n",
            "1993-03-01 0.0    -77.5 -178.5  345.419006\n",
            "                        -177.5  345.098419\n",
            "                        -176.5  344.872437\n",
            "                        -175.5  344.656769\n",
            "                        -174.5  344.479767\n",
            "...                                    ...\n",
            "           1500.0  89.5  175.5  282.929016\n",
            "                         176.5  282.929016\n",
            "                         177.5  282.929016\n",
            "                         178.5  282.929016\n",
            "                         179.5  282.929016\n",
            "\n",
            "[2183675 rows x 1 columns]\n",
            "Downloading Nitrate...\n"
          ]
        },
        {
          "output_type": "stream",
          "name": "stderr",
          "text": [
            "woa23_all_n03_01.nc: 100%|██████████| 19.7M/19.7M [00:00<00:00, 83.5MB/s]\n"
          ]
        },
        {
          "output_type": "stream",
          "name": "stdout",
          "text": [
            "\n",
            "Nitrate (Month 03):\n",
            "Variables: ['crs', 'lat', 'lat_bnds', 'lon', 'lon_bnds', 'depth', 'depth_bnds', 'time', 'climatology_bounds', 'n_an', 'n_mn', 'n_dd', 'n_sd', 'n_se', 'n_oa', 'n_ma', 'n_gp', 'n_sea']\n",
            "Data without NaNs (1680367 rows):\n",
            "                                    n_an\n",
            "time       depth lat   lon              \n",
            "1993-03-01 0.0   -77.5 -178.5  20.795210\n",
            "                       -177.5  21.274792\n",
            "                       -176.5  21.712811\n",
            "                       -175.5  22.100555\n",
            "                       -174.5  22.361544\n",
            "...                                  ...\n",
            "           800.0  89.5  175.5  13.298918\n",
            "                        176.5  13.298918\n",
            "                        177.5  13.298918\n",
            "                        178.5  13.298918\n",
            "                        179.5  13.298918\n",
            "\n",
            "[1680367 rows x 1 columns]\n",
            "Downloading Phosphate...\n"
          ]
        },
        {
          "output_type": "stream",
          "name": "stderr",
          "text": [
            "woa23_all_p03_01.nc: 100%|██████████| 21.7M/21.7M [00:00<00:00, 91.6MB/s]\n"
          ]
        },
        {
          "output_type": "stream",
          "name": "stdout",
          "text": [
            "\n",
            "Phosphate (Month 03):\n",
            "Variables: ['crs', 'lat', 'lat_bnds', 'lon', 'lon_bnds', 'depth', 'depth_bnds', 'time', 'climatology_bounds', 'p_an', 'p_mn', 'p_dd', 'p_sd', 'p_se', 'p_oa', 'p_ma', 'p_gp', 'p_sea']\n",
            "Data without NaNs (1680367 rows):\n",
            "                                   p_an\n",
            "time       depth lat   lon             \n",
            "1993-03-01 0.0   -77.5 -178.5  0.867184\n",
            "                       -177.5  0.863480\n",
            "                       -176.5  0.868416\n",
            "                       -175.5  0.879485\n",
            "                       -174.5  0.885108\n",
            "...                                 ...\n",
            "           800.0  89.5  175.5  1.007597\n",
            "                        176.5  1.007597\n",
            "                        177.5  1.007597\n",
            "                        178.5  1.007597\n",
            "                        179.5  1.007597\n",
            "\n",
            "[1680367 rows x 1 columns]\n",
            "\n",
            "=== Month 04 ===\n",
            "Downloading Temperature...\n"
          ]
        },
        {
          "output_type": "stream",
          "name": "stderr",
          "text": [
            "woa23_decav91C0_t04_01.nc: 100%|██████████| 57.9M/57.9M [00:00<00:00, 97.7MB/s]\n"
          ]
        },
        {
          "output_type": "stream",
          "name": "stdout",
          "text": [
            "\n",
            "Temperature (Month 04):\n",
            "Variables: ['crs', 'lat', 'lat_bnds', 'lon', 'lon_bnds', 'depth', 'depth_bnds', 'time', 'climatology_bounds', 't_an', 't_mn', 't_dd', 't_sd', 't_se', 't_oa', 't_ma', 't_gp', 't_sdo', 't_sea']\n",
            "Data without NaNs (2183675 rows):\n",
            "                                   t_an\n",
            "time       depth  lat   lon            \n",
            "2005-04-01 0.0    -77.5 -178.5 -1.54981\n",
            "                        -177.5 -1.77820\n",
            "                        -176.5 -1.79981\n",
            "                        -175.5 -1.80371\n",
            "                        -174.5 -1.80701\n",
            "...                                 ...\n",
            "           1500.0  89.5  175.5 -0.48541\n",
            "                         176.5 -0.48541\n",
            "                         177.5 -0.48541\n",
            "                         178.5 -0.48541\n",
            "                         179.5 -0.48541\n",
            "\n",
            "[2183675 rows x 1 columns]\n",
            "Downloading Salinity...\n"
          ]
        },
        {
          "output_type": "stream",
          "name": "stderr",
          "text": [
            "woa23_decav91C0_s04_01.nc: 100%|██████████| 51.4M/51.4M [00:00<00:00, 79.6MB/s]\n"
          ]
        },
        {
          "output_type": "stream",
          "name": "stdout",
          "text": [
            "\n",
            "Salinity (Month 04):\n",
            "Variables: ['crs', 'lat', 'lat_bnds', 'lon', 'lon_bnds', 'depth', 'depth_bnds', 'time', 'climatology_bounds', 's_an', 's_mn', 's_dd', 's_sd', 's_se', 's_oa', 's_ma', 's_gp', 's_sdo', 's_sea']\n",
            "Data without NaNs (2183675 rows):\n",
            "                                     s_an\n",
            "time       depth  lat   lon              \n",
            "2005-04-01 0.0    -77.5 -178.5  34.302811\n",
            "                        -177.5  34.336102\n",
            "                        -176.5  34.329800\n",
            "                        -175.5  34.315201\n",
            "                        -174.5  34.301289\n",
            "...                                   ...\n",
            "           1500.0  89.5  175.5  34.917690\n",
            "                         176.5  34.917690\n",
            "                         177.5  34.917690\n",
            "                         178.5  34.917690\n",
            "                         179.5  34.917690\n",
            "\n",
            "[2183675 rows x 1 columns]\n",
            "Downloading Oxygen...\n"
          ]
        },
        {
          "output_type": "stream",
          "name": "stderr",
          "text": [
            "woa23_all_o04_01.nc: 100%|██████████| 33.8M/33.8M [00:00<00:00, 98.6MB/s]\n"
          ]
        },
        {
          "output_type": "stream",
          "name": "stdout",
          "text": [
            "\n",
            "Oxygen (Month 04):\n",
            "Variables: ['crs', 'lat', 'lat_bnds', 'lon', 'lon_bnds', 'depth', 'depth_bnds', 'time', 'climatology_bounds', 'o_an', 'o_mn', 'o_dd', 'o_sd', 'o_se', 'o_oa', 'o_ma', 'o_gp', 'o_sea']\n",
            "Data without NaNs (2183675 rows):\n",
            "                                      o_an\n",
            "time       depth  lat   lon               \n",
            "1993-04-01 0.0    -77.5 -178.5  303.874390\n",
            "                        -177.5  304.109924\n",
            "                        -176.5  304.500427\n",
            "                        -175.5  305.858643\n",
            "                        -174.5  305.896088\n",
            "...                                    ...\n",
            "           1500.0  89.5  175.5  294.755676\n",
            "                         176.5  294.755676\n",
            "                         177.5  294.755676\n",
            "                         178.5  294.755676\n",
            "                         179.5  294.755676\n",
            "\n",
            "[2183675 rows x 1 columns]\n",
            "Downloading Nitrate...\n"
          ]
        },
        {
          "output_type": "stream",
          "name": "stderr",
          "text": [
            "woa23_all_n04_01.nc: 100%|██████████| 19.6M/19.6M [00:00<00:00, 76.7MB/s]\n"
          ]
        },
        {
          "output_type": "stream",
          "name": "stdout",
          "text": [
            "\n",
            "Nitrate (Month 04):\n",
            "Variables: ['crs', 'lat', 'lat_bnds', 'lon', 'lon_bnds', 'depth', 'depth_bnds', 'time', 'climatology_bounds', 'n_an', 'n_mn', 'n_dd', 'n_sd', 'n_se', 'n_oa', 'n_ma', 'n_gp', 'n_sea']\n",
            "Data without NaNs (1680367 rows):\n",
            "                                    n_an\n",
            "time       depth lat   lon              \n",
            "1993-04-01 0.0   -77.5 -178.5  24.278917\n",
            "                       -177.5  24.632551\n",
            "                       -176.5  24.975040\n",
            "                       -175.5  25.286173\n",
            "                       -174.5  25.557447\n",
            "...                                  ...\n",
            "           800.0  89.5  175.5  12.877975\n",
            "                        176.5  12.877975\n",
            "                        177.5  12.877975\n",
            "                        178.5  12.877975\n",
            "                        179.5  12.877975\n",
            "\n",
            "[1680367 rows x 1 columns]\n",
            "Downloading Phosphate...\n"
          ]
        },
        {
          "output_type": "stream",
          "name": "stderr",
          "text": [
            "woa23_all_p04_01.nc: 100%|██████████| 21.5M/21.5M [00:00<00:00, 83.1MB/s]\n"
          ]
        },
        {
          "output_type": "stream",
          "name": "stdout",
          "text": [
            "\n",
            "Phosphate (Month 04):\n",
            "Variables: ['crs', 'lat', 'lat_bnds', 'lon', 'lon_bnds', 'depth', 'depth_bnds', 'time', 'climatology_bounds', 'p_an', 'p_mn', 'p_dd', 'p_sd', 'p_se', 'p_oa', 'p_ma', 'p_gp', 'p_sea']\n",
            "Data without NaNs (1680367 rows):\n",
            "                                   p_an\n",
            "time       depth lat   lon             \n",
            "1993-04-01 0.0   -77.5 -178.5  1.944704\n",
            "                       -177.5  1.933332\n",
            "                       -176.5  1.922340\n",
            "                       -175.5  1.911251\n",
            "                       -174.5  1.898543\n",
            "...                                 ...\n",
            "           800.0  89.5  175.5  0.880641\n",
            "                        176.5  0.880641\n",
            "                        177.5  0.880641\n",
            "                        178.5  0.880641\n",
            "                        179.5  0.880641\n",
            "\n",
            "[1680367 rows x 1 columns]\n",
            "\n",
            "=== Month 05 ===\n",
            "Downloading Temperature...\n"
          ]
        },
        {
          "output_type": "stream",
          "name": "stderr",
          "text": [
            "woa23_decav91C0_t05_01.nc: 100%|██████████| 57.7M/57.7M [00:00<00:00, 110MB/s]\n"
          ]
        },
        {
          "output_type": "stream",
          "name": "stdout",
          "text": [
            "\n",
            "Temperature (Month 05):\n",
            "Variables: ['crs', 'lat', 'lat_bnds', 'lon', 'lon_bnds', 'depth', 'depth_bnds', 'time', 'climatology_bounds', 't_an', 't_mn', 't_dd', 't_sd', 't_se', 't_oa', 't_ma', 't_gp', 't_sdo', 't_sea']\n",
            "Data without NaNs (2183675 rows):\n",
            "                                   t_an\n",
            "time       depth  lat   lon            \n",
            "2005-05-01 0.0    -77.5 -178.5 -1.83220\n",
            "                        -177.5 -1.83521\n",
            "                        -176.5 -1.83850\n",
            "                        -175.5 -1.84161\n",
            "                        -174.5 -1.84331\n",
            "...                                 ...\n",
            "           1500.0  89.5  175.5 -0.46671\n",
            "                         176.5 -0.46671\n",
            "                         177.5 -0.46671\n",
            "                         178.5 -0.46671\n",
            "                         179.5 -0.46671\n",
            "\n",
            "[2183675 rows x 1 columns]\n",
            "Downloading Salinity...\n"
          ]
        },
        {
          "output_type": "stream",
          "name": "stderr",
          "text": [
            "woa23_decav91C0_s05_01.nc: 100%|██████████| 51.2M/51.2M [00:00<00:00, 90.2MB/s]\n"
          ]
        },
        {
          "output_type": "stream",
          "name": "stdout",
          "text": [
            "\n",
            "Salinity (Month 05):\n",
            "Variables: ['crs', 'lat', 'lat_bnds', 'lon', 'lon_bnds', 'depth', 'depth_bnds', 'time', 'climatology_bounds', 's_an', 's_mn', 's_dd', 's_sd', 's_se', 's_oa', 's_ma', 's_gp', 's_sdo', 's_sea']\n",
            "Data without NaNs (2183675 rows):\n",
            "                                     s_an\n",
            "time       depth  lat   lon              \n",
            "2005-05-01 0.0    -77.5 -178.5  34.255711\n",
            "                        -177.5  34.236988\n",
            "                        -176.5  34.219090\n",
            "                        -175.5  34.201889\n",
            "                        -174.5  34.185310\n",
            "...                                   ...\n",
            "           1500.0  89.5  175.5  34.926590\n",
            "                         176.5  34.926590\n",
            "                         177.5  34.926590\n",
            "                         178.5  34.926590\n",
            "                         179.5  34.926590\n",
            "\n",
            "[2183675 rows x 1 columns]\n",
            "Downloading Oxygen...\n"
          ]
        },
        {
          "output_type": "stream",
          "name": "stderr",
          "text": [
            "woa23_all_o05_01.nc: 100%|██████████| 33.5M/33.5M [00:00<00:00, 81.5MB/s]\n"
          ]
        },
        {
          "output_type": "stream",
          "name": "stdout",
          "text": [
            "\n",
            "Oxygen (Month 05):\n",
            "Variables: ['crs', 'lat', 'lat_bnds', 'lon', 'lon_bnds', 'depth', 'depth_bnds', 'time', 'climatology_bounds', 'o_an', 'o_mn', 'o_dd', 'o_sd', 'o_se', 'o_oa', 'o_ma', 'o_gp', 'o_sea']\n",
            "Data without NaNs (2183675 rows):\n",
            "                                      o_an\n",
            "time       depth  lat   lon               \n",
            "1993-05-01 0.0    -77.5 -178.5  278.373840\n",
            "                        -177.5  278.606476\n",
            "                        -176.5  279.009949\n",
            "                        -175.5  281.473724\n",
            "                        -174.5  291.660858\n",
            "...                                    ...\n",
            "           1500.0  89.5  175.5  295.924530\n",
            "                         176.5  295.924530\n",
            "                         177.5  295.924530\n",
            "                         178.5  295.924530\n",
            "                         179.5  295.924530\n",
            "\n",
            "[2183675 rows x 1 columns]\n",
            "Downloading Nitrate...\n"
          ]
        },
        {
          "output_type": "stream",
          "name": "stderr",
          "text": [
            "woa23_all_n05_01.nc: 100%|██████████| 18.8M/18.8M [00:00<00:00, 74.0MB/s]\n"
          ]
        },
        {
          "output_type": "stream",
          "name": "stdout",
          "text": [
            "\n",
            "Nitrate (Month 05):\n",
            "Variables: ['crs', 'lat', 'lat_bnds', 'lon', 'lon_bnds', 'depth', 'depth_bnds', 'time', 'climatology_bounds', 'n_an', 'n_mn', 'n_dd', 'n_sd', 'n_se', 'n_oa', 'n_ma', 'n_gp', 'n_sea']\n",
            "Data without NaNs (1680367 rows):\n",
            "                                    n_an\n",
            "time       depth lat   lon              \n",
            "1993-05-01 0.0   -77.5 -178.5  24.328695\n",
            "                       -177.5  24.582172\n",
            "                       -176.5  24.815140\n",
            "                       -175.5  25.010792\n",
            "                       -174.5  25.158895\n",
            "...                                  ...\n",
            "           800.0  89.5  175.5  13.320745\n",
            "                        176.5  13.320745\n",
            "                        177.5  13.320745\n",
            "                        178.5  13.320745\n",
            "                        179.5  13.320745\n",
            "\n",
            "[1680367 rows x 1 columns]\n",
            "Downloading Phosphate...\n"
          ]
        },
        {
          "output_type": "stream",
          "name": "stderr",
          "text": [
            "woa23_all_p05_01.nc: 100%|██████████| 20.6M/20.6M [00:00<00:00, 77.9MB/s]\n"
          ]
        },
        {
          "output_type": "stream",
          "name": "stdout",
          "text": [
            "\n",
            "Phosphate (Month 05):\n",
            "Variables: ['crs', 'lat', 'lat_bnds', 'lon', 'lon_bnds', 'depth', 'depth_bnds', 'time', 'climatology_bounds', 'p_an', 'p_mn', 'p_dd', 'p_sd', 'p_se', 'p_oa', 'p_ma', 'p_gp', 'p_sea']\n",
            "Data without NaNs (1680367 rows):\n",
            "                                   p_an\n",
            "time       depth lat   lon             \n",
            "1993-05-01 0.0   -77.5 -178.5  2.112110\n",
            "                       -177.5  2.102006\n",
            "                       -176.5  2.091640\n",
            "                       -175.5  2.080475\n",
            "                       -174.5  2.068054\n",
            "...                                 ...\n",
            "           800.0  89.5  175.5  0.874401\n",
            "                        176.5  0.874401\n",
            "                        177.5  0.874401\n",
            "                        178.5  0.874401\n",
            "                        179.5  0.874401\n",
            "\n",
            "[1680367 rows x 1 columns]\n",
            "\n",
            "=== Month 06 ===\n",
            "Downloading Temperature...\n"
          ]
        },
        {
          "output_type": "stream",
          "name": "stderr",
          "text": [
            "woa23_decav91C0_t06_01.nc: 100%|██████████| 57.2M/57.2M [00:00<00:00, 90.9MB/s]\n"
          ]
        },
        {
          "output_type": "stream",
          "name": "stdout",
          "text": [
            "\n",
            "Temperature (Month 06):\n",
            "Variables: ['crs', 'lat', 'lat_bnds', 'lon', 'lon_bnds', 'depth', 'depth_bnds', 'time', 'climatology_bounds', 't_an', 't_mn', 't_dd', 't_sd', 't_se', 't_oa', 't_ma', 't_gp', 't_sdo', 't_sea']\n",
            "Data without NaNs (2183675 rows):\n",
            "                                   t_an\n",
            "time       depth  lat   lon            \n",
            "2005-06-01 0.0    -77.5 -178.5 -1.75131\n",
            "                        -177.5 -1.30181\n",
            "                        -176.5 -1.19850\n",
            "                        -175.5 -1.22721\n",
            "                        -174.5 -1.50421\n",
            "...                                 ...\n",
            "           1500.0  89.5  175.5 -0.44281\n",
            "                         176.5 -0.44281\n",
            "                         177.5 -0.44281\n",
            "                         178.5 -0.44281\n",
            "                         179.5 -0.44281\n",
            "\n",
            "[2183675 rows x 1 columns]\n",
            "Downloading Salinity...\n"
          ]
        },
        {
          "output_type": "stream",
          "name": "stderr",
          "text": [
            "woa23_decav91C0_s06_01.nc: 100%|██████████| 50.8M/50.8M [00:00<00:00, 95.2MB/s]\n"
          ]
        },
        {
          "output_type": "stream",
          "name": "stdout",
          "text": [
            "\n",
            "Salinity (Month 06):\n",
            "Variables: ['crs', 'lat', 'lat_bnds', 'lon', 'lon_bnds', 'depth', 'depth_bnds', 'time', 'climatology_bounds', 's_an', 's_mn', 's_dd', 's_sd', 's_se', 's_oa', 's_ma', 's_gp', 's_sdo', 's_sea']\n",
            "Data without NaNs (2183675 rows):\n",
            "                                     s_an\n",
            "time       depth  lat   lon              \n",
            "2005-06-01 0.0    -77.5 -178.5  34.400288\n",
            "                        -177.5  34.406990\n",
            "                        -176.5  34.396290\n",
            "                        -175.5  34.385311\n",
            "                        -174.5  34.364189\n",
            "...                                   ...\n",
            "           1500.0  89.5  175.5  34.943790\n",
            "                         176.5  34.943790\n",
            "                         177.5  34.943790\n",
            "                         178.5  34.943790\n",
            "                         179.5  34.943790\n",
            "\n",
            "[2183675 rows x 1 columns]\n",
            "Downloading Oxygen...\n"
          ]
        },
        {
          "output_type": "stream",
          "name": "stderr",
          "text": [
            "woa23_all_o06_01.nc: 100%|██████████| 33.1M/33.1M [00:00<00:00, 53.0MB/s]\n"
          ]
        },
        {
          "output_type": "stream",
          "name": "stdout",
          "text": [
            "\n",
            "Oxygen (Month 06):\n",
            "Variables: ['crs', 'lat', 'lat_bnds', 'lon', 'lon_bnds', 'depth', 'depth_bnds', 'time', 'climatology_bounds', 'o_an', 'o_mn', 'o_dd', 'o_sd', 'o_se', 'o_oa', 'o_ma', 'o_gp', 'o_sea']\n",
            "Data without NaNs (2183675 rows):\n",
            "                                      o_an\n",
            "time       depth  lat   lon               \n",
            "1993-06-01 0.0    -77.5 -178.5  298.321564\n",
            "                        -177.5  298.448395\n",
            "                        -176.5  298.704407\n",
            "                        -175.5  300.015564\n",
            "                        -174.5  299.995819\n",
            "...                                    ...\n",
            "           1500.0  89.5  175.5  299.277466\n",
            "                         176.5  299.277466\n",
            "                         177.5  299.277466\n",
            "                         178.5  299.277466\n",
            "                         179.5  299.277466\n",
            "\n",
            "[2183675 rows x 1 columns]\n",
            "Downloading Nitrate...\n"
          ]
        },
        {
          "output_type": "stream",
          "name": "stderr",
          "text": [
            "woa23_all_n06_01.nc: 100%|██████████| 18.1M/18.1M [00:00<00:00, 85.7MB/s]\n"
          ]
        },
        {
          "output_type": "stream",
          "name": "stdout",
          "text": [
            "\n",
            "Nitrate (Month 06):\n",
            "Variables: ['crs', 'lat', 'lat_bnds', 'lon', 'lon_bnds', 'depth', 'depth_bnds', 'time', 'climatology_bounds', 'n_an', 'n_mn', 'n_dd', 'n_sd', 'n_se', 'n_oa', 'n_ma', 'n_gp', 'n_sea']\n",
            "Data without NaNs (1680367 rows):\n",
            "                                    n_an\n",
            "time       depth lat   lon              \n",
            "1993-06-01 0.0   -77.5 -178.5  23.923925\n",
            "                       -177.5  24.177402\n",
            "                       -176.5  24.410370\n",
            "                       -175.5  24.606022\n",
            "                       -174.5  24.754126\n",
            "...                                  ...\n",
            "           800.0  89.5  175.5  13.342852\n",
            "                        176.5  13.342852\n",
            "                        177.5  13.342852\n",
            "                        178.5  13.342852\n",
            "                        179.5  13.342852\n",
            "\n",
            "[1680367 rows x 1 columns]\n",
            "Downloading Phosphate...\n"
          ]
        },
        {
          "output_type": "stream",
          "name": "stderr",
          "text": [
            "woa23_all_p06_01.nc: 100%|██████████| 20.1M/20.1M [00:02<00:00, 8.12MB/s]\n"
          ]
        },
        {
          "output_type": "stream",
          "name": "stdout",
          "text": [
            "\n",
            "Phosphate (Month 06):\n",
            "Variables: ['crs', 'lat', 'lat_bnds', 'lon', 'lon_bnds', 'depth', 'depth_bnds', 'time', 'climatology_bounds', 'p_an', 'p_mn', 'p_dd', 'p_sd', 'p_se', 'p_oa', 'p_ma', 'p_gp', 'p_sea']\n",
            "Data without NaNs (1680367 rows):\n",
            "                                   p_an\n",
            "time       depth lat   lon             \n",
            "1993-06-01 0.0   -77.5 -178.5  2.005820\n",
            "                       -177.5  1.995716\n",
            "                       -176.5  1.985350\n",
            "                       -175.5  1.974185\n",
            "                       -174.5  1.961764\n",
            "...                                 ...\n",
            "           800.0  89.5  175.5  1.041426\n",
            "                        176.5  1.041426\n",
            "                        177.5  1.041426\n",
            "                        178.5  1.041426\n",
            "                        179.5  1.041426\n",
            "\n",
            "[1680367 rows x 1 columns]\n",
            "\n",
            "=== Month 07 ===\n",
            "Downloading Temperature...\n"
          ]
        },
        {
          "output_type": "stream",
          "name": "stderr",
          "text": [
            "woa23_decav91C0_t07_01.nc: 100%|██████████| 57.7M/57.7M [00:00<00:00, 116MB/s]\n"
          ]
        },
        {
          "output_type": "stream",
          "name": "stdout",
          "text": [
            "\n",
            "Temperature (Month 07):\n",
            "Variables: ['crs', 'lat', 'lat_bnds', 'lon', 'lon_bnds', 'depth', 'depth_bnds', 'time', 'climatology_bounds', 't_an', 't_mn', 't_dd', 't_sd', 't_se', 't_oa', 't_ma', 't_gp', 't_sdo', 't_sea']\n",
            "Data without NaNs (2183675 rows):\n",
            "                                   t_an\n",
            "time       depth  lat   lon            \n",
            "2005-07-01 0.0    -77.5 -178.5 -1.79251\n",
            "                        -177.5 -1.78921\n",
            "                        -176.5 -1.78561\n",
            "                        -175.5 -1.78281\n",
            "                        -174.5 -1.78201\n",
            "...                                 ...\n",
            "           1500.0  89.5  175.5 -0.41821\n",
            "                         176.5 -0.41821\n",
            "                         177.5 -0.41821\n",
            "                         178.5 -0.41821\n",
            "                         179.5 -0.41821\n",
            "\n",
            "[2183675 rows x 1 columns]\n",
            "Downloading Salinity...\n"
          ]
        },
        {
          "output_type": "stream",
          "name": "stderr",
          "text": [
            "woa23_decav91C0_s07_01.nc: 100%|██████████| 51.2M/51.2M [00:00<00:00, 99.8MB/s]\n"
          ]
        },
        {
          "output_type": "stream",
          "name": "stdout",
          "text": [
            "\n",
            "Salinity (Month 07):\n",
            "Variables: ['crs', 'lat', 'lat_bnds', 'lon', 'lon_bnds', 'depth', 'depth_bnds', 'time', 'climatology_bounds', 's_an', 's_mn', 's_dd', 's_sd', 's_se', 's_oa', 's_ma', 's_gp', 's_sdo', 's_sea']\n",
            "Data without NaNs (2183675 rows):\n",
            "                                     s_an\n",
            "time       depth  lat   lon              \n",
            "2005-07-01 0.0    -77.5 -178.5  34.338287\n",
            "                        -177.5  34.337002\n",
            "                        -176.5  34.336510\n",
            "                        -175.5  34.337112\n",
            "                        -174.5  34.338612\n",
            "...                                   ...\n",
            "           1500.0  89.5  175.5  34.932110\n",
            "                         176.5  34.932110\n",
            "                         177.5  34.932110\n",
            "                         178.5  34.932110\n",
            "                         179.5  34.932110\n",
            "\n",
            "[2183675 rows x 1 columns]\n",
            "Downloading Oxygen...\n"
          ]
        },
        {
          "output_type": "stream",
          "name": "stderr",
          "text": [
            "woa23_all_o07_01.nc: 100%|██████████| 33.4M/33.4M [00:00<00:00, 88.9MB/s]\n"
          ]
        },
        {
          "output_type": "stream",
          "name": "stdout",
          "text": [
            "\n",
            "Oxygen (Month 07):\n",
            "Variables: ['crs', 'lat', 'lat_bnds', 'lon', 'lon_bnds', 'depth', 'depth_bnds', 'time', 'climatology_bounds', 'o_an', 'o_mn', 'o_dd', 'o_sd', 'o_se', 'o_oa', 'o_ma', 'o_gp', 'o_sea']\n",
            "Data without NaNs (2183675 rows):\n",
            "                                      o_an\n",
            "time       depth  lat   lon               \n",
            "1993-07-01 0.0    -77.5 -178.5  323.076172\n",
            "                        -177.5  322.707733\n",
            "                        -176.5  322.382660\n",
            "                        -175.5  322.119110\n",
            "                        -174.5  321.901581\n",
            "...                                    ...\n",
            "           1500.0  89.5  175.5  302.542450\n",
            "                         176.5  302.542450\n",
            "                         177.5  302.542450\n",
            "                         178.5  302.542450\n",
            "                         179.5  302.542450\n",
            "\n",
            "[2183675 rows x 1 columns]\n",
            "Downloading Nitrate...\n"
          ]
        },
        {
          "output_type": "stream",
          "name": "stderr",
          "text": [
            "woa23_all_n07_01.nc: 100%|██████████| 18.3M/18.3M [00:00<00:00, 72.8MB/s]\n"
          ]
        },
        {
          "output_type": "stream",
          "name": "stdout",
          "text": [
            "\n",
            "Nitrate (Month 07):\n",
            "Variables: ['crs', 'lat', 'lat_bnds', 'lon', 'lon_bnds', 'depth', 'depth_bnds', 'time', 'climatology_bounds', 'n_an', 'n_mn', 'n_dd', 'n_sd', 'n_se', 'n_oa', 'n_ma', 'n_gp', 'n_sea']\n",
            "Data without NaNs (1680367 rows):\n",
            "                                    n_an\n",
            "time       depth lat   lon              \n",
            "1993-07-01 0.0   -77.5 -178.5  16.778564\n",
            "                       -177.5  16.830948\n",
            "                       -176.5  16.856922\n",
            "                       -175.5  16.835907\n",
            "                       -174.5  16.756615\n",
            "...                                  ...\n",
            "           800.0  89.5  175.5  12.578201\n",
            "                        176.5  12.578201\n",
            "                        177.5  12.578201\n",
            "                        178.5  12.578201\n",
            "                        179.5  12.578201\n",
            "\n",
            "[1680367 rows x 1 columns]\n",
            "Downloading Phosphate...\n"
          ]
        },
        {
          "output_type": "stream",
          "name": "stderr",
          "text": [
            "woa23_all_p07_01.nc: 100%|██████████| 20.5M/20.5M [00:00<00:00, 77.4MB/s]\n"
          ]
        },
        {
          "output_type": "stream",
          "name": "stdout",
          "text": [
            "\n",
            "Phosphate (Month 07):\n",
            "Variables: ['crs', 'lat', 'lat_bnds', 'lon', 'lon_bnds', 'depth', 'depth_bnds', 'time', 'climatology_bounds', 'p_an', 'p_mn', 'p_dd', 'p_sd', 'p_se', 'p_oa', 'p_ma', 'p_gp', 'p_sea']\n",
            "Data without NaNs (1680367 rows):\n",
            "                                   p_an\n",
            "time       depth lat   lon             \n",
            "1993-07-01 0.0   -77.5 -178.5  1.446110\n",
            "                       -177.5  1.444828\n",
            "                       -176.5  1.442571\n",
            "                       -175.5  1.438780\n",
            "                       -174.5  1.433413\n",
            "...                                 ...\n",
            "           800.0  89.5  175.5  0.854086\n",
            "                        176.5  0.854086\n",
            "                        177.5  0.854086\n",
            "                        178.5  0.854086\n",
            "                        179.5  0.854086\n",
            "\n",
            "[1680367 rows x 1 columns]\n",
            "\n",
            "=== Month 08 ===\n",
            "Downloading Temperature...\n"
          ]
        },
        {
          "output_type": "stream",
          "name": "stderr",
          "text": [
            "woa23_decav91C0_t08_01.nc: 100%|██████████| 58.3M/58.3M [00:00<00:00, 118MB/s]\n"
          ]
        },
        {
          "output_type": "stream",
          "name": "stdout",
          "text": [
            "\n",
            "Temperature (Month 08):\n",
            "Variables: ['crs', 'lat', 'lat_bnds', 'lon', 'lon_bnds', 'depth', 'depth_bnds', 'time', 'climatology_bounds', 't_an', 't_mn', 't_dd', 't_sd', 't_se', 't_oa', 't_ma', 't_gp', 't_sdo', 't_sea']\n",
            "Data without NaNs (2183675 rows):\n",
            "                                   t_an\n",
            "time       depth  lat   lon            \n",
            "2005-08-01 0.0    -77.5 -178.5 -1.81151\n",
            "                        -177.5 -1.80951\n",
            "                        -176.5 -1.76711\n",
            "                        -175.5 -1.80271\n",
            "                        -174.5 -1.74051\n",
            "...                                 ...\n",
            "           1500.0  89.5  175.5 -0.47841\n",
            "                         176.5 -0.47841\n",
            "                         177.5 -0.47841\n",
            "                         178.5 -0.47841\n",
            "                         179.5 -0.47841\n",
            "\n",
            "[2183675 rows x 1 columns]\n",
            "Downloading Salinity...\n"
          ]
        },
        {
          "output_type": "stream",
          "name": "stderr",
          "text": [
            "woa23_decav91C0_s08_01.nc: 100%|██████████| 51.8M/51.8M [00:00<00:00, 89.2MB/s]\n"
          ]
        },
        {
          "output_type": "stream",
          "name": "stdout",
          "text": [
            "\n",
            "Salinity (Month 08):\n",
            "Variables: ['crs', 'lat', 'lat_bnds', 'lon', 'lon_bnds', 'depth', 'depth_bnds', 'time', 'climatology_bounds', 's_an', 's_mn', 's_dd', 's_sd', 's_se', 's_oa', 's_ma', 's_gp', 's_sdo', 's_sea']\n",
            "Data without NaNs (2183675 rows):\n",
            "                                     s_an\n",
            "time       depth  lat   lon              \n",
            "2005-08-01 0.0    -77.5 -178.5  34.386288\n",
            "                        -177.5  34.380413\n",
            "                        -176.5  34.375511\n",
            "                        -175.5  34.366787\n",
            "                        -174.5  34.360989\n",
            "...                                   ...\n",
            "           1500.0  89.5  175.5  34.917988\n",
            "                         176.5  34.917988\n",
            "                         177.5  34.917988\n",
            "                         178.5  34.917988\n",
            "                         179.5  34.917988\n",
            "\n",
            "[2183675 rows x 1 columns]\n",
            "Downloading Oxygen...\n"
          ]
        },
        {
          "output_type": "stream",
          "name": "stderr",
          "text": [
            "woa23_all_o08_01.nc: 100%|██████████| 34.0M/34.0M [00:00<00:00, 99.0MB/s]\n"
          ]
        },
        {
          "output_type": "stream",
          "name": "stdout",
          "text": [
            "\n",
            "Oxygen (Month 08):\n",
            "Variables: ['crs', 'lat', 'lat_bnds', 'lon', 'lon_bnds', 'depth', 'depth_bnds', 'time', 'climatology_bounds', 'o_an', 'o_mn', 'o_dd', 'o_sd', 'o_se', 'o_oa', 'o_ma', 'o_gp', 'o_sea']\n",
            "Data without NaNs (2183675 rows):\n",
            "                                      o_an\n",
            "time       depth  lat   lon               \n",
            "1993-08-01 0.0    -77.5 -178.5  322.052094\n",
            "                        -177.5  321.683655\n",
            "                        -176.5  321.358582\n",
            "                        -175.5  321.095032\n",
            "                        -174.5  320.877502\n",
            "...                                    ...\n",
            "           1500.0  89.5  175.5  300.967163\n",
            "                         176.5  300.967163\n",
            "                         177.5  300.967163\n",
            "                         178.5  300.967163\n",
            "                         179.5  300.967163\n",
            "\n",
            "[2183675 rows x 1 columns]\n",
            "Downloading Nitrate...\n"
          ]
        },
        {
          "output_type": "stream",
          "name": "stderr",
          "text": [
            "woa23_all_n08_01.nc: 100%|██████████| 18.9M/18.9M [00:00<00:00, 69.5MB/s]\n"
          ]
        },
        {
          "output_type": "stream",
          "name": "stdout",
          "text": [
            "\n",
            "Nitrate (Month 08):\n",
            "Variables: ['crs', 'lat', 'lat_bnds', 'lon', 'lon_bnds', 'depth', 'depth_bnds', 'time', 'climatology_bounds', 'n_an', 'n_mn', 'n_dd', 'n_sd', 'n_se', 'n_oa', 'n_ma', 'n_gp', 'n_sea']\n",
            "Data without NaNs (1680367 rows):\n",
            "                                    n_an\n",
            "time       depth lat   lon              \n",
            "1993-08-01 0.0   -77.5 -178.5  16.778564\n",
            "                       -177.5  16.830948\n",
            "                       -176.5  16.856922\n",
            "                       -175.5  16.835907\n",
            "                       -174.5  16.756615\n",
            "...                                  ...\n",
            "           800.0  89.5  175.5  12.566707\n",
            "                        176.5  12.566707\n",
            "                        177.5  12.566707\n",
            "                        178.5  12.566707\n",
            "                        179.5  12.566707\n",
            "\n",
            "[1680367 rows x 1 columns]\n",
            "Downloading Phosphate...\n"
          ]
        },
        {
          "output_type": "stream",
          "name": "stderr",
          "text": [
            "woa23_all_p08_01.nc: 100%|██████████| 20.9M/20.9M [00:00<00:00, 67.9MB/s]\n"
          ]
        },
        {
          "output_type": "stream",
          "name": "stdout",
          "text": [
            "\n",
            "Phosphate (Month 08):\n",
            "Variables: ['crs', 'lat', 'lat_bnds', 'lon', 'lon_bnds', 'depth', 'depth_bnds', 'time', 'climatology_bounds', 'p_an', 'p_mn', 'p_dd', 'p_sd', 'p_se', 'p_oa', 'p_ma', 'p_gp', 'p_sea']\n",
            "Data without NaNs (1680367 rows):\n",
            "                                   p_an\n",
            "time       depth lat   lon             \n",
            "1993-08-01 0.0   -77.5 -178.5  1.446110\n",
            "                       -177.5  1.444828\n",
            "                       -176.5  1.442571\n",
            "                       -175.5  1.438780\n",
            "                       -174.5  1.433413\n",
            "...                                 ...\n",
            "           800.0  89.5  175.5  0.881706\n",
            "                        176.5  0.881706\n",
            "                        177.5  0.881706\n",
            "                        178.5  0.881706\n",
            "                        179.5  0.881706\n",
            "\n",
            "[1680367 rows x 1 columns]\n",
            "\n",
            "=== Month 09 ===\n",
            "Downloading Temperature...\n"
          ]
        },
        {
          "output_type": "stream",
          "name": "stderr",
          "text": [
            "woa23_decav91C0_t09_01.nc: 100%|██████████| 58.2M/58.2M [00:00<00:00, 114MB/s]\n"
          ]
        },
        {
          "output_type": "stream",
          "name": "stdout",
          "text": [
            "\n",
            "Temperature (Month 09):\n",
            "Variables: ['crs', 'lat', 'lat_bnds', 'lon', 'lon_bnds', 'depth', 'depth_bnds', 'time', 'climatology_bounds', 't_an', 't_mn', 't_dd', 't_sd', 't_se', 't_oa', 't_ma', 't_gp', 't_sdo', 't_sea']\n",
            "Data without NaNs (2183675 rows):\n",
            "                                   t_an\n",
            "time       depth  lat   lon            \n",
            "2005-09-01 0.0    -77.5 -178.5 -1.74761\n",
            "                        -177.5 -1.64310\n",
            "                        -176.5 -1.67291\n",
            "                        -175.5 -1.70721\n",
            "                        -174.5 -1.81940\n",
            "...                                 ...\n",
            "           1500.0  89.5  175.5 -0.45980\n",
            "                         176.5 -0.45980\n",
            "                         177.5 -0.45980\n",
            "                         178.5 -0.45980\n",
            "                         179.5 -0.45980\n",
            "\n",
            "[2183675 rows x 1 columns]\n",
            "Downloading Salinity...\n"
          ]
        },
        {
          "output_type": "stream",
          "name": "stderr",
          "text": [
            "woa23_decav91C0_s09_01.nc: 100%|██████████| 51.9M/51.9M [00:00<00:00, 89.6MB/s]\n"
          ]
        },
        {
          "output_type": "stream",
          "name": "stdout",
          "text": [
            "\n",
            "Salinity (Month 09):\n",
            "Variables: ['crs', 'lat', 'lat_bnds', 'lon', 'lon_bnds', 'depth', 'depth_bnds', 'time', 'climatology_bounds', 's_an', 's_mn', 's_dd', 's_sd', 's_se', 's_oa', 's_ma', 's_gp', 's_sdo', 's_sea']\n",
            "Data without NaNs (2183675 rows):\n",
            "                                     s_an\n",
            "time       depth  lat   lon              \n",
            "2005-09-01 0.0    -77.5 -178.5  34.398998\n",
            "                        -177.5  34.394287\n",
            "                        -176.5  34.385612\n",
            "                        -175.5  34.375690\n",
            "                        -174.5  34.366913\n",
            "...                                   ...\n",
            "           1500.0  89.5  175.5  34.921112\n",
            "                         176.5  34.921112\n",
            "                         177.5  34.921112\n",
            "                         178.5  34.921112\n",
            "                         179.5  34.921112\n",
            "\n",
            "[2183675 rows x 1 columns]\n",
            "Downloading Oxygen...\n"
          ]
        },
        {
          "output_type": "stream",
          "name": "stderr",
          "text": [
            "woa23_all_o09_01.nc: 100%|██████████| 33.4M/33.4M [00:00<00:00, 91.1MB/s]\n"
          ]
        },
        {
          "output_type": "stream",
          "name": "stdout",
          "text": [
            "\n",
            "Oxygen (Month 09):\n",
            "Variables: ['crs', 'lat', 'lat_bnds', 'lon', 'lon_bnds', 'depth', 'depth_bnds', 'time', 'climatology_bounds', 'o_an', 'o_mn', 'o_dd', 'o_sd', 'o_se', 'o_oa', 'o_ma', 'o_gp', 'o_sea']\n",
            "Data without NaNs (2183675 rows):\n",
            "                                      o_an\n",
            "time       depth  lat   lon               \n",
            "1993-09-01 0.0    -77.5 -178.5  322.052094\n",
            "                        -177.5  321.683655\n",
            "                        -176.5  321.358582\n",
            "                        -175.5  321.095032\n",
            "                        -174.5  320.877502\n",
            "...                                    ...\n",
            "           1500.0  89.5  175.5  300.266327\n",
            "                         176.5  300.266327\n",
            "                         177.5  300.266327\n",
            "                         178.5  300.266327\n",
            "                         179.5  300.266327\n",
            "\n",
            "[2183675 rows x 1 columns]\n",
            "Downloading Nitrate...\n"
          ]
        },
        {
          "output_type": "stream",
          "name": "stderr",
          "text": [
            "woa23_all_n09_01.nc: 100%|██████████| 18.6M/18.6M [00:00<00:00, 74.5MB/s]\n"
          ]
        },
        {
          "output_type": "stream",
          "name": "stdout",
          "text": [
            "\n",
            "Nitrate (Month 09):\n",
            "Variables: ['crs', 'lat', 'lat_bnds', 'lon', 'lon_bnds', 'depth', 'depth_bnds', 'time', 'climatology_bounds', 'n_an', 'n_mn', 'n_dd', 'n_sd', 'n_se', 'n_oa', 'n_ma', 'n_gp', 'n_sea']\n",
            "Data without NaNs (1680367 rows):\n",
            "                                    n_an\n",
            "time       depth lat   lon              \n",
            "1993-09-01 0.0   -77.5 -178.5  16.778564\n",
            "                       -177.5  16.830948\n",
            "                       -176.5  16.856922\n",
            "                       -175.5  16.835907\n",
            "                       -174.5  16.756615\n",
            "...                                  ...\n",
            "           800.0  89.5  175.5  12.412371\n",
            "                        176.5  12.412371\n",
            "                        177.5  12.412371\n",
            "                        178.5  12.412371\n",
            "                        179.5  12.412371\n",
            "\n",
            "[1680367 rows x 1 columns]\n",
            "Downloading Phosphate...\n"
          ]
        },
        {
          "output_type": "stream",
          "name": "stderr",
          "text": [
            "woa23_all_p09_01.nc: 100%|██████████| 20.4M/20.4M [00:00<00:00, 81.8MB/s]\n"
          ]
        },
        {
          "output_type": "stream",
          "name": "stdout",
          "text": [
            "\n",
            "Phosphate (Month 09):\n",
            "Variables: ['crs', 'lat', 'lat_bnds', 'lon', 'lon_bnds', 'depth', 'depth_bnds', 'time', 'climatology_bounds', 'p_an', 'p_mn', 'p_dd', 'p_sd', 'p_se', 'p_oa', 'p_ma', 'p_gp', 'p_sea']\n",
            "Data without NaNs (1680367 rows):\n",
            "                                   p_an\n",
            "time       depth lat   lon             \n",
            "1993-09-01 0.0   -77.5 -178.5  1.446110\n",
            "                       -177.5  1.444828\n",
            "                       -176.5  1.442571\n",
            "                       -175.5  1.438780\n",
            "                       -174.5  1.433413\n",
            "...                                 ...\n",
            "           800.0  89.5  175.5  0.852969\n",
            "                        176.5  0.852969\n",
            "                        177.5  0.852969\n",
            "                        178.5  0.852969\n",
            "                        179.5  0.852969\n",
            "\n",
            "[1680367 rows x 1 columns]\n",
            "\n",
            "=== Month 10 ===\n",
            "Downloading Temperature...\n"
          ]
        },
        {
          "output_type": "stream",
          "name": "stderr",
          "text": [
            "woa23_decav91C0_t10_01.nc: 100%|██████████| 57.7M/57.7M [00:00<00:00, 109MB/s]\n"
          ]
        },
        {
          "output_type": "stream",
          "name": "stdout",
          "text": [
            "\n",
            "Temperature (Month 10):\n",
            "Variables: ['crs', 'lat', 'lat_bnds', 'lon', 'lon_bnds', 'depth', 'depth_bnds', 'time', 'climatology_bounds', 't_an', 't_mn', 't_dd', 't_sd', 't_se', 't_oa', 't_ma', 't_gp', 't_sdo', 't_sea']\n",
            "Data without NaNs (2183675 rows):\n",
            "                                   t_an\n",
            "time       depth  lat   lon            \n",
            "2005-10-01 0.0    -77.5 -178.5 -1.68290\n",
            "                        -177.5 -1.79661\n",
            "                        -176.5 -1.79651\n",
            "                        -175.5 -1.53950\n",
            "                        -174.5 -1.79851\n",
            "...                                 ...\n",
            "           1500.0  89.5  175.5 -0.38910\n",
            "                         176.5 -0.38910\n",
            "                         177.5 -0.38910\n",
            "                         178.5 -0.38910\n",
            "                         179.5 -0.38910\n",
            "\n",
            "[2183675 rows x 1 columns]\n",
            "Downloading Salinity...\n"
          ]
        },
        {
          "output_type": "stream",
          "name": "stderr",
          "text": [
            "woa23_decav91C0_s10_01.nc: 100%|██████████| 51.5M/51.5M [00:00<00:00, 113MB/s]\n"
          ]
        },
        {
          "output_type": "stream",
          "name": "stdout",
          "text": [
            "\n",
            "Salinity (Month 10):\n",
            "Variables: ['crs', 'lat', 'lat_bnds', 'lon', 'lon_bnds', 'depth', 'depth_bnds', 'time', 'climatology_bounds', 's_an', 's_mn', 's_dd', 's_sd', 's_se', 's_oa', 's_ma', 's_gp', 's_sdo', 's_sea']\n",
            "Data without NaNs (2183675 rows):\n",
            "                                     s_an\n",
            "time       depth  lat   lon              \n",
            "2005-10-01 0.0    -77.5 -178.5  34.443111\n",
            "                        -177.5  34.429012\n",
            "                        -176.5  34.415699\n",
            "                        -175.5  34.412510\n",
            "                        -174.5  34.390911\n",
            "...                                   ...\n",
            "           1500.0  89.5  175.5  34.957310\n",
            "                         176.5  34.957310\n",
            "                         177.5  34.957310\n",
            "                         178.5  34.957310\n",
            "                         179.5  34.957310\n",
            "\n",
            "[2183675 rows x 1 columns]\n",
            "Downloading Oxygen...\n"
          ]
        },
        {
          "output_type": "stream",
          "name": "stderr",
          "text": [
            "woa23_all_o10_01.nc: 100%|██████████| 32.8M/32.8M [00:00<00:00, 89.9MB/s]\n"
          ]
        },
        {
          "output_type": "stream",
          "name": "stdout",
          "text": [
            "\n",
            "Oxygen (Month 10):\n",
            "Variables: ['crs', 'lat', 'lat_bnds', 'lon', 'lon_bnds', 'depth', 'depth_bnds', 'time', 'climatology_bounds', 'o_an', 'o_mn', 'o_dd', 'o_sd', 'o_se', 'o_oa', 'o_ma', 'o_gp', 'o_sea']\n",
            "Data without NaNs (2183675 rows):\n",
            "                                      o_an\n",
            "time       depth  lat   lon               \n",
            "1993-10-01 0.0    -77.5 -178.5  291.698853\n",
            "                        -177.5  293.346008\n",
            "                        -176.5  295.065796\n",
            "                        -175.5  296.945251\n",
            "                        -174.5  298.960449\n",
            "...                                    ...\n",
            "           1500.0  89.5  175.5  302.927917\n",
            "                         176.5  302.927917\n",
            "                         177.5  302.927917\n",
            "                         178.5  302.927917\n",
            "                         179.5  302.927917\n",
            "\n",
            "[2183675 rows x 1 columns]\n",
            "Downloading Nitrate...\n"
          ]
        },
        {
          "output_type": "stream",
          "name": "stderr",
          "text": [
            "woa23_all_n10_01.nc: 100%|██████████| 18.3M/18.3M [00:00<00:00, 76.2MB/s]\n"
          ]
        },
        {
          "output_type": "stream",
          "name": "stdout",
          "text": [
            "\n",
            "Nitrate (Month 10):\n",
            "Variables: ['crs', 'lat', 'lat_bnds', 'lon', 'lon_bnds', 'depth', 'depth_bnds', 'time', 'climatology_bounds', 'n_an', 'n_mn', 'n_dd', 'n_sd', 'n_se', 'n_oa', 'n_ma', 'n_gp', 'n_sea']\n",
            "Data without NaNs (1680367 rows):\n",
            "                                    n_an\n",
            "time       depth lat   lon              \n",
            "1993-10-01 0.0   -77.5 -178.5  27.494480\n",
            "                       -177.5  27.654556\n",
            "                       -176.5  27.791430\n",
            "                       -175.5  27.865553\n",
            "                       -174.5  27.845623\n",
            "...                                  ...\n",
            "           800.0  89.5  175.5  12.469302\n",
            "                        176.5  12.469302\n",
            "                        177.5  12.469302\n",
            "                        178.5  12.469302\n",
            "                        179.5  12.469302\n",
            "\n",
            "[1680367 rows x 1 columns]\n",
            "Downloading Phosphate...\n"
          ]
        },
        {
          "output_type": "stream",
          "name": "stderr",
          "text": [
            "woa23_all_p10_01.nc: 100%|██████████| 20.3M/20.3M [00:00<00:00, 64.3MB/s]\n"
          ]
        },
        {
          "output_type": "stream",
          "name": "stdout",
          "text": [
            "\n",
            "Phosphate (Month 10):\n",
            "Variables: ['crs', 'lat', 'lat_bnds', 'lon', 'lon_bnds', 'depth', 'depth_bnds', 'time', 'climatology_bounds', 'p_an', 'p_mn', 'p_dd', 'p_sd', 'p_se', 'p_oa', 'p_ma', 'p_gp', 'p_sea']\n",
            "Data without NaNs (1680367 rows):\n",
            "                                   p_an\n",
            "time       depth lat   lon             \n",
            "1993-10-01 0.0   -77.5 -178.5  2.019446\n",
            "                       -177.5  2.011551\n",
            "                       -176.5  2.005416\n",
            "                       -175.5  2.001325\n",
            "                       -174.5  1.999325\n",
            "...                                 ...\n",
            "           800.0  89.5  175.5  0.774717\n",
            "                        176.5  0.774717\n",
            "                        177.5  0.774717\n",
            "                        178.5  0.774717\n",
            "                        179.5  0.774717\n",
            "\n",
            "[1680367 rows x 1 columns]\n",
            "\n",
            "=== Month 11 ===\n",
            "Downloading Temperature...\n"
          ]
        },
        {
          "output_type": "stream",
          "name": "stderr",
          "text": [
            "woa23_decav91C0_t11_01.nc: 100%|██████████| 57.1M/57.1M [00:00<00:00, 108MB/s]\n"
          ]
        },
        {
          "output_type": "stream",
          "name": "stdout",
          "text": [
            "\n",
            "Temperature (Month 11):\n",
            "Variables: ['crs', 'lat', 'lat_bnds', 'lon', 'lon_bnds', 'depth', 'depth_bnds', 'time', 'climatology_bounds', 't_an', 't_mn', 't_dd', 't_sd', 't_se', 't_oa', 't_ma', 't_gp', 't_sdo', 't_sea']\n",
            "Data without NaNs (2183675 rows):\n",
            "                                   t_an\n",
            "time       depth  lat   lon            \n",
            "2005-11-01 0.0    -77.5 -178.5 -1.58901\n",
            "                        -177.5 -1.59781\n",
            "                        -176.5 -1.59571\n",
            "                        -175.5 -1.59211\n",
            "                        -174.5 -1.58651\n",
            "...                                 ...\n",
            "           1500.0  89.5  175.5 -0.42461\n",
            "                         176.5 -0.42461\n",
            "                         177.5 -0.42461\n",
            "                         178.5 -0.42461\n",
            "                         179.5 -0.42461\n",
            "\n",
            "[2183675 rows x 1 columns]\n",
            "Downloading Salinity...\n"
          ]
        },
        {
          "output_type": "stream",
          "name": "stderr",
          "text": [
            "woa23_decav91C0_s11_01.nc: 100%|██████████| 50.8M/50.8M [00:00<00:00, 94.6MB/s]\n"
          ]
        },
        {
          "output_type": "stream",
          "name": "stdout",
          "text": [
            "\n",
            "Salinity (Month 11):\n",
            "Variables: ['crs', 'lat', 'lat_bnds', 'lon', 'lon_bnds', 'depth', 'depth_bnds', 'time', 'climatology_bounds', 's_an', 's_mn', 's_dd', 's_sd', 's_se', 's_oa', 's_ma', 's_gp', 's_sdo', 's_sea']\n",
            "Data without NaNs (2183675 rows):\n",
            "                                     s_an\n",
            "time       depth  lat   lon              \n",
            "2005-11-01 0.0    -77.5 -178.5  34.307388\n",
            "                        -177.5  34.298100\n",
            "                        -176.5  34.286690\n",
            "                        -175.5  34.276810\n",
            "                        -174.5  34.269001\n",
            "...                                   ...\n",
            "           1500.0  89.5  175.5  34.975101\n",
            "                         176.5  34.975101\n",
            "                         177.5  34.975101\n",
            "                         178.5  34.975101\n",
            "                         179.5  34.975101\n",
            "\n",
            "[2183675 rows x 1 columns]\n",
            "Downloading Oxygen...\n"
          ]
        },
        {
          "output_type": "stream",
          "name": "stderr",
          "text": [
            "woa23_all_o11_01.nc: 100%|██████████| 32.5M/32.5M [00:00<00:00, 91.9MB/s]\n"
          ]
        },
        {
          "output_type": "stream",
          "name": "stdout",
          "text": [
            "\n",
            "Oxygen (Month 11):\n",
            "Variables: ['crs', 'lat', 'lat_bnds', 'lon', 'lon_bnds', 'depth', 'depth_bnds', 'time', 'climatology_bounds', 'o_an', 'o_mn', 'o_dd', 'o_sd', 'o_se', 'o_oa', 'o_ma', 'o_gp', 'o_sea']\n",
            "Data without NaNs (2183675 rows):\n",
            "                                      o_an\n",
            "time       depth  lat   lon               \n",
            "1993-11-01 0.0    -77.5 -178.5  319.545593\n",
            "                        -177.5  320.496521\n",
            "                        -176.5  321.518555\n",
            "                        -175.5  322.700012\n",
            "                        -174.5  324.027527\n",
            "...                                    ...\n",
            "           1500.0  89.5  175.5  303.372620\n",
            "                         176.5  303.372620\n",
            "                         177.5  303.372620\n",
            "                         178.5  303.372620\n",
            "                         179.5  303.372620\n",
            "\n",
            "[2183675 rows x 1 columns]\n",
            "Downloading Nitrate...\n"
          ]
        },
        {
          "output_type": "stream",
          "name": "stderr",
          "text": [
            "woa23_all_n11_01.nc: 100%|██████████| 18.1M/18.1M [00:00<00:00, 68.6MB/s]\n"
          ]
        },
        {
          "output_type": "stream",
          "name": "stdout",
          "text": [
            "\n",
            "Nitrate (Month 11):\n",
            "Variables: ['crs', 'lat', 'lat_bnds', 'lon', 'lon_bnds', 'depth', 'depth_bnds', 'time', 'climatology_bounds', 'n_an', 'n_mn', 'n_dd', 'n_sd', 'n_se', 'n_oa', 'n_ma', 'n_gp', 'n_sea']\n",
            "Data without NaNs (1680367 rows):\n",
            "                                    n_an\n",
            "time       depth lat   lon              \n",
            "1993-11-01 0.0   -77.5 -178.5  24.986523\n",
            "                       -177.5  25.148613\n",
            "                       -176.5  25.281414\n",
            "                       -175.5  25.344009\n",
            "                       -174.5  25.300533\n",
            "...                                  ...\n",
            "           800.0  89.5  175.5  12.299321\n",
            "                        176.5  12.299321\n",
            "                        177.5  12.299321\n",
            "                        178.5  12.299321\n",
            "                        179.5  12.299321\n",
            "\n",
            "[1680367 rows x 1 columns]\n",
            "Downloading Phosphate...\n"
          ]
        },
        {
          "output_type": "stream",
          "name": "stderr",
          "text": [
            "woa23_all_p11_01.nc: 100%|██████████| 20.0M/20.0M [00:00<00:00, 60.3MB/s]\n"
          ]
        },
        {
          "output_type": "stream",
          "name": "stdout",
          "text": [
            "\n",
            "Phosphate (Month 11):\n",
            "Variables: ['crs', 'lat', 'lat_bnds', 'lon', 'lon_bnds', 'depth', 'depth_bnds', 'time', 'climatology_bounds', 'p_an', 'p_mn', 'p_dd', 'p_sd', 'p_se', 'p_oa', 'p_ma', 'p_gp', 'p_sea']\n",
            "Data without NaNs (1680367 rows):\n",
            "                                   p_an\n",
            "time       depth lat   lon             \n",
            "1993-11-01 0.0   -77.5 -178.5  1.847189\n",
            "                       -177.5  1.838666\n",
            "                       -176.5  1.831358\n",
            "                       -175.5  1.825870\n",
            "                       -174.5  1.821605\n",
            "...                                 ...\n",
            "           800.0  89.5  175.5  0.730582\n",
            "                        176.5  0.730582\n",
            "                        177.5  0.730582\n",
            "                        178.5  0.730582\n",
            "                        179.5  0.730582\n",
            "\n",
            "[1680367 rows x 1 columns]\n",
            "\n",
            "=== Month 12 ===\n",
            "Downloading Temperature...\n"
          ]
        },
        {
          "output_type": "stream",
          "name": "stderr",
          "text": [
            "woa23_decav91C0_t12_01.nc: 100%|██████████| 57.2M/57.2M [00:00<00:00, 114MB/s]\n"
          ]
        },
        {
          "output_type": "stream",
          "name": "stdout",
          "text": [
            "\n",
            "Temperature (Month 12):\n",
            "Variables: ['crs', 'lat', 'lat_bnds', 'lon', 'lon_bnds', 'depth', 'depth_bnds', 'time', 'climatology_bounds', 't_an', 't_mn', 't_dd', 't_sd', 't_se', 't_oa', 't_ma', 't_gp', 't_sdo', 't_sea']\n",
            "Data without NaNs (2183675 rows):\n",
            "                                   t_an\n",
            "time       depth  lat   lon            \n",
            "2005-12-01 0.0    -77.5 -178.5 -0.63651\n",
            "                        -177.5 -0.68101\n",
            "                        -176.5 -0.72211\n",
            "                        -175.5 -0.75991\n",
            "                        -174.5 -0.79591\n",
            "...                                 ...\n",
            "           1500.0  89.5  175.5 -0.49711\n",
            "                         176.5 -0.49711\n",
            "                         177.5 -0.49711\n",
            "                         178.5 -0.49711\n",
            "                         179.5 -0.49711\n",
            "\n",
            "[2183675 rows x 1 columns]\n",
            "Downloading Salinity...\n"
          ]
        },
        {
          "output_type": "stream",
          "name": "stderr",
          "text": [
            "woa23_decav91C0_s12_01.nc: 100%|██████████| 50.9M/50.9M [00:00<00:00, 112MB/s]\n"
          ]
        },
        {
          "output_type": "stream",
          "name": "stdout",
          "text": [
            "\n",
            "Salinity (Month 12):\n",
            "Variables: ['crs', 'lat', 'lat_bnds', 'lon', 'lon_bnds', 'depth', 'depth_bnds', 'time', 'climatology_bounds', 's_an', 's_mn', 's_dd', 's_sd', 's_se', 's_oa', 's_ma', 's_gp', 's_sdo', 's_sea']\n",
            "Data without NaNs (2183675 rows):\n",
            "                                     s_an\n",
            "time       depth  lat   lon              \n",
            "2005-12-01 0.0    -77.5 -178.5  34.207188\n",
            "                        -177.5  34.183510\n",
            "                        -176.5  34.159988\n",
            "                        -175.5  34.138790\n",
            "                        -174.5  34.119587\n",
            "...                                   ...\n",
            "           1500.0  89.5  175.5  34.962200\n",
            "                         176.5  34.962200\n",
            "                         177.5  34.962200\n",
            "                         178.5  34.962200\n",
            "                         179.5  34.962200\n",
            "\n",
            "[2183675 rows x 1 columns]\n",
            "Downloading Oxygen...\n"
          ]
        },
        {
          "output_type": "stream",
          "name": "stderr",
          "text": [
            "woa23_all_o12_01.nc: 100%|██████████| 32.2M/32.2M [00:00<00:00, 93.5MB/s]\n"
          ]
        },
        {
          "output_type": "stream",
          "name": "stdout",
          "text": [
            "\n",
            "Oxygen (Month 12):\n",
            "Variables: ['crs', 'lat', 'lat_bnds', 'lon', 'lon_bnds', 'depth', 'depth_bnds', 'time', 'climatology_bounds', 'o_an', 'o_mn', 'o_dd', 'o_sd', 'o_se', 'o_oa', 'o_ma', 'o_gp', 'o_sea']\n",
            "Data without NaNs (2183675 rows):\n",
            "                                      o_an\n",
            "time       depth  lat   lon               \n",
            "1993-12-01 0.0    -77.5 -178.5  380.080170\n",
            "                        -177.5  379.472443\n",
            "                        -176.5  378.745209\n",
            "                        -175.5  378.228729\n",
            "                        -174.5  377.659607\n",
            "...                                    ...\n",
            "           1500.0  89.5  175.5  297.694733\n",
            "                         176.5  297.694733\n",
            "                         177.5  297.694733\n",
            "                         178.5  297.694733\n",
            "                         179.5  297.694733\n",
            "\n",
            "[2183675 rows x 1 columns]\n",
            "Downloading Nitrate...\n"
          ]
        },
        {
          "output_type": "stream",
          "name": "stderr",
          "text": [
            "woa23_all_n12_01.nc: 100%|██████████| 18.2M/18.2M [00:00<00:00, 55.9MB/s]\n"
          ]
        },
        {
          "output_type": "stream",
          "name": "stdout",
          "text": [
            "\n",
            "Nitrate (Month 12):\n",
            "Variables: ['crs', 'lat', 'lat_bnds', 'lon', 'lon_bnds', 'depth', 'depth_bnds', 'time', 'climatology_bounds', 'n_an', 'n_mn', 'n_dd', 'n_sd', 'n_se', 'n_oa', 'n_ma', 'n_gp', 'n_sea']\n",
            "Data without NaNs (1680367 rows):\n",
            "                                    n_an\n",
            "time       depth lat   lon              \n",
            "1993-12-01 0.0   -77.5 -178.5  14.865408\n",
            "                       -177.5  14.976521\n",
            "                       -176.5  15.049278\n",
            "                       -175.5  15.053966\n",
            "                       -174.5  14.934766\n",
            "...                                  ...\n",
            "           800.0  89.5  175.5  12.129090\n",
            "                        176.5  12.129090\n",
            "                        177.5  12.129090\n",
            "                        178.5  12.129090\n",
            "                        179.5  12.129090\n",
            "\n",
            "[1680367 rows x 1 columns]\n",
            "Downloading Phosphate...\n"
          ]
        },
        {
          "output_type": "stream",
          "name": "stderr",
          "text": [
            "woa23_all_p12_01.nc: 100%|██████████| 20.0M/20.0M [00:00<00:00, 76.8MB/s]\n"
          ]
        },
        {
          "output_type": "stream",
          "name": "stdout",
          "text": [
            "\n",
            "Phosphate (Month 12):\n",
            "Variables: ['crs', 'lat', 'lat_bnds', 'lon', 'lon_bnds', 'depth', 'depth_bnds', 'time', 'climatology_bounds', 'p_an', 'p_mn', 'p_dd', 'p_sd', 'p_se', 'p_oa', 'p_ma', 'p_gp', 'p_sea']\n",
            "Data without NaNs (1680367 rows):\n",
            "                                   p_an\n",
            "time       depth lat   lon             \n",
            "1993-12-01 0.0   -77.5 -178.5  1.345868\n",
            "                       -177.5  1.342871\n",
            "                       -176.5  1.341775\n",
            "                       -175.5  1.343025\n",
            "                       -174.5  1.346306\n",
            "...                                 ...\n",
            "           800.0  89.5  175.5  0.805623\n",
            "                        176.5  0.805623\n",
            "                        177.5  0.805623\n",
            "                        178.5  0.805623\n",
            "                        179.5  0.805623\n",
            "\n",
            "[1680367 rows x 1 columns]\n",
            "\n",
            "All monthly data processed!\n"
          ]
        }
      ]
    },
    {
      "cell_type": "markdown",
      "source": [
        "https://www.ncei.noaa.gov/data/oceans/woa/WOA23/DOCUMENTATION/WOA23_Product_Documentation.pdf"
      ],
      "metadata": {
        "id": "tYgJMT41V_7J"
      }
    },
    {
      "cell_type": "markdown",
      "source": [
        "![image.png](data:image/png;base64,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)"
      ],
      "metadata": {
        "id": "FGdCrdGlV1gp"
      }
    }
  ]
}